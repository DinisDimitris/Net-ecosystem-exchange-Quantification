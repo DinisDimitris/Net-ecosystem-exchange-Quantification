{
 "cells": [
  {
   "cell_type": "code",
   "execution_count": 1,
   "id": "96ccd5cc-6a2a-44fb-b27b-17ace4b87d62",
   "metadata": {
    "tags": []
   },
   "outputs": [],
   "source": [
    "import pandas as pd\n",
    "import xgboost as xg\n",
    "from sklearn.model_selection import train_test_split\n",
    "from sklearn.metrics import r2_score as R2\n",
    "from sklearn.metrics import mean_squared_error as MSE\n",
    "from sklearn.multioutput import MultiOutputRegressor\n",
    "from sklearn import preprocessing\n",
    "import numpy as np\n",
    "import matplotlib.pyplot as plt\n",
    "import os\n",
    "from functools import reduce\n",
    "\n",
    "import warnings\n",
    "warnings.filterwarnings('ignore')"
   ]
  },
  {
   "cell_type": "code",
   "execution_count": 2,
   "id": "d88f198d-7f88-4fc3-a4f9-c11c6dcc7c18",
   "metadata": {
    "tags": []
   },
   "outputs": [],
   "source": [
    "target = 'NEE'\n",
    "\n",
    "model = ['rcef_RandomForestRegressor', 'rcef_RidgeCV', 'rcef_XGBRegressor', 'xgboost'] \n",
    "\n",
    "extracted_features = model[-1]"
   ]
  },
  {
   "cell_type": "code",
   "execution_count": 3,
   "id": "7e13b1bc-5bdb-4ca6-91de-70d8998492e1",
   "metadata": {
    "tags": []
   },
   "outputs": [],
   "source": [
    "# loads all data sets into a dict\n",
    "def load_datasets(dirs: list, load_path: str) -> dict:\n",
    "    files = ['soil_c','surf_water','flux_soc','soil_water','n_flux','p_flux','temp', \n",
    "         'plant_c','plant_n','plant_p','canopcy_c','plant_stress','photosynthesis','plant_growth']\n",
    "    \n",
    "    #files.append('soil_temp', 'canopy_temp') missing \n",
    "    datasets = {}\n",
    "    \n",
    "    for dr in dirs:\n",
    "        csv_list = []\n",
    "        path = 'datasets/' + dr + load_path\n",
    "        for f in files:\n",
    "            df = pd.read_csv(os.path.join(path,f + '.csv'))\n",
    "            df.drop(df.columns[0], axis=1)\n",
    "\n",
    "            csv_list.append(df)\n",
    "\n",
    "\n",
    "        data_dict = {}\n",
    "        for i in range (len(csv_list)):\n",
    "            data_dict[files[i]] = csv_list[i]\n",
    "\n",
    "        datasets[dr] = data_dict\n",
    "\n",
    "    return datasets\n",
    "\n",
    "dirs = ['warm_temp_maize_soybean_irrigated', 'warm_temp_maize-soybean_dryland', 'cool_temp_maize_soybean']\n",
    "\n",
    "datasets = load_datasets(dirs, '/csv_outs/with_plant_soil_details/')"
   ]
  },
  {
   "cell_type": "code",
   "execution_count": 4,
   "id": "45ca3fd0-c0a6-43e9-a1e2-b98441862d41",
   "metadata": {
    "tags": []
   },
   "outputs": [],
   "source": [
    "def rename_dupes(suffix: str, df: pd.DataFrame, dupes: list) -> pd.DataFrame:\n",
    "    for col in df.columns:\n",
    "        if col in dupes:\n",
    "            df.rename(columns={col: col + suffix}, inplace=True)\n",
    "    return df\n",
    "\n",
    "def average_numbered_columns(df):\n",
    "    numbered_cols = [col for col in df.columns if '_' in col and col.split('_')[-1].isdigit()]\n",
    "\n",
    "    col_groups = {}\n",
    "    for col in numbered_cols:\n",
    "        prefix = '_'.join(col.split('_')[:-1])\n",
    "        if prefix not in col_groups:\n",
    "            col_groups[prefix] = []\n",
    "        col_groups[prefix].append(col)\n",
    "\n",
    "    # calculate averages and add new columns\n",
    "    for prefix, cols in col_groups.items():\n",
    "        avg_col_name = prefix\n",
    "        avg_col_values = df[cols].mean(axis=1)\n",
    "        df[avg_col_name] = avg_col_values\n",
    "\n",
    "    # drop numbered columns\n",
    "    df = df.drop(columns=numbered_cols)\n",
    "\n",
    "    return df\n",
    "\n",
    "def nee_cumulative_to_daily(df: pd.DataFrame) -> pd.DataFrame:\n",
    "    df['DOY'] = df['DOY'].astype(int)\n",
    "\n",
    "    # Divide only rows with DOY > 0\n",
    "    df['ECO_NPP'] = df.apply(lambda row: row['ECO_NPP']/row['DOY'] if row['DOY'] != 0 else row['ECO_NPP'], axis=1)\n",
    "    df['ECO_RH'] = df.apply(lambda row: row['ECO_RH']/row['DOY'] if row['DOY'] != 0 else row['ECO_RH'], axis=1)\n",
    "\n",
    "    df['NEE'] = df['ECO_NPP'] - df['ECO_RH']\n",
    "    \n",
    "    return df\n",
    "\n",
    "# turn all csv's to one dataframe\n",
    "def to_pd(df: dict, handle_dupes: bool, flatten_num_cols: bool) -> pd.DataFrame:\n",
    "    x = pd.DataFrame()\n",
    "    for file_name in df:\n",
    "        cur = df[file_name]\n",
    "            \n",
    "        x = pd.concat([x, df[file_name]], axis = 1)\n",
    "        \n",
    "    cheeky_col = 'unnamed.1'\n",
    "    cheeky_col2 = 'Unnamed: 0'\n",
    "    if cheeky_col in x.columns:\n",
    "        x = x.drop([cheeky_col], axis=1)\n",
    "    elif cheeky_col2 in x.columns:\n",
    "         x = x.drop([cheeky_col2], axis=1)\n",
    "    x = x.drop(['DATE'], axis=1)\n",
    "\n",
    "    if flatten_num_cols:\n",
    "        x = average_numbered_columns(x)\n",
    "        \n",
    "    x = x.loc[:,~x.columns.duplicated()].copy()\n",
    "    \n",
    "    one_hot = pd.get_dummies(x['GROWTH_STG'])\n",
    "    x= x.drop('GROWTH_STG',axis = 1)\n",
    "    # Join the encoded df\n",
    "    x = x.join(one_hot)\n",
    "\n",
    "    x.columns = x.columns.str.translate(\"\".maketrans({\"[\":\"{\", \"]\":\"}\",\"<\":\"^\"}))\n",
    "    \n",
    "    return x\n",
    "\n",
    "df_dry = nee_cumulative_to_daily(to_pd(datasets['warm_temp_maize-soybean_dryland'], True, True))\n",
    "df_irr = nee_cumulative_to_daily(to_pd(datasets['warm_temp_maize_soybean_irrigated'], True, True))\n",
    "df_cool = nee_cumulative_to_daily(to_pd(datasets['cool_temp_maize_soybean'], True, True))\n",
    "\n",
    "df = pd.concat([df_dry,df_irr, df_cool])\n",
    "\n",
    "df['WIND'] = df['WIND'] / 100\n",
    "\n",
    "y = df[target].copy()\n",
    "\n",
    "#y = df[target].copy()\n",
    "#df = df.drop(target, axis=1)"
   ]
  },
  {
   "cell_type": "markdown",
   "id": "a067a3d0-610c-422b-8d5a-615eed09d5e2",
   "metadata": {},
   "source": [
    "## AmeriFLUX USNE Dataset irrigated maize-soybean, years 2015- 2021"
   ]
  },
  {
   "cell_type": "code",
   "execution_count": 7,
   "id": "7ead1229-8f17-4787-aef9-aca29606b552",
   "metadata": {
    "tags": []
   },
   "outputs": [],
   "source": [
    "with_obs_feats = 'obsfeats'"
   ]
  },
  {
   "cell_type": "markdown",
   "id": "a61fe2f0-ab09-4222-9e28-47d33466cdce",
   "metadata": {
    "tags": []
   },
   "source": [
    "### NEE with constant ustar threshold, found by k means "
   ]
  },
  {
   "cell_type": "code",
   "execution_count": 8,
   "id": "3d940fef-760b-4a53-8837-ef01be3d17e9",
   "metadata": {
    "tags": []
   },
   "outputs": [],
   "source": [
    "observed_df = pd.read_csv('datasets/TestTrainextractedNEE_CUT_REF_NIGHT' + with_obs_feats + '.csv')"
   ]
  },
  {
   "cell_type": "markdown",
   "id": "d1bb8e99-8b7b-475e-b153-2cf70746fbf9",
   "metadata": {},
   "source": [
    "### NEE with constsant ustar threshold found by cosine similarity"
   ]
  },
  {
   "cell_type": "code",
   "execution_count": 7,
   "id": "7033b913-63d8-44a1-9beb-e6c0adc1faaa",
   "metadata": {
    "tags": []
   },
   "outputs": [],
   "source": [
    "observed_df = pd.read_csv('datasets/extractedNEE_CUT_75_NIGHT' + with_obs_feats + '.csv') "
   ]
  },
  {
   "cell_type": "markdown",
   "id": "38f48cc4-16ba-4246-9085-a272dd995b65",
   "metadata": {
    "tags": []
   },
   "source": [
    "### NEE with constant ustar threshold measured nightly within the first five soil layers.\n",
    "#### Found to be ~0.60 linearly correlated using pearson correlation"
   ]
  },
  {
   "cell_type": "code",
   "execution_count": 15,
   "id": "628ef387-4717-40b5-851c-ec07daccd099",
   "metadata": {
    "tags": []
   },
   "outputs": [],
   "source": [
    "observed_df = pd.read_csv('datasets/extractedNEE_CUT_05_NIGHT' + with_obs_feats + '.csv')"
   ]
  },
  {
   "cell_type": "code",
   "execution_count": 9,
   "id": "bf1fb3d2-1747-4720-9734-4af3645111fe",
   "metadata": {
    "tags": []
   },
   "outputs": [],
   "source": [
    "observed_df['initial planting density (m-2)1'] = 8.2\n",
    "observed_df['DOY'] = observed_df['DOY'].astype(int)"
   ]
  },
  {
   "cell_type": "code",
   "execution_count": 10,
   "id": "f336f5ee-b838-4633-a2c0-d63933354c46",
   "metadata": {
    "tags": []
   },
   "outputs": [],
   "source": [
    "xgbFeatImp = pd.read_csv('feature_analysis/xgboost/FeaturesImportance'  + target  + 'weather_soil_data' + '.csv')\n",
    "feat_cols = []\n",
    "for i in range(len(xgbFeatImp.values)):\n",
    "    feat_cols.append(xgbFeatImp.values[i][0])\n",
    "\n",
    "y = df[target].copy()\n",
    "x = df[feat_cols].copy()\n",
    "\n",
    "x_observed = observed_df[feat_cols]\n",
    "y_observed = observed_df[target].copy()"
   ]
  },
  {
   "cell_type": "code",
   "execution_count": 11,
   "id": "8cfed7ff-4cb0-429a-89e8-bc1b10bba8be",
   "metadata": {
    "tags": []
   },
   "outputs": [
    {
     "data": {
      "text/html": [
       "<div>\n",
       "<style scoped>\n",
       "    .dataframe tbody tr th:only-of-type {\n",
       "        vertical-align: middle;\n",
       "    }\n",
       "\n",
       "    .dataframe tbody tr th {\n",
       "        vertical-align: top;\n",
       "    }\n",
       "\n",
       "    .dataframe thead th {\n",
       "        text-align: right;\n",
       "    }\n",
       "</style>\n",
       "<table border=\"1\" class=\"dataframe\">\n",
       "  <thead>\n",
       "    <tr style=\"text-align: right;\">\n",
       "      <th></th>\n",
       "      <th>TMAX_AIR</th>\n",
       "      <th>TMAX_SOIL</th>\n",
       "      <th>TMIN_AIR</th>\n",
       "      <th>D_W_PRECN</th>\n",
       "      <th>WIND</th>\n",
       "      <th>HMAX_AIR</th>\n",
       "      <th>HMIN_AIR</th>\n",
       "      <th>TMIN_SOIL</th>\n",
       "      <th>RADN</th>\n",
       "      <th>initial planting density (m-2)1</th>\n",
       "      <th>DOY</th>\n",
       "    </tr>\n",
       "  </thead>\n",
       "  <tbody>\n",
       "    <tr>\n",
       "      <th>0</th>\n",
       "      <td>2.91</td>\n",
       "      <td>4.951854</td>\n",
       "      <td>-2.93</td>\n",
       "      <td>0.0</td>\n",
       "      <td>3.31524</td>\n",
       "      <td>0.630569</td>\n",
       "      <td>0.435766</td>\n",
       "      <td>3.190371</td>\n",
       "      <td>4.710812</td>\n",
       "      <td>6.2</td>\n",
       "      <td>0</td>\n",
       "    </tr>\n",
       "    <tr>\n",
       "      <th>1</th>\n",
       "      <td>2.19</td>\n",
       "      <td>4.953446</td>\n",
       "      <td>-5.90</td>\n",
       "      <td>0.0</td>\n",
       "      <td>2.47068</td>\n",
       "      <td>0.630147</td>\n",
       "      <td>0.349557</td>\n",
       "      <td>2.944458</td>\n",
       "      <td>7.255759</td>\n",
       "      <td>6.2</td>\n",
       "      <td>1</td>\n",
       "    </tr>\n",
       "    <tr>\n",
       "      <th>2</th>\n",
       "      <td>9.11</td>\n",
       "      <td>5.599835</td>\n",
       "      <td>-6.89</td>\n",
       "      <td>0.0</td>\n",
       "      <td>2.45952</td>\n",
       "      <td>0.796492</td>\n",
       "      <td>0.324438</td>\n",
       "      <td>2.766023</td>\n",
       "      <td>8.689023</td>\n",
       "      <td>6.2</td>\n",
       "      <td>2</td>\n",
       "    </tr>\n",
       "    <tr>\n",
       "      <th>3</th>\n",
       "      <td>8.71</td>\n",
       "      <td>5.658164</td>\n",
       "      <td>-0.99</td>\n",
       "      <td>0.7</td>\n",
       "      <td>3.76056</td>\n",
       "      <td>0.897199</td>\n",
       "      <td>0.501948</td>\n",
       "      <td>3.159278</td>\n",
       "      <td>3.999532</td>\n",
       "      <td>6.2</td>\n",
       "      <td>3</td>\n",
       "    </tr>\n",
       "    <tr>\n",
       "      <th>4</th>\n",
       "      <td>3.73</td>\n",
       "      <td>4.463433</td>\n",
       "      <td>-4.64</td>\n",
       "      <td>0.0</td>\n",
       "      <td>3.67992</td>\n",
       "      <td>0.702206</td>\n",
       "      <td>0.384053</td>\n",
       "      <td>3.058000</td>\n",
       "      <td>2.409738</td>\n",
       "      <td>6.2</td>\n",
       "      <td>4</td>\n",
       "    </tr>\n",
       "    <tr>\n",
       "      <th>...</th>\n",
       "      <td>...</td>\n",
       "      <td>...</td>\n",
       "      <td>...</td>\n",
       "      <td>...</td>\n",
       "      <td>...</td>\n",
       "      <td>...</td>\n",
       "      <td>...</td>\n",
       "      <td>...</td>\n",
       "      <td>...</td>\n",
       "      <td>...</td>\n",
       "      <td>...</td>\n",
       "    </tr>\n",
       "    <tr>\n",
       "      <th>2917</th>\n",
       "      <td>0.90</td>\n",
       "      <td>-711.935654</td>\n",
       "      <td>-11.60</td>\n",
       "      <td>0.0</td>\n",
       "      <td>4.03272</td>\n",
       "      <td>0.490577</td>\n",
       "      <td>0.225464</td>\n",
       "      <td>716.425542</td>\n",
       "      <td>5.302800</td>\n",
       "      <td>6.6</td>\n",
       "      <td>360</td>\n",
       "    </tr>\n",
       "    <tr>\n",
       "      <th>2918</th>\n",
       "      <td>3.30</td>\n",
       "      <td>-711.953454</td>\n",
       "      <td>-8.10</td>\n",
       "      <td>0.0</td>\n",
       "      <td>4.34232</td>\n",
       "      <td>0.564898</td>\n",
       "      <td>0.317146</td>\n",
       "      <td>716.419829</td>\n",
       "      <td>3.804480</td>\n",
       "      <td>6.6</td>\n",
       "      <td>361</td>\n",
       "    </tr>\n",
       "    <tr>\n",
       "      <th>2919</th>\n",
       "      <td>0.70</td>\n",
       "      <td>-711.985770</td>\n",
       "      <td>-8.70</td>\n",
       "      <td>1.2</td>\n",
       "      <td>3.84336</td>\n",
       "      <td>0.633341</td>\n",
       "      <td>0.299815</td>\n",
       "      <td>716.397027</td>\n",
       "      <td>2.213640</td>\n",
       "      <td>6.6</td>\n",
       "      <td>362</td>\n",
       "    </tr>\n",
       "    <tr>\n",
       "      <th>2920</th>\n",
       "      <td>-7.60</td>\n",
       "      <td>-712.013117</td>\n",
       "      <td>-24.20</td>\n",
       "      <td>1.6</td>\n",
       "      <td>9.20376</td>\n",
       "      <td>0.321801</td>\n",
       "      <td>0.055784</td>\n",
       "      <td>716.349076</td>\n",
       "      <td>6.843240</td>\n",
       "      <td>6.6</td>\n",
       "      <td>363</td>\n",
       "    </tr>\n",
       "    <tr>\n",
       "      <th>2921</th>\n",
       "      <td>-19.60</td>\n",
       "      <td>-712.079960</td>\n",
       "      <td>-25.10</td>\n",
       "      <td>1.2</td>\n",
       "      <td>3.08952</td>\n",
       "      <td>0.111620</td>\n",
       "      <td>0.052011</td>\n",
       "      <td>716.290725</td>\n",
       "      <td>4.357080</td>\n",
       "      <td>6.6</td>\n",
       "      <td>364</td>\n",
       "    </tr>\n",
       "  </tbody>\n",
       "</table>\n",
       "<p>8766 rows × 11 columns</p>\n",
       "</div>"
      ],
      "text/plain": [
       "      TMAX_AIR   TMAX_SOIL  TMIN_AIR  D_W_PRECN     WIND  HMAX_AIR  HMIN_AIR  \\\n",
       "0         2.91    4.951854     -2.93        0.0  3.31524  0.630569  0.435766   \n",
       "1         2.19    4.953446     -5.90        0.0  2.47068  0.630147  0.349557   \n",
       "2         9.11    5.599835     -6.89        0.0  2.45952  0.796492  0.324438   \n",
       "3         8.71    5.658164     -0.99        0.7  3.76056  0.897199  0.501948   \n",
       "4         3.73    4.463433     -4.64        0.0  3.67992  0.702206  0.384053   \n",
       "...        ...         ...       ...        ...      ...       ...       ...   \n",
       "2917      0.90 -711.935654    -11.60        0.0  4.03272  0.490577  0.225464   \n",
       "2918      3.30 -711.953454     -8.10        0.0  4.34232  0.564898  0.317146   \n",
       "2919      0.70 -711.985770     -8.70        1.2  3.84336  0.633341  0.299815   \n",
       "2920     -7.60 -712.013117    -24.20        1.6  9.20376  0.321801  0.055784   \n",
       "2921    -19.60 -712.079960    -25.10        1.2  3.08952  0.111620  0.052011   \n",
       "\n",
       "       TMIN_SOIL      RADN  initial planting density (m-2)1  DOY  \n",
       "0       3.190371  4.710812                              6.2    0  \n",
       "1       2.944458  7.255759                              6.2    1  \n",
       "2       2.766023  8.689023                              6.2    2  \n",
       "3       3.159278  3.999532                              6.2    3  \n",
       "4       3.058000  2.409738                              6.2    4  \n",
       "...          ...       ...                              ...  ...  \n",
       "2917  716.425542  5.302800                              6.6  360  \n",
       "2918  716.419829  3.804480                              6.6  361  \n",
       "2919  716.397027  2.213640                              6.6  362  \n",
       "2920  716.349076  6.843240                              6.6  363  \n",
       "2921  716.290725  4.357080                              6.6  364  \n",
       "\n",
       "[8766 rows x 11 columns]"
      ]
     },
     "execution_count": 11,
     "metadata": {},
     "output_type": "execute_result"
    }
   ],
   "source": [
    "x"
   ]
  },
  {
   "cell_type": "code",
   "execution_count": 12,
   "id": "e728c017-1b24-4fe4-9ba4-80fc38cef33d",
   "metadata": {
    "tags": []
   },
   "outputs": [],
   "source": [
    "for entr in x.columns:\n",
    "    x[entr] = preprocessing.normalize([x[entr]])[0]\n",
    "y = pd.Series(preprocessing.normalize([y])[0], name='NEE')"
   ]
  },
  {
   "cell_type": "code",
   "execution_count": 13,
   "id": "45edcd62-6476-4c33-96ac-58bd8f65a708",
   "metadata": {
    "tags": []
   },
   "outputs": [],
   "source": [
    "for entr in x_observed.columns:\n",
    "    x_observed[entr] = preprocessing.normalize([x_observed[entr]])[0]\n",
    "y_observed = pd.Series(preprocessing.normalize([y_observed])[0], name='NEE')"
   ]
  },
  {
   "cell_type": "code",
   "execution_count": 14,
   "id": "af1677db-4138-4932-b098-93fcd17e0abf",
   "metadata": {
    "tags": []
   },
   "outputs": [],
   "source": [
    "x = pd.concat([x_observed, x])\n",
    "y = pd.concat([y_observed, y])\n",
    "\n",
    "X_train, X_test, y_train, y_test = train_test_split(\n",
    "   x, y, test_size=0.33, random_state=30)"
   ]
  },
  {
   "cell_type": "code",
   "execution_count": 15,
   "id": "60fa48f7-52ab-4115-bdea-9159e4743df6",
   "metadata": {
    "tags": []
   },
   "outputs": [],
   "source": [
    "xgb_r = xg.XGBRegressor()\n",
    "xgb_r.load_model(\"models/simulated_with_daily_nee.json\")"
   ]
  },
  {
   "cell_type": "markdown",
   "id": "48eb003b-1110-4cbe-9584-d0129d707d5d",
   "metadata": {},
   "source": [
    "#### Fit simulated data using hyper params found after gaussian optimization"
   ]
  },
  {
   "cell_type": "code",
   "execution_count": 16,
   "id": "acaf271d-9038-4cc1-b661-2e378783de1e",
   "metadata": {
    "tags": []
   },
   "outputs": [
    {
     "data": {
      "text/html": [
       "<style>#sk-container-id-1 {color: black;background-color: white;}#sk-container-id-1 pre{padding: 0;}#sk-container-id-1 div.sk-toggleable {background-color: white;}#sk-container-id-1 label.sk-toggleable__label {cursor: pointer;display: block;width: 100%;margin-bottom: 0;padding: 0.3em;box-sizing: border-box;text-align: center;}#sk-container-id-1 label.sk-toggleable__label-arrow:before {content: \"▸\";float: left;margin-right: 0.25em;color: #696969;}#sk-container-id-1 label.sk-toggleable__label-arrow:hover:before {color: black;}#sk-container-id-1 div.sk-estimator:hover label.sk-toggleable__label-arrow:before {color: black;}#sk-container-id-1 div.sk-toggleable__content {max-height: 0;max-width: 0;overflow: hidden;text-align: left;background-color: #f0f8ff;}#sk-container-id-1 div.sk-toggleable__content pre {margin: 0.2em;color: black;border-radius: 0.25em;background-color: #f0f8ff;}#sk-container-id-1 input.sk-toggleable__control:checked~div.sk-toggleable__content {max-height: 200px;max-width: 100%;overflow: auto;}#sk-container-id-1 input.sk-toggleable__control:checked~label.sk-toggleable__label-arrow:before {content: \"▾\";}#sk-container-id-1 div.sk-estimator input.sk-toggleable__control:checked~label.sk-toggleable__label {background-color: #d4ebff;}#sk-container-id-1 div.sk-label input.sk-toggleable__control:checked~label.sk-toggleable__label {background-color: #d4ebff;}#sk-container-id-1 input.sk-hidden--visually {border: 0;clip: rect(1px 1px 1px 1px);clip: rect(1px, 1px, 1px, 1px);height: 1px;margin: -1px;overflow: hidden;padding: 0;position: absolute;width: 1px;}#sk-container-id-1 div.sk-estimator {font-family: monospace;background-color: #f0f8ff;border: 1px dotted black;border-radius: 0.25em;box-sizing: border-box;margin-bottom: 0.5em;}#sk-container-id-1 div.sk-estimator:hover {background-color: #d4ebff;}#sk-container-id-1 div.sk-parallel-item::after {content: \"\";width: 100%;border-bottom: 1px solid gray;flex-grow: 1;}#sk-container-id-1 div.sk-label:hover label.sk-toggleable__label {background-color: #d4ebff;}#sk-container-id-1 div.sk-serial::before {content: \"\";position: absolute;border-left: 1px solid gray;box-sizing: border-box;top: 0;bottom: 0;left: 50%;z-index: 0;}#sk-container-id-1 div.sk-serial {display: flex;flex-direction: column;align-items: center;background-color: white;padding-right: 0.2em;padding-left: 0.2em;position: relative;}#sk-container-id-1 div.sk-item {position: relative;z-index: 1;}#sk-container-id-1 div.sk-parallel {display: flex;align-items: stretch;justify-content: center;background-color: white;position: relative;}#sk-container-id-1 div.sk-item::before, #sk-container-id-1 div.sk-parallel-item::before {content: \"\";position: absolute;border-left: 1px solid gray;box-sizing: border-box;top: 0;bottom: 0;left: 50%;z-index: -1;}#sk-container-id-1 div.sk-parallel-item {display: flex;flex-direction: column;z-index: 1;position: relative;background-color: white;}#sk-container-id-1 div.sk-parallel-item:first-child::after {align-self: flex-end;width: 50%;}#sk-container-id-1 div.sk-parallel-item:last-child::after {align-self: flex-start;width: 50%;}#sk-container-id-1 div.sk-parallel-item:only-child::after {width: 0;}#sk-container-id-1 div.sk-dashed-wrapped {border: 1px dashed gray;margin: 0 0.4em 0.5em 0.4em;box-sizing: border-box;padding-bottom: 0.4em;background-color: white;}#sk-container-id-1 div.sk-label label {font-family: monospace;font-weight: bold;display: inline-block;line-height: 1.2em;}#sk-container-id-1 div.sk-label-container {text-align: center;}#sk-container-id-1 div.sk-container {/* jupyter's `normalize.less` sets `[hidden] { display: none; }` but bootstrap.min.css set `[hidden] { display: none !important; }` so we also need the `!important` here to be able to override the default hidden behavior on the sphinx rendered scikit-learn.org. See: https://github.com/scikit-learn/scikit-learn/issues/21755 */display: inline-block !important;position: relative;}#sk-container-id-1 div.sk-text-repr-fallback {display: none;}</style><div id=\"sk-container-id-1\" class=\"sk-top-container\"><div class=\"sk-text-repr-fallback\"><pre>XGBRegressor(base_score=None, booster=&#x27;gbtree&#x27;, callbacks=None,\n",
       "             colsample_bylevel=None, colsample_bynode=None,\n",
       "             colsample_bytree=0.8412302286461404, early_stopping_rounds=None,\n",
       "             enable_categorical=False, eval_metric=None,\n",
       "             feature_types=[&#x27;float&#x27;, &#x27;float&#x27;, &#x27;float&#x27;, &#x27;float&#x27;, &#x27;float&#x27;,\n",
       "                            &#x27;float&#x27;, &#x27;float&#x27;, &#x27;float&#x27;, &#x27;float&#x27;, &#x27;float&#x27;,\n",
       "                            &#x27;float&#x27;],\n",
       "             gamma=None, gpu_id=None, grow_policy=None, importance_type=None,\n",
       "             interaction_constraints=None, learning_rate=0.01, max_bin=None,\n",
       "             max_cat_threshold=None, max_cat_to_onehot=None,\n",
       "             max_delta_step=None, max_depth=10, max_leaves=None,\n",
       "             min_child_weight=None, missing=nan, monotone_constraints=None,\n",
       "             n_estimators=1617, n_jobs=None, num_parallel_tree=None,\n",
       "             predictor=None, random_state=0, ...)</pre><b>In a Jupyter environment, please rerun this cell to show the HTML representation or trust the notebook. <br />On GitHub, the HTML representation is unable to render, please try loading this page with nbviewer.org.</b></div><div class=\"sk-container\" hidden><div class=\"sk-item\"><div class=\"sk-estimator sk-toggleable\"><input class=\"sk-toggleable__control sk-hidden--visually\" id=\"sk-estimator-id-1\" type=\"checkbox\" checked><label for=\"sk-estimator-id-1\" class=\"sk-toggleable__label sk-toggleable__label-arrow\">XGBRegressor</label><div class=\"sk-toggleable__content\"><pre>XGBRegressor(base_score=None, booster=&#x27;gbtree&#x27;, callbacks=None,\n",
       "             colsample_bylevel=None, colsample_bynode=None,\n",
       "             colsample_bytree=0.8412302286461404, early_stopping_rounds=None,\n",
       "             enable_categorical=False, eval_metric=None,\n",
       "             feature_types=[&#x27;float&#x27;, &#x27;float&#x27;, &#x27;float&#x27;, &#x27;float&#x27;, &#x27;float&#x27;,\n",
       "                            &#x27;float&#x27;, &#x27;float&#x27;, &#x27;float&#x27;, &#x27;float&#x27;, &#x27;float&#x27;,\n",
       "                            &#x27;float&#x27;],\n",
       "             gamma=None, gpu_id=None, grow_policy=None, importance_type=None,\n",
       "             interaction_constraints=None, learning_rate=0.01, max_bin=None,\n",
       "             max_cat_threshold=None, max_cat_to_onehot=None,\n",
       "             max_delta_step=None, max_depth=10, max_leaves=None,\n",
       "             min_child_weight=None, missing=nan, monotone_constraints=None,\n",
       "             n_estimators=1617, n_jobs=None, num_parallel_tree=None,\n",
       "             predictor=None, random_state=0, ...)</pre></div></div></div></div></div>"
      ],
      "text/plain": [
       "XGBRegressor(base_score=None, booster='gbtree', callbacks=None,\n",
       "             colsample_bylevel=None, colsample_bynode=None,\n",
       "             colsample_bytree=0.8412302286461404, early_stopping_rounds=None,\n",
       "             enable_categorical=False, eval_metric=None,\n",
       "             feature_types=['float', 'float', 'float', 'float', 'float',\n",
       "                            'float', 'float', 'float', 'float', 'float',\n",
       "                            'float'],\n",
       "             gamma=None, gpu_id=None, grow_policy=None, importance_type=None,\n",
       "             interaction_constraints=None, learning_rate=0.01, max_bin=None,\n",
       "             max_cat_threshold=None, max_cat_to_onehot=None,\n",
       "             max_delta_step=None, max_depth=10, max_leaves=None,\n",
       "             min_child_weight=None, missing=nan, monotone_constraints=None,\n",
       "             n_estimators=1617, n_jobs=None, num_parallel_tree=None,\n",
       "             predictor=None, random_state=0, ...)"
      ]
     },
     "execution_count": 16,
     "metadata": {},
     "output_type": "execute_result"
    }
   ],
   "source": [
    "# Fitting the model\n",
    "xgb_r.fit(X_train, y_train)"
   ]
  },
  {
   "cell_type": "code",
   "execution_count": 17,
   "id": "11bf7ea7-0781-4a39-9280-38813d18af0d",
   "metadata": {
    "tags": []
   },
   "outputs": [],
   "source": [
    "# Predict the model\n",
    "pred = xgb_r.predict(X_test)"
   ]
  },
  {
   "cell_type": "code",
   "execution_count": 18,
   "id": "8d8a7f1a-d9fe-4b77-bceb-18ce97e93f0a",
   "metadata": {
    "tags": []
   },
   "outputs": [
    {
     "name": "stdout",
     "output_type": "stream",
     "text": [
      "RMSE :  0.001618\n"
     ]
    },
    {
     "data": {
      "image/png": "[encoded data removed]",
      "text/plain": [
       "<Figure size 640x480 with 1 Axes>"
      ]
     },
     "metadata": {},
     "output_type": "display_data"
    }
   ],
   "source": [
    "# Calculate R2 score\n",
    "r2 = R2(y_test, pred)\n",
    "\n",
    "rmse = np.sqrt(MSE(y_test, pred))\n",
    "print(\"RMSE : % f\" %(rmse))\n",
    "\n",
    "# Create scatter plot\n",
    "plt.scatter(y_test, pred)\n",
    "\n",
    "# Plot a red line for perfect accuracy\n",
    "x = np.linspace(min(y_test), max(y_test), 100)\n",
    "plt.plot(x, x, color='r')\n",
    "\n",
    "# Add title and legend\n",
    "plt.title(\"XGB Predicted \" + target +  \" using bayesian pretrained, grid search fine tuned xgb model  (R2 = %0.2f  RMSE  = %0.4f)\" %  (r2, rmse))\n",
    "plt.legend(['Predictions', 'Perfect accuracy'], loc='upper left')\n",
    "plt.xlabel(\"Predicted NEE g C m-2 day-1\")\n",
    "plt.ylabel(\"Observed NEE g C m-2 day-1\")\n",
    "\n",
    "#plt.savefig(\"results/bayesian pretrained, grid search fine tuned xgb model  \" + target + \"with planting details.png\" )\n",
    "# Show plot\n",
    "plt.show()"
   ]
  },
  {
   "cell_type": "code",
   "execution_count": 19,
   "id": "4e64ffb8-cfb0-4f9d-8965-8d833c902523",
   "metadata": {
    "tags": []
   },
   "outputs": [
    {
     "data": {
      "image/png": "[encoded data removed]",
      "text/plain": [
       "<Figure size 800x640 with 1 Axes>"
      ]
     },
     "metadata": {},
     "output_type": "display_data"
    }
   ],
   "source": [
    "importances = pd.DataFrame({'GINI': xgb_r.feature_importances_}, index=x_observed.columns).sort_values(by='GINI', ascending=True)\n",
    "\n",
    "# Create a horizontal bar chart\n",
    "plt.figure(figsize=(10, 8), dpi=80)\n",
    "plt.barh(importances.index, importances['GINI'])\n",
    "\n",
    "# Add title and axis labels\n",
    "plt.title('Feature Importance - Gini Index, NEE g C m-2 day-1')\n",
    "plt.xlabel('Gini Index')\n",
    "plt.ylabel('Feature')\n",
    "\n",
    "#plt.savefig('results/FeatureImportanceGB_sim_data_with_ameriflux_pred' + target + \"with_planting_details.png\")\n",
    "# Show the plot\n",
    "plt.show()"
   ]
  },
  {
   "cell_type": "code",
   "execution_count": 30,
   "id": "b9213173-e2fc-4596-b854-80d0d16df3ef",
   "metadata": {
    "tags": []
   },
   "outputs": [],
   "source": [
    "g = importances[importances > 0.0001].dropna()"
   ]
  },
  {
   "cell_type": "code",
   "execution_count": 31,
   "id": "6f1aa25f-f1e2-446c-8fa2-779360a1e6a9",
   "metadata": {
    "tags": []
   },
   "outputs": [
    {
     "data": {
      "text/html": [
       "<div>\n",
       "<style scoped>\n",
       "    .dataframe tbody tr th:only-of-type {\n",
       "        vertical-align: middle;\n",
       "    }\n",
       "\n",
       "    .dataframe tbody tr th {\n",
       "        vertical-align: top;\n",
       "    }\n",
       "\n",
       "    .dataframe thead th {\n",
       "        text-align: right;\n",
       "    }\n",
       "</style>\n",
       "<table border=\"1\" class=\"dataframe\">\n",
       "  <thead>\n",
       "    <tr style=\"text-align: right;\">\n",
       "      <th></th>\n",
       "      <th>GINI</th>\n",
       "    </tr>\n",
       "  </thead>\n",
       "  <tbody>\n",
       "    <tr>\n",
       "      <th>D_W_PRECN</th>\n",
       "      <td>0.007345</td>\n",
       "    </tr>\n",
       "    <tr>\n",
       "      <th>HMAX_AIR</th>\n",
       "      <td>0.008442</td>\n",
       "    </tr>\n",
       "    <tr>\n",
       "      <th>HMIN_AIR</th>\n",
       "      <td>0.011491</td>\n",
       "    </tr>\n",
       "    <tr>\n",
       "      <th>TMAX_SOIL</th>\n",
       "      <td>0.012903</td>\n",
       "    </tr>\n",
       "    <tr>\n",
       "      <th>TMAX_AIR</th>\n",
       "      <td>0.016649</td>\n",
       "    </tr>\n",
       "    <tr>\n",
       "      <th>TMIN_AIR</th>\n",
       "      <td>0.026146</td>\n",
       "    </tr>\n",
       "    <tr>\n",
       "      <th>TMIN_SOIL</th>\n",
       "      <td>0.029378</td>\n",
       "    </tr>\n",
       "    <tr>\n",
       "      <th>WIND</th>\n",
       "      <td>0.049143</td>\n",
       "    </tr>\n",
       "    <tr>\n",
       "      <th>initial planting density (m-2)1</th>\n",
       "      <td>0.184266</td>\n",
       "    </tr>\n",
       "    <tr>\n",
       "      <th>RADN</th>\n",
       "      <td>0.307452</td>\n",
       "    </tr>\n",
       "    <tr>\n",
       "      <th>DOY</th>\n",
       "      <td>0.346785</td>\n",
       "    </tr>\n",
       "  </tbody>\n",
       "</table>\n",
       "</div>"
      ],
      "text/plain": [
       "                                     GINI\n",
       "D_W_PRECN                        0.007345\n",
       "HMAX_AIR                         0.008442\n",
       "HMIN_AIR                         0.011491\n",
       "TMAX_SOIL                        0.012903\n",
       "TMAX_AIR                         0.016649\n",
       "TMIN_AIR                         0.026146\n",
       "TMIN_SOIL                        0.029378\n",
       "WIND                             0.049143\n",
       "initial planting density (m-2)1  0.184266\n",
       "RADN                             0.307452\n",
       "DOY                              0.346785"
      ]
     },
     "execution_count": 31,
     "metadata": {},
     "output_type": "execute_result"
    }
   ],
   "source": [
    "g"
   ]
  },
  {
   "cell_type": "code",
   "execution_count": 18,
   "id": "37e6c9f0-13a0-414f-a7e8-3c7666e98c80",
   "metadata": {
    "tags": []
   },
   "outputs": [],
   "source": [
    "os.makedirs('feature_analysis/xgboost', exist_ok=True)  \n",
    "g.to_csv('feature_analysis/xgboost/FeaturesImportance'  + target  + 'weather_soil_data' + '.csv')  "
   ]
  },
  {
   "cell_type": "code",
   "execution_count": null,
   "id": "02f33b50-422e-403b-b416-d6fb186eab2f",
   "metadata": {},
   "outputs": [],
   "source": []
  }
 ],
 "metadata": {
  "kernelspec": {
   "display_name": "Python 3 (ipykernel)",
   "language": "python",
   "name": "python3"
  },
  "language_info": {
   "codemirror_mode": {
    "name": "ipython",
    "version": 3
   },
   "file_extension": ".py",
   "mimetype": "text/x-python",
   "name": "python",
   "nbconvert_exporter": "python",
   "pygments_lexer": "ipython3",
   "version": "3.9.16"
  }
 },
 "nbformat": 4,
 "nbformat_minor": 5
}
