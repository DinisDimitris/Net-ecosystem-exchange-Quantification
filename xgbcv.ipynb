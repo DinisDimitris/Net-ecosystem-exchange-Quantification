{
 "cells": [
  {
   "cell_type": "code",
   "execution_count": 1,
   "id": "dd828e47-3802-4984-b7b2-632597ce60b2",
   "metadata": {
    "tags": []
   },
   "outputs": [],
   "source": [
    "import pandas as pd\n",
    "import xgboost as xg\n",
    "from xgboost import cv\n",
    "from sklearn.model_selection import train_test_split\n",
    "from sklearn.metrics import mean_squared_error as MSE\n",
    "from sklearn import preprocessing\n",
    "import numpy as np\n",
    "import matplotlib.pyplot as plt\n",
    "import os\n",
    "from functools import reduce\n",
    "from sklearn.metrics import r2_score as R2\n",
    "from time import time\n",
    "\n",
    "import warnings\n",
    "warnings.filterwarnings('ignore')\n",
    "\n",
    "from data_loader import load_datasets, nee_cumulative_to_daily, to_pd"
   ]
  },
  {
   "cell_type": "code",
   "execution_count": 2,
   "id": "5421815f-66ec-4069-936e-90e220006b2c",
   "metadata": {
    "tags": []
   },
   "outputs": [],
   "source": [
    "target = 'NEE'\n",
    "\n",
    "model = ['rcef_RandomForestRegressor', 'rcef_RidgeCV', 'rcef_XGBRegressor', 'xgboost'] \n",
    "\n",
    "extracted_features = model[-1]"
   ]
  },
  {
   "cell_type": "code",
   "execution_count": null,
   "id": "3255409b-ef6a-4359-8c0b-788845d2e0d5",
   "metadata": {},
   "outputs": [],
   "source": [
    "dirs = ['warm_temp_maize_soybean_irrigated', 'warm_temp_maize-soybean_dryland', 'cool_temp_maize_soybean']\n",
    "\n",
    "datasets = load_datasets(dirs, '/csv_outs/with_plant_soil_details/')\n",
    "\n",
    "df_dry = nee_cumulative_to_daily(to_pd(datasets['warm_temp_maize-soybean_dryland'], True, True))\n",
    "df_irr = nee_cumulative_to_daily(to_pd(datasets['warm_temp_maize_soybean_irrigated'], True, True))\n",
    "df_cool = nee_cumulative_to_daily(to_pd(datasets['cool_temp_maize_soybean'], True, True))\n",
    "\n",
    "df = pd.concat([df_dry,df_irr, df_cool])\n",
    "\n",
    "y = df[target].copy()"
   ]
  },
  {
   "cell_type": "markdown",
   "id": "1b80e21e-2fb4-4a66-80b1-fcef203c6c97",
   "metadata": {},
   "source": [
    "### Read simulated data, extracted features, l2 normalize data  "
   ]
  },
  {
   "cell_type": "code",
   "execution_count": 5,
   "id": "73510359-5207-41de-8d09-c3db173d8c5f",
   "metadata": {
    "tags": []
   },
   "outputs": [],
   "source": [
    "xgbFeatImp = pd.read_csv('feature_analysis/xgboost/FeaturesImportance'  + target  + 'weather_soil_data' + '.csv')\n",
    "feat_cols = []\n",
    "for i in range(len(xgbFeatImp.values)):\n",
    "    feat_cols.append(xgbFeatImp.values[i][0])\n",
    "\n",
    "y_simulated = df[target].copy()\n",
    "x_simulated = df[feat_cols]\n",
    "x_simulated['WIND'] = x_simulated['WIND'] / 100\n",
    "\n",
    "for entr in x_simulated.columns:\n",
    "    x_simulated[entr] = preprocessing.normalize([x_simulated[entr]])[0]\n",
    "y_simulated = pd.Series(preprocessing.normalize([y_simulated])[0], name='NEE')"
   ]
  },
  {
   "cell_type": "markdown",
   "id": "d57a25ef-8fc9-4577-88e8-b4fac3262c3a",
   "metadata": {},
   "source": [
    "### Read observed data, and normalize"
   ]
  },
  {
   "cell_type": "code",
   "execution_count": 6,
   "id": "e9a138ec-42ca-4271-ba37-55a66d8553cc",
   "metadata": {
    "tags": []
   },
   "outputs": [],
   "source": [
    "observed_df = pd.read_csv('datasets/extractedNEE_CUT_REF_NIGHT.csv')\n",
    "\n",
    "observed_df['initial planting density (m-2)1'] = 8.2\n",
    "\n",
    "x_observed = observed_df[feat_cols]\n",
    "y_observed = observed_df['NEE']\n",
    "\n",
    "for entr in x_observed.columns:\n",
    "    x_observed[entr] = preprocessing.normalize([x_observed[entr]])[0]\n",
    "y_observed = pd.Series(preprocessing.normalize([y_observed])[0], name='NEE')"
   ]
  },
  {
   "cell_type": "markdown",
   "id": "ae558e45-c0b1-42ae-a345-ded17e825f0e",
   "metadata": {},
   "source": [
    "### Aggregate data and turn into xgb matrix for efficiency"
   ]
  },
  {
   "cell_type": "code",
   "execution_count": 7,
   "id": "adc8e955-b31e-43ec-a93f-c1d18a271ebb",
   "metadata": {
    "tags": []
   },
   "outputs": [],
   "source": [
    "x = pd.concat([x_simulated, x_observed])\n",
    "y = pd.concat([y_simulated, y_observed])\n",
    "\n",
    "data_dmatrix = xg.DMatrix(data=x,label=y)\n"
   ]
  },
  {
   "cell_type": "markdown",
   "id": "88027542-dae4-44d4-b35d-8085598c9de5",
   "metadata": {},
   "source": [
    "### Load optimized model"
   ]
  },
  {
   "cell_type": "code",
   "execution_count": 8,
   "id": "393db39f-b814-4a90-8aab-2a5febf6c713",
   "metadata": {
    "tags": []
   },
   "outputs": [],
   "source": [
    "reg = xg.XGBRegressor()\n",
    "reg.load_model(\"models/bayesian_pretrain_gridsearch_fine_tune_xgb.json\")"
   ]
  },
  {
   "cell_type": "markdown",
   "id": "510d40c6-248f-4411-8161-7caf82a34c5b",
   "metadata": {},
   "source": [
    "### Kfold CV "
   ]
  },
  {
   "cell_type": "code",
   "execution_count": 13,
   "id": "4d8f46ea-a900-4d9f-b837-69f6e3ff6aba",
   "metadata": {
    "tags": []
   },
   "outputs": [],
   "source": [
    "xgb_cv = cv(dtrain=data_dmatrix, params=reg.get_xgb_params(), nfold=7\n",
    "            , early_stopping_rounds=10, metrics=\"rmse\", as_pandas=False, seed=123)"
   ]
  },
  {
   "cell_type": "code",
   "execution_count": 14,
   "id": "82773f07-0e0e-49eb-a634-e58233dcfcf1",
   "metadata": {
    "tags": []
   },
   "outputs": [
    {
     "data": {
      "text/plain": [
       "{'train-rmse-mean': [0.48630289834970136,\n",
       "  0.48151215641375433,\n",
       "  0.4767687552064816,\n",
       "  0.47207192427369027,\n",
       "  0.46742091447901785,\n",
       "  0.4628158365324438,\n",
       "  0.4582563286092451,\n",
       "  0.4537415947682975,\n",
       "  0.4492711582176799,\n",
       "  0.4448456064133661],\n",
       " 'train-rmse-std': [3.558510231498195e-05,\n",
       "  3.4925805317727016e-05,\n",
       "  3.507741728353164e-05,\n",
       "  3.495909770895408e-05,\n",
       "  3.457021267154883e-05,\n",
       "  3.4099143133720486e-05,\n",
       "  3.4283279945923305e-05,\n",
       "  3.383797199538649e-05,\n",
       "  3.3188150721158984e-05,\n",
       "  3.2848290133632486e-05],\n",
       " 'test-rmse-mean': [0.48630282884427806,\n",
       "  0.48151208656600997,\n",
       "  0.47676868482864,\n",
       "  0.47207185343299446,\n",
       "  0.467420843276594,\n",
       "  0.4628157648377899,\n",
       "  0.45825625636099687,\n",
       "  0.4537415221219118,\n",
       "  0.4492710852536544,\n",
       "  0.4448455329265806],\n",
       " 'test-rmse-std': [0.00021601089562700115,\n",
       "  0.00021663944680883505,\n",
       "  0.00021644439453420475,\n",
       "  0.00021653002076594378,\n",
       "  0.00021686387268317198,\n",
       "  0.0002172745064438204,\n",
       "  0.0002170311304935956,\n",
       "  0.00021742052890172948,\n",
       "  0.00021805275029735023,\n",
       "  0.0002183673916536458]}"
      ]
     },
     "execution_count": 14,
     "metadata": {},
     "output_type": "execute_result"
    }
   ],
   "source": [
    "xgb_cv"
   ]
  },
  {
   "cell_type": "code",
   "execution_count": null,
   "id": "cfda6cbc-e7e3-43d5-9266-6fc82d2ac173",
   "metadata": {},
   "outputs": [],
   "source": []
  }
 ],
 "metadata": {
  "kernelspec": {
   "display_name": "Python 3 (ipykernel)",
   "language": "python",
   "name": "python3"
  },
  "language_info": {
   "codemirror_mode": {
    "name": "ipython",
    "version": 3
   },
   "file_extension": ".py",
   "mimetype": "text/x-python",
   "name": "python",
   "nbconvert_exporter": "python",
   "pygments_lexer": "ipython3",
   "version": "3.9.16"
  }
 },
 "nbformat": 4,
 "nbformat_minor": 5
}
