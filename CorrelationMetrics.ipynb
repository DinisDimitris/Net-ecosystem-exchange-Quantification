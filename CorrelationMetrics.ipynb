{
 "cells": [
  {
   "cell_type": "code",
   "execution_count": 1,
   "id": "bfa61b70-a853-4b91-8a7a-3eaca7cd4b0b",
   "metadata": {
    "tags": []
   },
   "outputs": [],
   "source": [
    "import pandas as pd\n",
    "from pandas_ods_reader import read_ods\n",
    "import seaborn as sn\n",
    "import matplotlib.pyplot as plt\n",
    "import tqdm\n",
    "import os\n",
    "import warnings\n",
    "warnings.filterwarnings('ignore')"
   ]
  },
  {
   "cell_type": "markdown",
   "id": "37cae7f4-dde7-4e05-9729-06ed3ce906fd",
   "metadata": {
    "tags": []
   },
   "source": [
    "### This file is used to find correlation between Net biome productivity, soil organic carbon, ecosystem co2 and the rest of the properties\n",
    "\n",
    "\n",
    "#### Measured using Pearson's coefficient"
   ]
  },
  {
   "cell_type": "markdown",
   "id": "7a1a319a-7b7c-4c75-901a-1a2e50d0d5d1",
   "metadata": {},
   "source": [
    "#### Target dict contains the target variables from each file "
   ]
  },
  {
   "cell_type": "code",
   "execution_count": 2,
   "id": "0a7ce965-eeae-40db-a467-2bd0aa2158ab",
   "metadata": {},
   "outputs": [],
   "source": [
    "file_names = ['flux_soc_out', 'atmosphere_out', 'n_flux_out', 'p_flux_out', 'soil_c_out', 'soil_water_out', 'surf_water_out', 'temp_out']\n",
    "\n",
    "dirs = ['warm_temp_maize_soybean_irrigated', 'warm_temp_maize-soybean_dryland', 'cool_temp_maize_soybean']\n",
    "target_flux = ['CO2_FLUX', 'NBP']\n",
    "target_soil = ['ECO_CO2_FLUX', 'SOIL_CO2_FLUX']"
   ]
  },
  {
   "cell_type": "code",
   "execution_count": 3,
   "id": "2f729e88-b9ea-4946-93ee-8f45da9ef55a",
   "metadata": {
    "tags": []
   },
   "outputs": [],
   "source": [
    "def load_datasets(dirs: list) -> dict:\n",
    "    datasets = {}\n",
    "    for dr in dirs:\n",
    "        path = 'datasets/' + dr + '/daily_data_merged'\n",
    "        flux_soc = pd.read_csv(os.path.join(path, file_names[0] + '.csv'))\n",
    "        atm = pd.read_csv(os.path.join(path, file_names[1] + '.csv'))\n",
    "        nitrogen = pd.read_csv(os.path.join(path, file_names[2] + '.csv'))\n",
    "        phosp = pd.read_csv(os.path.join(path, file_names[3] + '.csv'))\n",
    "        soil_carbon = pd.read_csv(os.path.join(path, file_names[4] + '.csv'))\n",
    "        soil_water = pd.read_csv(os.path.join(path, file_names[5] + '.csv'))\n",
    "        surf_water = pd.read_csv(os.path.join(path, file_names[6] + '.csv'))\n",
    "        temp = pd.read_csv(os.path.join(path, file_names[7] + '.csv'))\n",
    "\n",
    "        flux_soc = flux_soc.drop(flux_soc.columns[0], axis=1)\n",
    "        atm = atm.drop(atm.columns[0], axis=1)\n",
    "        nitrogen = nitrogen.drop(nitrogen.columns[0], axis=1)\n",
    "        phosp = phosp.drop(phosp.columns[0], axis=1)\n",
    "        soil_carbon = soil_carbon.drop(soil_carbon.columns[0], axis=1)\n",
    "        soil_water = soil_water.drop(soil_water.columns[0], axis=1)\n",
    "        surf_water = surf_water.drop(surf_water.columns[0], axis=1)\n",
    "        temp = temp.drop(temp.columns[0], axis=1)\n",
    "\n",
    "        csv_list = [flux_soc, atm, nitrogen, phosp, soil_carbon, soil_water, surf_water, temp]\n",
    "\n",
    "        data_dict = {}\n",
    "        for i in range (len(csv_list)):\n",
    "            data_dict[file_names[i]] = csv_list[i]\n",
    "\n",
    "        datasets[dr] = data_dict\n",
    "\n",
    "    return datasets\n",
    "\n",
    "datasets = load_datasets(dirs)"
   ]
  },
  {
   "cell_type": "code",
   "execution_count": 4,
   "id": "b0740727-b41b-444f-a449-7721e4c9d9e0",
   "metadata": {
    "tags": []
   },
   "outputs": [],
   "source": [
    "# no GPT / copilot baby\n",
    "def get_correlations(data: dict, file_name: str, target_vars: list, threshold: int ) -> dict:\n",
    "    corr_dict = {}\n",
    "    for target_var in target_vars:\n",
    "        corr = pd.Series([])\n",
    "        target_data = data[file_name][target_var]\n",
    "        \n",
    "        for file in data:\n",
    "            df = data[file]\n",
    "            \n",
    "            if target_var not in df.columns:\n",
    "                df[target_var] = target_data\n",
    "                \n",
    "            c = df.corr()[target_var]\n",
    "            c = c[abs(c) > threshold]\n",
    "            c = c.where(c.index != target_var).dropna()\n",
    "            corr = pd.concat([corr, c])\n",
    "        \n",
    "        corr = corr.sort_values(ascending=False)\n",
    "        corr_dict[target_var] = corr\n",
    "    \n",
    "    return corr_dict     "
   ]
  },
  {
   "cell_type": "code",
   "execution_count": 5,
   "id": "6ebfb762-b57e-4268-92d6-e657e9506e43",
   "metadata": {
    "tags": []
   },
   "outputs": [],
   "source": [
    "corrs_per_dataset = {}\n",
    "for idx in datasets:\n",
    "    targets = {}\n",
    "    flux_corr = get_correlations(datasets[idx], 'flux_soc_out', target_flux, 0.6)\n",
    "\n",
    "    soil_corr = get_correlations(datasets[idx], 'soil_c_out', target_soil, 0.6)\n",
    "    \n",
    "    targets['flux'] = flux_corr\n",
    "    targets['soc'] = soil_corr\n",
    "    corrs_per_dataset[idx] = targets    "
   ]
  },
  {
   "cell_type": "code",
   "execution_count": 10,
   "id": "5a53f2ef-2ee3-4c7a-9a50-1edead237a7e",
   "metadata": {
    "tags": []
   },
   "outputs": [
    {
     "data": {
      "text/plain": [
       "ECO_RH             0.990075\n",
       "AUTO_RESP          0.936333\n",
       "ECO_RA             0.854971\n",
       "NET_PL_EXCH_P      0.733536\n",
       "NET_PL_EXCH_N      0.717263\n",
       "N2O_FLUX           0.642676\n",
       "O2_13              0.603034\n",
       "TMIN_SOIL_11      -0.605539\n",
       "TEMP_11           -0.605933\n",
       "TMAX_SOIL_11      -0.606578\n",
       "TTL_DIC           -0.613154\n",
       "SUR_DON+SED_FLX   -0.615236\n",
       "CO2_12            -0.624699\n",
       "LITTER_C          -0.626094\n",
       "ECO_HVST_N        -0.663872\n",
       "SUR_DOC+SED_FLX   -0.664400\n",
       "CO2_13            -0.665710\n",
       "TMIN_SOIL_12      -0.666647\n",
       "TEMP_12           -0.666994\n",
       "TMAX_SOIL_12      -0.667543\n",
       "NET_N_MIN         -0.685966\n",
       "ECO_HVST_P        -0.687861\n",
       "CH4_FLUX          -0.703826\n",
       "TMIN_SOIL_13      -0.707148\n",
       "TEMP_13           -0.707399\n",
       "TMAX_SOIL_13      -0.707812\n",
       "TMIN_SOIL_14      -0.724191\n",
       "TEMP_14           -0.724379\n",
       "TMAX_SOIL_14      -0.724703\n",
       "SUR_DIC_FLX       -0.727757\n",
       "NET_P_MIN         -0.732090\n",
       "ECO_NPP           -0.736765\n",
       "SUR_DIN_FLX       -0.787998\n",
       "ECO_GPP           -0.793190\n",
       "RUNOFF            -0.835934\n",
       "PRECN             -0.891662\n",
       "ET                -0.932285\n",
       "O2_FLUX           -0.997654\n",
       "dtype: float64"
      ]
     },
     "execution_count": 10,
     "metadata": {},
     "output_type": "execute_result"
    }
   ],
   "source": [
    "corrs_per_dataset['warm_temp_maize_soybean_irrigated']['flux']['CO2_FLUX']"
   ]
  },
  {
   "cell_type": "code",
   "execution_count": 11,
   "id": "76244f5c-605b-4cef-bc4b-5babbb6e83d1",
   "metadata": {
    "tags": []
   },
   "outputs": [
    {
     "data": {
      "text/plain": [
       "ECO_RH           0.949529\n",
       "ECO_RA           0.749474\n",
       "AUTO_RESP        0.673349\n",
       "O2_13            0.651048\n",
       "NET_PL_EXCH_N    0.626926\n",
       "O2_12            0.618405\n",
       "N2O_FLUX         0.601077\n",
       "RUNOFF          -0.622614\n",
       "TMIN_SOIL_11    -0.654392\n",
       "TEMP_11         -0.654804\n",
       "TMAX_SOIL_11    -0.655432\n",
       "TMIN_SOIL_12    -0.706792\n",
       "CH4_FLUX        -0.706902\n",
       "TEMP_12         -0.707151\n",
       "TMAX_SOIL_12    -0.707677\n",
       "SUR_DIN_FLX     -0.735948\n",
       "TMIN_SOIL_13    -0.739534\n",
       "TEMP_13         -0.739793\n",
       "TMAX_SOIL_13    -0.740175\n",
       "TMIN_SOIL_14    -0.752385\n",
       "TEMP_14         -0.752579\n",
       "TMAX_SOIL_14    -0.752874\n",
       "ECO_GPP         -0.761284\n",
       "ECO_NPP         -0.762566\n",
       "ET              -0.869423\n",
       "PRECN           -0.909101\n",
       "O2_FLUX         -0.997614\n",
       "dtype: float64"
      ]
     },
     "execution_count": 11,
     "metadata": {},
     "output_type": "execute_result"
    }
   ],
   "source": [
    "corrs_per_dataset['warm_temp_maize-soybean_dryland']['flux']['CO2_FLUX']"
   ]
  },
  {
   "cell_type": "code",
   "execution_count": 248,
   "id": "c5945c9c-2f01-4aa9-8c0d-0ea62bd64185",
   "metadata": {
    "tags": []
   },
   "outputs": [
    {
     "data": {
      "text/plain": [
       "CH4_FLUX         0.657553\n",
       "LITTER_C         0.619137\n",
       "AUTO_RESP       -0.677937\n",
       "SUB_DIC_FLX     -0.735793\n",
       "NET_PL_EXCH_P   -0.812025\n",
       "NET_PL_EXCH_N   -0.813142\n",
       "dtype: float64"
      ]
     },
     "execution_count": 248,
     "metadata": {},
     "output_type": "execute_result"
    }
   ],
   "source": [
    "corrs_per_dataset['cool_temp_maize_soybean']['flux']['CO2_FLUX']"
   ]
  }
 ],
 "metadata": {
  "kernelspec": {
   "display_name": "Python 3 (ipykernel)",
   "language": "python",
   "name": "python3"
  },
  "language_info": {
   "codemirror_mode": {
    "name": "ipython",
    "version": 3
   },
   "file_extension": ".py",
   "mimetype": "text/x-python",
   "name": "python",
   "nbconvert_exporter": "python",
   "pygments_lexer": "ipython3",
   "version": "3.8.16"
  }
 },
 "nbformat": 4,
 "nbformat_minor": 5
}
