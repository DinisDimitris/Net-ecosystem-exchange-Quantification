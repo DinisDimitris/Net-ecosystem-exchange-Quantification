{
 "cells": [
  {
   "cell_type": "markdown",
   "id": "379a5b4e-0c37-4446-b90e-1481924807bc",
   "metadata": {
    "tags": []
   },
   "source": [
    "### This file is used to retrieve weather data along with NEE from the ameriFLUX maize-soybean datasets"
   ]
  },
  {
   "cell_type": "code",
   "execution_count": 1,
   "id": "6c82943d-23b7-416d-8a46-1fe49e21de64",
   "metadata": {
    "tags": []
   },
   "outputs": [],
   "source": [
    "import pandas as pd\n",
    "import numpy as np\n",
    "from sklearn.metrics.pairwise import cosine_similarity, euclidean_distances\n",
    "from scipy.stats import pearsonr\n",
    "from sklearn.cluster import KMeans\n",
    "from sklearn.decomposition import PCA\n",
    "import os\n",
    "import warnings\n",
    "from sklearn import preprocessing\n",
    "import scipy.stats\n",
    "warnings.filterwarnings('ignore')"
   ]
  },
  {
   "cell_type": "code",
   "execution_count": 2,
   "id": "f65cd191-c64c-4db6-88a7-94573c80ea89",
   "metadata": {
    "tags": []
   },
   "outputs": [],
   "source": [
    "# loads all data sets into a dict\n",
    "def load_datasets(dirs: list, load_path: str) -> dict:\n",
    "    files = ['soil_c','surf_water','flux_soc','soil_water','n_flux','p_flux','temp', \n",
    "         'plant_c','plant_n','plant_p','canopcy_c','plant_stress','photosynthesis','plant_growth']\n",
    "    \n",
    "    #files.append('soil_temp', 'canopy_temp') missing \n",
    "    datasets = {}\n",
    "    \n",
    "    for dr in dirs:\n",
    "        csv_list = []\n",
    "        path = '../datasets/' + dr +  '/' + load_path\n",
    "        for f in files:\n",
    "            df = pd.read_csv(os.path.join(path,f + '.csv'))\n",
    "            df.drop(df.columns[0], axis=1)\n",
    "\n",
    "            csv_list.append(df)\n",
    "\n",
    "\n",
    "        data_dict = {}\n",
    "        for i in range (len(csv_list)):\n",
    "            data_dict[files[i]] = csv_list[i]\n",
    "\n",
    "        datasets[dr] = data_dict\n",
    "\n",
    "    return datasets\n",
    "\n",
    "dirs = ['warm_temp_maize_soybean_irrigated', 'warm_temp_maize-soybean_dryland', 'cool_temp_maize_soybean']\n",
    "\n",
    "datasets = load_datasets(dirs, 'csv_outs/with_plant_soil_details/')"
   ]
  },
  {
   "cell_type": "code",
   "execution_count": 3,
   "id": "a92fe2aa-e09d-472c-ab6b-f383749a982d",
   "metadata": {
    "tags": []
   },
   "outputs": [],
   "source": [
    "def rename_dupes(suffix: str, df: pd.DataFrame, dupes: list) -> pd.DataFrame:\n",
    "    for col in df.columns:\n",
    "        if col in dupes:\n",
    "            df.rename(columns={col: col + suffix}, inplace=True)\n",
    "    return df\n",
    "\n",
    "def average_numbered_columns(df):\n",
    "    numbered_cols = [col for col in df.columns if '_' in col and col.split('_')[-1].isdigit()]\n",
    "\n",
    "    col_groups = {}\n",
    "    for col in numbered_cols:\n",
    "        prefix = '_'.join(col.split('_')[:-1])\n",
    "        if prefix not in col_groups:\n",
    "            col_groups[prefix] = []\n",
    "        col_groups[prefix].append(col)\n",
    "\n",
    "    # calculate averages and add new columns\n",
    "    for prefix, cols in col_groups.items():\n",
    "        avg_col_name = prefix\n",
    "        avg_col_values = df[cols].mean(axis=1)\n",
    "        df[avg_col_name] = avg_col_values\n",
    "\n",
    "    # drop numbered columns\n",
    "    df = df.drop(columns=numbered_cols)\n",
    "\n",
    "    return df\n",
    "\n",
    "# turn all csv's to one dataframe\n",
    "def to_pd(df: dict, handle_dupes: bool, flatten_num_cols: bool) -> pd.DataFrame:\n",
    "    x = pd.DataFrame()\n",
    "    for file_name in df:\n",
    "        cur = df[file_name]\n",
    "            \n",
    "        x = pd.concat([x, df[file_name]], axis = 1)\n",
    "        \n",
    "    cheeky_col = 'unnamed.1'\n",
    "    cheeky_col2 = 'Unnamed: 0'\n",
    "    if cheeky_col in x.columns:\n",
    "        x = x.drop([cheeky_col], axis=1)\n",
    "    elif cheeky_col2 in x.columns:\n",
    "         x = x.drop([cheeky_col2], axis=1)\n",
    "    x = x.drop(['DATE'], axis=1)\n",
    "\n",
    "    if flatten_num_cols:\n",
    "        x = average_numbered_columns(x)\n",
    "        \n",
    "    x = x.loc[:,~x.columns.duplicated()].copy()\n",
    "    \n",
    "    one_hot = pd.get_dummies(x['GROWTH_STG'])\n",
    "    x= x.drop('GROWTH_STG',axis = 1)\n",
    "    # Join the encoded df\n",
    "    x = x.join(one_hot)\n",
    "\n",
    "    x.columns = x.columns.str.translate(\"\".maketrans({\"[\":\"{\", \"]\":\"}\",\"<\":\"^\"}))\n",
    "    \n",
    "    return x\n",
    "\n",
    "df_dry = to_pd(datasets['warm_temp_maize-soybean_dryland'], True, True)\n",
    "df_irr = to_pd(datasets['warm_temp_maize_soybean_irrigated'], True, True)\n",
    "df_cool = to_pd(datasets['cool_temp_maize_soybean'], True, True)\n",
    "\n",
    "# NEE = GPP - ER:\n",
    "#GPP = GROSS PRIMARY PRODUCTION (TOTAL C INTAKE) \n",
    "#ER = total C uptake =  ECO_RH + ECO_RA =  autotrophic + heterotrophic respiration \n",
    "#NPP = GPP + ECO_RA\n",
    "df_dry['NEE'] = df_dry['ECO_NPP'] - df_dry['ECO_RH']\n",
    "df_irr['NEE'] = df_irr['ECO_NPP'] - df_irr['ECO_RH']\n",
    "df_cool['NEE'] = df_cool['ECO_NPP'] - df_cool['ECO_RH']\n",
    "nee = df_irr['NEE']\n",
    "#y = df[target].copy()\n",
    "#df = df.drop(target, axis=1)"
   ]
  },
  {
   "cell_type": "markdown",
   "id": "2a73c563-6f98-4f76-863f-102f298082fd",
   "metadata": {},
   "source": [
    "#### Daily ameriflux data for site US-Ne1 "
   ]
  },
  {
   "cell_type": "code",
   "execution_count": 4,
   "id": "a12b77b5-0118-4839-b35d-196f0ac75b1e",
   "metadata": {
    "tags": []
   },
   "outputs": [],
   "source": [
    "df = pd.read_csv('../datasets/AMF_US-Ne1_FLUXNET_FULLSET_DD_2001-2020_3-5.csv')\n",
    "\n",
    "mask = (df['TIMESTAMP'] >= 20150101) & (df['TIMESTAMP'] <= 20221231)\n",
    "\n",
    "df = df.loc[mask].reset_index()\n",
    "\n",
    "avg_w_ins = ['DOY', 'RADN', 'TMAX_AIR', 'TMIN_AIR',  'WIND',\n",
    "       'D_W_PRECN','TMAX_SOIL', 'TMIN_SOIL', 'HMAX_AIR', 'HMIN_AIR']\n",
    "df_irr = df_irr[avg_w_ins][:2192].reset_index()\n",
    "nee = nee[:2192]\n",
    "df_irr.describe()\n",
    "\n",
    "filter_col = [col for col in df if col.startswith('NEE') and not col.endswith('QC')]    \n",
    "nee_df = df[filter_col]\n",
    "df['DOY'] = df_irr['DOY'].values\n",
    "#df.drop('Index', axis=1)"
   ]
  },
  {
   "cell_type": "code",
   "execution_count": 5,
   "id": "8650581d-fb03-4b6b-842a-2c2a51ab8022",
   "metadata": {
    "tags": []
   },
   "outputs": [
    {
     "data": {
      "text/html": [
       "<div>\n",
       "<style scoped>\n",
       "    .dataframe tbody tr th:only-of-type {\n",
       "        vertical-align: middle;\n",
       "    }\n",
       "\n",
       "    .dataframe tbody tr th {\n",
       "        vertical-align: top;\n",
       "    }\n",
       "\n",
       "    .dataframe thead th {\n",
       "        text-align: right;\n",
       "    }\n",
       "</style>\n",
       "<table border=\"1\" class=\"dataframe\">\n",
       "  <thead>\n",
       "    <tr style=\"text-align: right;\">\n",
       "      <th></th>\n",
       "      <th>index</th>\n",
       "      <th>TIMESTAMP</th>\n",
       "      <th>TA_F_MDS</th>\n",
       "      <th>TA_F_MDS_QC</th>\n",
       "      <th>TA_F_MDS_NIGHT</th>\n",
       "      <th>TA_F_MDS_NIGHT_SD</th>\n",
       "      <th>TA_F_MDS_NIGHT_QC</th>\n",
       "      <th>TA_F_MDS_DAY</th>\n",
       "      <th>TA_F_MDS_DAY_SD</th>\n",
       "      <th>TA_F_MDS_DAY_QC</th>\n",
       "      <th>...</th>\n",
       "      <th>GPP_DT_CUT_05</th>\n",
       "      <th>GPP_DT_CUT_16</th>\n",
       "      <th>GPP_DT_CUT_25</th>\n",
       "      <th>GPP_DT_CUT_50</th>\n",
       "      <th>GPP_DT_CUT_75</th>\n",
       "      <th>GPP_DT_CUT_84</th>\n",
       "      <th>GPP_DT_CUT_95</th>\n",
       "      <th>RECO_SR</th>\n",
       "      <th>RECO_SR_N</th>\n",
       "      <th>DOY</th>\n",
       "    </tr>\n",
       "  </thead>\n",
       "  <tbody>\n",
       "    <tr>\n",
       "      <th>0</th>\n",
       "      <td>5113</td>\n",
       "      <td>20150101</td>\n",
       "      <td>-6.186</td>\n",
       "      <td>1.0</td>\n",
       "      <td>-8.401</td>\n",
       "      <td>4.193</td>\n",
       "      <td>1.0</td>\n",
       "      <td>-3.569</td>\n",
       "      <td>4.593</td>\n",
       "      <td>1.0</td>\n",
       "      <td>...</td>\n",
       "      <td>0.0</td>\n",
       "      <td>0.0</td>\n",
       "      <td>0.0</td>\n",
       "      <td>0.049122</td>\n",
       "      <td>0.083675</td>\n",
       "      <td>0.109576</td>\n",
       "      <td>0.158684</td>\n",
       "      <td>-9999</td>\n",
       "      <td>-9999</td>\n",
       "      <td>0.520833</td>\n",
       "    </tr>\n",
       "    <tr>\n",
       "      <th>1</th>\n",
       "      <td>5114</td>\n",
       "      <td>20150102</td>\n",
       "      <td>-5.299</td>\n",
       "      <td>1.0</td>\n",
       "      <td>-6.448</td>\n",
       "      <td>3.612</td>\n",
       "      <td>1.0</td>\n",
       "      <td>-3.942</td>\n",
       "      <td>3.916</td>\n",
       "      <td>1.0</td>\n",
       "      <td>...</td>\n",
       "      <td>0.0</td>\n",
       "      <td>0.0</td>\n",
       "      <td>0.0</td>\n",
       "      <td>0.048022</td>\n",
       "      <td>0.085488</td>\n",
       "      <td>0.109471</td>\n",
       "      <td>0.158226</td>\n",
       "      <td>-9999</td>\n",
       "      <td>-9999</td>\n",
       "      <td>1.520833</td>\n",
       "    </tr>\n",
       "    <tr>\n",
       "      <th>2</th>\n",
       "      <td>5115</td>\n",
       "      <td>20150103</td>\n",
       "      <td>-6.735</td>\n",
       "      <td>1.0</td>\n",
       "      <td>-9.256</td>\n",
       "      <td>3.025</td>\n",
       "      <td>1.0</td>\n",
       "      <td>-3.755</td>\n",
       "      <td>3.388</td>\n",
       "      <td>1.0</td>\n",
       "      <td>...</td>\n",
       "      <td>0.0</td>\n",
       "      <td>0.0</td>\n",
       "      <td>0.0</td>\n",
       "      <td>0.050269</td>\n",
       "      <td>0.099941</td>\n",
       "      <td>0.115981</td>\n",
       "      <td>0.126642</td>\n",
       "      <td>-9999</td>\n",
       "      <td>-9999</td>\n",
       "      <td>2.520833</td>\n",
       "    </tr>\n",
       "    <tr>\n",
       "      <th>3</th>\n",
       "      <td>5116</td>\n",
       "      <td>20150104</td>\n",
       "      <td>-15.570</td>\n",
       "      <td>1.0</td>\n",
       "      <td>-15.528</td>\n",
       "      <td>1.277</td>\n",
       "      <td>1.0</td>\n",
       "      <td>-15.621</td>\n",
       "      <td>2.236</td>\n",
       "      <td>1.0</td>\n",
       "      <td>...</td>\n",
       "      <td>0.0</td>\n",
       "      <td>0.0</td>\n",
       "      <td>0.0</td>\n",
       "      <td>0.076318</td>\n",
       "      <td>0.101338</td>\n",
       "      <td>0.145445</td>\n",
       "      <td>0.151241</td>\n",
       "      <td>-9999</td>\n",
       "      <td>-9999</td>\n",
       "      <td>3.520833</td>\n",
       "    </tr>\n",
       "    <tr>\n",
       "      <th>4</th>\n",
       "      <td>5117</td>\n",
       "      <td>20150105</td>\n",
       "      <td>-10.930</td>\n",
       "      <td>1.0</td>\n",
       "      <td>-10.808</td>\n",
       "      <td>3.707</td>\n",
       "      <td>1.0</td>\n",
       "      <td>-11.075</td>\n",
       "      <td>1.424</td>\n",
       "      <td>1.0</td>\n",
       "      <td>...</td>\n",
       "      <td>0.0</td>\n",
       "      <td>0.0</td>\n",
       "      <td>0.0</td>\n",
       "      <td>0.051239</td>\n",
       "      <td>0.075203</td>\n",
       "      <td>0.121472</td>\n",
       "      <td>0.142535</td>\n",
       "      <td>-9999</td>\n",
       "      <td>-9999</td>\n",
       "      <td>4.520833</td>\n",
       "    </tr>\n",
       "    <tr>\n",
       "      <th>...</th>\n",
       "      <td>...</td>\n",
       "      <td>...</td>\n",
       "      <td>...</td>\n",
       "      <td>...</td>\n",
       "      <td>...</td>\n",
       "      <td>...</td>\n",
       "      <td>...</td>\n",
       "      <td>...</td>\n",
       "      <td>...</td>\n",
       "      <td>...</td>\n",
       "      <td>...</td>\n",
       "      <td>...</td>\n",
       "      <td>...</td>\n",
       "      <td>...</td>\n",
       "      <td>...</td>\n",
       "      <td>...</td>\n",
       "      <td>...</td>\n",
       "      <td>...</td>\n",
       "      <td>...</td>\n",
       "      <td>...</td>\n",
       "      <td>...</td>\n",
       "    </tr>\n",
       "    <tr>\n",
       "      <th>2187</th>\n",
       "      <td>7300</td>\n",
       "      <td>20201227</td>\n",
       "      <td>-0.632</td>\n",
       "      <td>1.0</td>\n",
       "      <td>-1.684</td>\n",
       "      <td>1.191</td>\n",
       "      <td>1.0</td>\n",
       "      <td>0.840</td>\n",
       "      <td>1.678</td>\n",
       "      <td>1.0</td>\n",
       "      <td>...</td>\n",
       "      <td>0.0</td>\n",
       "      <td>0.0</td>\n",
       "      <td>0.0</td>\n",
       "      <td>0.000000</td>\n",
       "      <td>0.073314</td>\n",
       "      <td>0.111657</td>\n",
       "      <td>0.183398</td>\n",
       "      <td>-9999</td>\n",
       "      <td>-9999</td>\n",
       "      <td>361.520833</td>\n",
       "    </tr>\n",
       "    <tr>\n",
       "      <th>2188</th>\n",
       "      <td>7301</td>\n",
       "      <td>20201228</td>\n",
       "      <td>-3.868</td>\n",
       "      <td>1.0</td>\n",
       "      <td>-4.424</td>\n",
       "      <td>0.806</td>\n",
       "      <td>1.0</td>\n",
       "      <td>-3.090</td>\n",
       "      <td>1.698</td>\n",
       "      <td>1.0</td>\n",
       "      <td>...</td>\n",
       "      <td>0.0</td>\n",
       "      <td>0.0</td>\n",
       "      <td>0.0</td>\n",
       "      <td>0.000000</td>\n",
       "      <td>0.086679</td>\n",
       "      <td>0.140294</td>\n",
       "      <td>0.194673</td>\n",
       "      <td>-9999</td>\n",
       "      <td>-9999</td>\n",
       "      <td>362.520833</td>\n",
       "    </tr>\n",
       "    <tr>\n",
       "      <th>2189</th>\n",
       "      <td>7302</td>\n",
       "      <td>20201229</td>\n",
       "      <td>-3.761</td>\n",
       "      <td>1.0</td>\n",
       "      <td>-3.686</td>\n",
       "      <td>1.255</td>\n",
       "      <td>1.0</td>\n",
       "      <td>-3.867</td>\n",
       "      <td>1.208</td>\n",
       "      <td>1.0</td>\n",
       "      <td>...</td>\n",
       "      <td>0.0</td>\n",
       "      <td>0.0</td>\n",
       "      <td>0.0</td>\n",
       "      <td>0.000000</td>\n",
       "      <td>0.075985</td>\n",
       "      <td>0.116731</td>\n",
       "      <td>0.179941</td>\n",
       "      <td>-9999</td>\n",
       "      <td>-9999</td>\n",
       "      <td>363.520833</td>\n",
       "    </tr>\n",
       "    <tr>\n",
       "      <th>2190</th>\n",
       "      <td>7303</td>\n",
       "      <td>20201230</td>\n",
       "      <td>-6.133</td>\n",
       "      <td>1.0</td>\n",
       "      <td>-6.860</td>\n",
       "      <td>4.752</td>\n",
       "      <td>1.0</td>\n",
       "      <td>-5.274</td>\n",
       "      <td>1.445</td>\n",
       "      <td>1.0</td>\n",
       "      <td>...</td>\n",
       "      <td>0.0</td>\n",
       "      <td>0.0</td>\n",
       "      <td>0.0</td>\n",
       "      <td>0.000000</td>\n",
       "      <td>0.130820</td>\n",
       "      <td>0.152289</td>\n",
       "      <td>0.198430</td>\n",
       "      <td>-9999</td>\n",
       "      <td>-9999</td>\n",
       "      <td>364.520833</td>\n",
       "    </tr>\n",
       "    <tr>\n",
       "      <th>2191</th>\n",
       "      <td>7304</td>\n",
       "      <td>20201231</td>\n",
       "      <td>-8.544</td>\n",
       "      <td>1.0</td>\n",
       "      <td>-10.908</td>\n",
       "      <td>4.765</td>\n",
       "      <td>1.0</td>\n",
       "      <td>-5.750</td>\n",
       "      <td>4.936</td>\n",
       "      <td>1.0</td>\n",
       "      <td>...</td>\n",
       "      <td>0.0</td>\n",
       "      <td>0.0</td>\n",
       "      <td>0.0</td>\n",
       "      <td>0.000000</td>\n",
       "      <td>0.127448</td>\n",
       "      <td>0.157322</td>\n",
       "      <td>0.219827</td>\n",
       "      <td>-9999</td>\n",
       "      <td>-9999</td>\n",
       "      <td>365.520833</td>\n",
       "    </tr>\n",
       "  </tbody>\n",
       "</table>\n",
       "<p>2192 rows × 346 columns</p>\n",
       "</div>"
      ],
      "text/plain": [
       "      index  TIMESTAMP  TA_F_MDS  TA_F_MDS_QC  TA_F_MDS_NIGHT  \\\n",
       "0      5113   20150101    -6.186          1.0          -8.401   \n",
       "1      5114   20150102    -5.299          1.0          -6.448   \n",
       "2      5115   20150103    -6.735          1.0          -9.256   \n",
       "3      5116   20150104   -15.570          1.0         -15.528   \n",
       "4      5117   20150105   -10.930          1.0         -10.808   \n",
       "...     ...        ...       ...          ...             ...   \n",
       "2187   7300   20201227    -0.632          1.0          -1.684   \n",
       "2188   7301   20201228    -3.868          1.0          -4.424   \n",
       "2189   7302   20201229    -3.761          1.0          -3.686   \n",
       "2190   7303   20201230    -6.133          1.0          -6.860   \n",
       "2191   7304   20201231    -8.544          1.0         -10.908   \n",
       "\n",
       "      TA_F_MDS_NIGHT_SD  TA_F_MDS_NIGHT_QC  TA_F_MDS_DAY  TA_F_MDS_DAY_SD  \\\n",
       "0                 4.193                1.0        -3.569            4.593   \n",
       "1                 3.612                1.0        -3.942            3.916   \n",
       "2                 3.025                1.0        -3.755            3.388   \n",
       "3                 1.277                1.0       -15.621            2.236   \n",
       "4                 3.707                1.0       -11.075            1.424   \n",
       "...                 ...                ...           ...              ...   \n",
       "2187              1.191                1.0         0.840            1.678   \n",
       "2188              0.806                1.0        -3.090            1.698   \n",
       "2189              1.255                1.0        -3.867            1.208   \n",
       "2190              4.752                1.0        -5.274            1.445   \n",
       "2191              4.765                1.0        -5.750            4.936   \n",
       "\n",
       "      TA_F_MDS_DAY_QC  ...  GPP_DT_CUT_05  GPP_DT_CUT_16  GPP_DT_CUT_25  \\\n",
       "0                 1.0  ...            0.0            0.0            0.0   \n",
       "1                 1.0  ...            0.0            0.0            0.0   \n",
       "2                 1.0  ...            0.0            0.0            0.0   \n",
       "3                 1.0  ...            0.0            0.0            0.0   \n",
       "4                 1.0  ...            0.0            0.0            0.0   \n",
       "...               ...  ...            ...            ...            ...   \n",
       "2187              1.0  ...            0.0            0.0            0.0   \n",
       "2188              1.0  ...            0.0            0.0            0.0   \n",
       "2189              1.0  ...            0.0            0.0            0.0   \n",
       "2190              1.0  ...            0.0            0.0            0.0   \n",
       "2191              1.0  ...            0.0            0.0            0.0   \n",
       "\n",
       "      GPP_DT_CUT_50  GPP_DT_CUT_75  GPP_DT_CUT_84  GPP_DT_CUT_95  RECO_SR  \\\n",
       "0          0.049122       0.083675       0.109576       0.158684    -9999   \n",
       "1          0.048022       0.085488       0.109471       0.158226    -9999   \n",
       "2          0.050269       0.099941       0.115981       0.126642    -9999   \n",
       "3          0.076318       0.101338       0.145445       0.151241    -9999   \n",
       "4          0.051239       0.075203       0.121472       0.142535    -9999   \n",
       "...             ...            ...            ...            ...      ...   \n",
       "2187       0.000000       0.073314       0.111657       0.183398    -9999   \n",
       "2188       0.000000       0.086679       0.140294       0.194673    -9999   \n",
       "2189       0.000000       0.075985       0.116731       0.179941    -9999   \n",
       "2190       0.000000       0.130820       0.152289       0.198430    -9999   \n",
       "2191       0.000000       0.127448       0.157322       0.219827    -9999   \n",
       "\n",
       "      RECO_SR_N         DOY  \n",
       "0         -9999    0.520833  \n",
       "1         -9999    1.520833  \n",
       "2         -9999    2.520833  \n",
       "3         -9999    3.520833  \n",
       "4         -9999    4.520833  \n",
       "...         ...         ...  \n",
       "2187      -9999  361.520833  \n",
       "2188      -9999  362.520833  \n",
       "2189      -9999  363.520833  \n",
       "2190      -9999  364.520833  \n",
       "2191      -9999  365.520833  \n",
       "\n",
       "[2192 rows x 346 columns]"
      ]
     },
     "execution_count": 5,
     "metadata": {},
     "output_type": "execute_result"
    }
   ],
   "source": [
    "df"
   ]
  },
  {
   "cell_type": "markdown",
   "id": "58765500-e7f5-4d04-a914-0bc14f9efcb6",
   "metadata": {},
   "source": [
    "### Introduce two measurements Jensen Shannon distance, and  pearson's correlation coefficient distance to find the most similar observed NEE \n",
    "#### Linear and non-linear"
   ]
  },
  {
   "cell_type": "code",
   "execution_count": 11,
   "id": "e79b57a1-4109-44e1-bdd5-4e830e82c1b9",
   "metadata": {
    "tags": []
   },
   "outputs": [],
   "source": [
    "def jensen_shannon_distance(p, q):\n",
    "    \"\"\"\n",
    "    method to compute the Jenson-Shannon Distance \n",
    "    between two probability distributions\n",
    "    \"\"\"\n",
    "\n",
    "    # convert the vectors into numpy arrays in case that they aren't\n",
    "    p = np.array(p)\n",
    "    q = np.array(q)\n",
    "\n",
    "    # calculate m\n",
    "    m = (p + q) / 2\n",
    "\n",
    "    # compute Jensen Shannon Divergence\n",
    "    divergence = (scipy.stats.entropy(p, m) + scipy.stats.entropy(q, m)) / 2\n",
    "\n",
    "    # compute the Jensen Shannon Distance\n",
    "    distance = np.sqrt(divergence)\n",
    "\n",
    "    return distance\n",
    "\n",
    "\n",
    "def pearson(p,q):\n",
    "    return np.corrcoef(p, q)\n",
    "    "
   ]
  },
  {
   "cell_type": "markdown",
   "id": "115d3580-47a6-4ba7-9cee-69f03d900f51",
   "metadata": {},
   "source": [
    "### jensen shannon distance, Pearson corr, cosine similarity and K means\n",
    "#### Used to find the most similar probability distributions between the variations of weather data from observed, and ecosys"
   ]
  },
  {
   "cell_type": "code",
   "execution_count": 12,
   "id": "7e252498-424d-4862-a887-3671bb895c94",
   "metadata": {
    "tags": []
   },
   "outputs": [],
   "source": [
    "from sklearn.metrics.pairwise import cosine_similarity\n",
    "from sklearn.metrics import silhouette_score\n",
    "\n",
    "def get_most_similar(y, df, normalized: False) -> dict:\n",
    "    scores = {}\n",
    "    smallest_residual  = 99999\n",
    "    biggest_corr = -9999\n",
    "    col_corr = ''\n",
    "    col_res = ''\n",
    "    \n",
    "    y_norm = pd.Series(preprocessing.normalize([y])[0], name='NEE')\n",
    "\n",
    "    for col in df:\n",
    "        if normalized:\n",
    "            y = y_norm\n",
    "            df[col] = preprocessing.normalize([df[col]])[0]\n",
    "            \n",
    "        sim = jensen_shannon_distance(y, df[col])\n",
    "        corr_coef = pearson(y, df[col]).mean()\n",
    "        \n",
    "        if sim  < smallest_residual:\n",
    "            smallest_residual = sim\n",
    "            col_res = col\n",
    "            \n",
    "        if corr_coef > biggest_corr:\n",
    "            col_corr = col\n",
    "            biggest_corr = corr_coef\n",
    "            \n",
    "    scores[\"JSD\"] = {col_res: smallest_residual}\n",
    "    scores[\"PRSN\"] = {col_corr: biggest_corr}\n",
    "    scores[\"Cosine similarity\"] = cosine_sim(df, y)\n",
    "    scores[\"K-Means\"] = find_kmeans(df, y)\n",
    "    \n",
    "    return scores\n",
    "\n",
    "\n",
    "def cosine_sim(X, y):\n",
    "    similarities = {}\n",
    "    y_reshaped = y.values.reshape(1, -1)  # Reshape y\n",
    "    for col in X.columns:\n",
    "        col_reshaped = X[col].values.reshape(1, -1)  # Reshape column\n",
    "        similarity = cosine_similarity(col_reshaped, y_reshaped)\n",
    "        similarities[col] = similarity[0][0]\n",
    "    most_similar_col = max(similarities, key=similarities.get)\n",
    "    most_similar_col_score = similarities[most_similar_col]\n",
    "    return {most_similar_col: most_similar_col_score}\n",
    "\n",
    "def find_kmeans(X, y):\n",
    "    kmeans = KMeans(n_clusters=6, random_state=0).fit(X.T)\n",
    "    y_cluster = kmeans.predict(y.values.reshape(1, -1))\n",
    "    most_similar_col_idx = np.where(kmeans.labels_ == y_cluster)[0][0]\n",
    "    return X.columns[most_similar_col_idx]\n"
   ]
  },
  {
   "cell_type": "code",
   "execution_count": 10,
   "id": "2f6aebf3-237e-4293-8a95-d056eb491093",
   "metadata": {},
   "outputs": [],
   "source": [
    "ext = pd.read_csv('../datasets/extractedUSNEE_CUT_05_NIGHT.csv')"
   ]
  },
  {
   "cell_type": "code",
   "execution_count": 11,
   "id": "c29e1ecf-ffe2-4b13-b478-ecaa9964c476",
   "metadata": {
    "tags": []
   },
   "outputs": [
    {
     "data": {
      "text/html": [
       "<div>\n",
       "<style scoped>\n",
       "    .dataframe tbody tr th:only-of-type {\n",
       "        vertical-align: middle;\n",
       "    }\n",
       "\n",
       "    .dataframe tbody tr th {\n",
       "        vertical-align: top;\n",
       "    }\n",
       "\n",
       "    .dataframe thead th {\n",
       "        text-align: right;\n",
       "    }\n",
       "</style>\n",
       "<table border=\"1\" class=\"dataframe\">\n",
       "  <thead>\n",
       "    <tr style=\"text-align: right;\">\n",
       "      <th></th>\n",
       "      <th>Unnamed: 0</th>\n",
       "      <th>TMIN_AIR</th>\n",
       "      <th>TMAX_SOIL</th>\n",
       "      <th>TMAX_AIR</th>\n",
       "      <th>RADN</th>\n",
       "      <th>WIND</th>\n",
       "      <th>D_W_PRECN</th>\n",
       "      <th>TMIN_SOIL</th>\n",
       "      <th>NEE</th>\n",
       "    </tr>\n",
       "  </thead>\n",
       "  <tbody>\n",
       "    <tr>\n",
       "      <th>count</th>\n",
       "      <td>2192.000000</td>\n",
       "      <td>2192.000000</td>\n",
       "      <td>2192.000000</td>\n",
       "      <td>2192.000000</td>\n",
       "      <td>2192.000000</td>\n",
       "      <td>2192.000000</td>\n",
       "      <td>2192.000000</td>\n",
       "      <td>2192.000000</td>\n",
       "      <td>2192.000000</td>\n",
       "    </tr>\n",
       "    <tr>\n",
       "      <th>mean</th>\n",
       "      <td>6208.500000</td>\n",
       "      <td>2.536832</td>\n",
       "      <td>12.038186</td>\n",
       "      <td>12.508763</td>\n",
       "      <td>178.459320</td>\n",
       "      <td>2.985406</td>\n",
       "      <td>2.618802</td>\n",
       "      <td>-9268.723397</td>\n",
       "      <td>2.945288</td>\n",
       "    </tr>\n",
       "    <tr>\n",
       "      <th>std</th>\n",
       "      <td>632.920216</td>\n",
       "      <td>1.480891</td>\n",
       "      <td>8.446921</td>\n",
       "      <td>11.586313</td>\n",
       "      <td>94.545238</td>\n",
       "      <td>1.100184</td>\n",
       "      <td>6.626027</td>\n",
       "      <td>2603.085535</td>\n",
       "      <td>3.265968</td>\n",
       "    </tr>\n",
       "    <tr>\n",
       "      <th>min</th>\n",
       "      <td>5113.000000</td>\n",
       "      <td>0.052000</td>\n",
       "      <td>-0.935000</td>\n",
       "      <td>-21.228000</td>\n",
       "      <td>6.200000</td>\n",
       "      <td>0.779000</td>\n",
       "      <td>0.000000</td>\n",
       "      <td>-9999.000000</td>\n",
       "      <td>-9.409830</td>\n",
       "    </tr>\n",
       "    <tr>\n",
       "      <th>25%</th>\n",
       "      <td>5660.750000</td>\n",
       "      <td>1.405750</td>\n",
       "      <td>3.415500</td>\n",
       "      <td>3.598000</td>\n",
       "      <td>103.761500</td>\n",
       "      <td>2.182250</td>\n",
       "      <td>0.000000</td>\n",
       "      <td>-9999.000000</td>\n",
       "      <td>0.601852</td>\n",
       "    </tr>\n",
       "    <tr>\n",
       "      <th>50%</th>\n",
       "      <td>6208.500000</td>\n",
       "      <td>2.220000</td>\n",
       "      <td>11.945500</td>\n",
       "      <td>13.953000</td>\n",
       "      <td>169.787500</td>\n",
       "      <td>2.822000</td>\n",
       "      <td>0.046000</td>\n",
       "      <td>-9999.000000</td>\n",
       "      <td>1.362580</td>\n",
       "    </tr>\n",
       "    <tr>\n",
       "      <th>75%</th>\n",
       "      <td>6756.250000</td>\n",
       "      <td>3.399500</td>\n",
       "      <td>20.584500</td>\n",
       "      <td>22.664500</td>\n",
       "      <td>258.478500</td>\n",
       "      <td>3.625250</td>\n",
       "      <td>1.425000</td>\n",
       "      <td>-9999.000000</td>\n",
       "      <td>5.305025</td>\n",
       "    </tr>\n",
       "    <tr>\n",
       "      <th>max</th>\n",
       "      <td>7304.000000</td>\n",
       "      <td>9.359000</td>\n",
       "      <td>26.569000</td>\n",
       "      <td>32.267000</td>\n",
       "      <td>374.446000</td>\n",
       "      <td>7.464000</td>\n",
       "      <td>84.902000</td>\n",
       "      <td>16.813000</td>\n",
       "      <td>14.375300</td>\n",
       "    </tr>\n",
       "  </tbody>\n",
       "</table>\n",
       "</div>"
      ],
      "text/plain": [
       "        Unnamed: 0     TMIN_AIR    TMAX_SOIL     TMAX_AIR         RADN  \\\n",
       "count  2192.000000  2192.000000  2192.000000  2192.000000  2192.000000   \n",
       "mean   6208.500000     2.536832    12.038186    12.508763   178.459320   \n",
       "std     632.920216     1.480891     8.446921    11.586313    94.545238   \n",
       "min    5113.000000     0.052000    -0.935000   -21.228000     6.200000   \n",
       "25%    5660.750000     1.405750     3.415500     3.598000   103.761500   \n",
       "50%    6208.500000     2.220000    11.945500    13.953000   169.787500   \n",
       "75%    6756.250000     3.399500    20.584500    22.664500   258.478500   \n",
       "max    7304.000000     9.359000    26.569000    32.267000   374.446000   \n",
       "\n",
       "              WIND    D_W_PRECN    TMIN_SOIL          NEE  \n",
       "count  2192.000000  2192.000000  2192.000000  2192.000000  \n",
       "mean      2.985406     2.618802 -9268.723397     2.945288  \n",
       "std       1.100184     6.626027  2603.085535     3.265968  \n",
       "min       0.779000     0.000000 -9999.000000    -9.409830  \n",
       "25%       2.182250     0.000000 -9999.000000     0.601852  \n",
       "50%       2.822000     0.046000 -9999.000000     1.362580  \n",
       "75%       3.625250     1.425000 -9999.000000     5.305025  \n",
       "max       7.464000    84.902000    16.813000    14.375300  "
      ]
     },
     "execution_count": 11,
     "metadata": {},
     "output_type": "execute_result"
    }
   ],
   "source": [
    "ext.describe()"
   ]
  },
  {
   "cell_type": "code",
   "execution_count": 12,
   "id": "04dff0f2-7f37-45b1-874a-cdf7c4035930",
   "metadata": {
    "tags": []
   },
   "outputs": [],
   "source": [
    "avg_w_ins = ['DOY', 'RADN', 'TMAX_AIR', 'TMIN_AIR',  'WIND',\n",
    "       'D_W_PRECN','TMAX_SOIL', 'TMIN_SOIL', 'HMAX_AIR', 'HMIN_AIR']\n",
    "df_irr = df_irr[avg_w_ins][:2192]\n",
    "nee = nee[:2192]\n",
    "df_irr.describe()\n",
    "\n",
    "filter_col = [col for col in df if col.startswith('NEE') and not col.endswith('QC')]    \n",
    "nee_df = df[filter_col]"
   ]
  },
  {
   "cell_type": "markdown",
   "id": "f21ea260-2e3d-45c8-84bf-f1cb79217a61",
   "metadata": {},
   "source": [
    "### Avg wind M s^-1 is 300 in simulated data, so reducing it by 100 factor "
   ]
  },
  {
   "cell_type": "code",
   "execution_count": 13,
   "id": "d520a0cc-3fa6-4b03-be9f-d3299b46bec6",
   "metadata": {
    "tags": []
   },
   "outputs": [],
   "source": [
    "df_irr['WIND'] = df_irr['WIND']/ 100"
   ]
  },
  {
   "cell_type": "code",
   "execution_count": 14,
   "id": "219e9216-c5b3-4441-8fcb-de7b2af4c1cc",
   "metadata": {
    "tags": []
   },
   "outputs": [
    {
     "data": {
      "text/plain": [
       "0       3.31524\n",
       "1       2.47068\n",
       "2       2.45952\n",
       "3       3.76056\n",
       "4       3.67992\n",
       "         ...   \n",
       "2187    1.48104\n",
       "2188    2.03364\n",
       "2189    4.27104\n",
       "2190    2.22876\n",
       "2191    2.22876\n",
       "Name: WIND, Length: 2192, dtype: float64"
      ]
     },
     "execution_count": 14,
     "metadata": {},
     "output_type": "execute_result"
    }
   ],
   "source": [
    "df_irr['WIND']"
   ]
  },
  {
   "cell_type": "code",
   "execution_count": 15,
   "id": "d8cd7969-a8c4-4a3a-aa2f-ce27ad2d888b",
   "metadata": {
    "tags": []
   },
   "outputs": [
    {
     "name": "stdout",
     "output_type": "stream",
     "text": [
      "Similarity for RADN:\n",
      "{'JSD': {'SW_IN_POT': 0.1271263645923741}, 'PRSN': {'SW_IN_POT': 0.8901600167911246}, 'Cosine similarity': {'SW_IN_POT': 0.9580015543529974}, 'K-Means': 'TIMESTAMP'}\n",
      "Similarity for TMAX_AIR:\n",
      "{'JSD': {'': 99999}, 'PRSN': {'TS_F_MDS_4': 0.9162869304155195}, 'Cosine similarity': {'TS_F_MDS_7': 0.9343146027310274}, 'K-Means': 'TA_F_MDS'}\n",
      "Similarity for TMIN_AIR:\n",
      "{'JSD': {'': 99999}, 'PRSN': {'TS_F_MDS_4': 0.934054023616878}, 'Cosine similarity': {'TA_ERA_NIGHT': 0.8212129266913064}, 'K-Means': 'TA_F_MDS'}\n",
      "Similarity for WIND:\n",
      "{'JSD': {'SWC_F_MDS_3': 0.13224455944025232}, 'PRSN': {'NEE_CUT_05_DAY': 0.6557638726457695}, 'Cosine similarity': {'SWC_F_MDS_3': 0.9328949966289855}, 'K-Means': 'TIMESTAMP'}\n",
      "Similarity for D_W_PRECN:\n",
      "{'JSD': {'GPP_DT_CUT_SE': 0.6683177752443282}, 'PRSN': {'RECO_NT_VUT_95': 0.615246704251489}, 'Cosine similarity': {'RECO_NT_VUT_95': 0.37230943847804804}, 'K-Means': 'TA_F_MDS'}\n",
      "Similarity for TMAX_SOIL:\n",
      "{'JSD': {'SW_IN_POT': 0.14383686289778708}, 'PRSN': {'TS_F_MDS_7': 0.9595060678074991}, 'Cosine similarity': {'TS_F_MDS_7': 0.9705882369665542}, 'K-Means': 'TIMESTAMP'}\n",
      "Similarity for TMIN_SOIL:\n",
      "{'JSD': {'': 99999}, 'PRSN': {'TS_F_MDS_7': 0.956673725275045}, 'Cosine similarity': {'TS_F_MDS_7': 0.9718470882009842}, 'K-Means': 'TA_F_MDS'}\n"
     ]
    }
   ],
   "source": [
    "similarities_to_find = ['RADN', 'TMAX_AIR', 'TMIN_AIR',  'WIND',\n",
    "       'D_W_PRECN','TMAX_SOIL', 'TMIN_SOIL']\n",
    "\n",
    "for col in similarities_to_find:\n",
    "    print(\"Similarity for \" + col + \":\") \n",
    "    print(get_most_similar(df_irr[col], df, True))"
   ]
  },
  {
   "cell_type": "code",
   "execution_count": 16,
   "id": "6aee9684-f962-4b54-9cf6-97659ce2929b",
   "metadata": {
    "tags": []
   },
   "outputs": [
    {
     "data": {
      "text/plain": [
       "{'JSD': {'NEE_VUT_REF_NIGHT_SD': 0.45644863986414247},\n",
       " 'PRSN': {'NEE_CUT_05_NIGHT': 0.584403137615753},\n",
       " 'Cosine similarity': {'NEE_CUT_75_NIGHT': 0.5883954132109497},\n",
       " 'K-Means': 'NEE_CUT_REF_NIGHT'}"
      ]
     },
     "execution_count": 16,
     "metadata": {},
     "output_type": "execute_result"
    }
   ],
   "source": [
    "get_most_similar(nee, nee_df, True)"
   ]
  },
  {
   "cell_type": "code",
   "execution_count": 18,
   "id": "cae61549-88f2-49b3-b36d-5647ea0e6a60",
   "metadata": {
    "tags": []
   },
   "outputs": [
    {
     "data": {
      "text/plain": [
       "count    2192.000000\n",
       "mean        0.020042\n",
       "std         0.007386\n",
       "min         0.005230\n",
       "25%         0.014650\n",
       "50%         0.018945\n",
       "75%         0.024337\n",
       "max         0.050108\n",
       "Name: WS_F, dtype: float64"
      ]
     },
     "execution_count": 18,
     "metadata": {},
     "output_type": "execute_result"
    }
   ],
   "source": [
    "pd.Series(preprocessing.normalize( [df['WS_F']])[0] , name = 'WS_F').describe() "
   ]
  },
  {
   "cell_type": "code",
   "execution_count": 19,
   "id": "80d21268-9a34-4966-8d76-5c5a6134ec4f",
   "metadata": {
    "tags": []
   },
   "outputs": [
    {
     "data": {
      "text/plain": [
       "count    2192.000000\n",
       "mean        0.019904\n",
       "std         0.007750\n",
       "min         0.006196\n",
       "25%         0.014245\n",
       "50%         0.018971\n",
       "75%         0.024057\n",
       "max         0.054372\n",
       "Name: WIND, dtype: float64"
      ]
     },
     "execution_count": 19,
     "metadata": {},
     "output_type": "execute_result"
    }
   ],
   "source": [
    "pd.Series(preprocessing.normalize([df_irr['WIND']])[0], name = 'WIND').describe() "
   ]
  },
  {
   "cell_type": "code",
   "execution_count": 60,
   "id": "2b3e0f50-90a9-48e4-8c75-9a5ac50d206c",
   "metadata": {
    "tags": []
   },
   "outputs": [
    {
     "data": {
      "text/plain": [
       "count    2192.000000\n",
       "mean        0.019005\n",
       "std         0.009749\n",
       "min         0.001035\n",
       "25%         0.010623\n",
       "50%         0.018361\n",
       "75%         0.027609\n",
       "max         0.038372\n",
       "Name: RADN, dtype: float64"
      ]
     },
     "execution_count": 60,
     "metadata": {},
     "output_type": "execute_result"
    }
   ],
   "source": [
    "pd.Series(preprocessing.normalize([df_irr['RADN']])[0], name = 'RADN').describe()"
   ]
  },
  {
   "cell_type": "code",
   "execution_count": 63,
   "id": "9501c899-f408-448e-be5f-5aa254392e8b",
   "metadata": {
    "tags": []
   },
   "outputs": [
    {
     "data": {
      "text/plain": [
       "count    2192.000000\n",
       "mean        0.020055\n",
       "std         0.007351\n",
       "min         0.009167\n",
       "25%         0.012728\n",
       "50%         0.020556\n",
       "75%         0.027351\n",
       "max         0.029955\n",
       "Name: SW_IN_POT, dtype: float64"
      ]
     },
     "execution_count": 63,
     "metadata": {},
     "output_type": "execute_result"
    }
   ],
   "source": [
    "pd.Series(preprocessing.normalize( [df['SW_IN_POT']])[0] , name = 'SW_IN_POT').describe()"
   ]
  },
  {
   "cell_type": "code",
   "execution_count": 46,
   "id": "1c44ab2d-6c06-4233-aa26-e002b9997a61",
   "metadata": {
    "tags": []
   },
   "outputs": [
    {
     "data": {
      "text/plain": [
       "count    2192.000000\n",
       "mean        0.014861\n",
       "std         0.015344\n",
       "min        -0.031100\n",
       "25%         0.002871\n",
       "50%         0.016357\n",
       "75%         0.028516\n",
       "max         0.041679\n",
       "Name: TA_F_MDS, dtype: float64"
      ]
     },
     "execution_count": 46,
     "metadata": {},
     "output_type": "execute_result"
    }
   ],
   "source": [
    "pd.Series(preprocessing.normalize( [df['TA_F_MDS']])[0] , name = 'TA_F_MDS').describe()"
   ]
  },
  {
   "cell_type": "code",
   "execution_count": 44,
   "id": "1e8d84ff-80f0-4358-b443-d08b09e4291b",
   "metadata": {
    "tags": []
   },
   "outputs": [
    {
     "data": {
      "text/plain": [
       "count    2192.000000\n",
       "mean        0.014012\n",
       "std         0.016124\n",
       "min        -0.040863\n",
       "25%         0.001357\n",
       "50%         0.014550\n",
       "75%         0.028438\n",
       "max         0.044690\n",
       "Name: TA_ERA_NIGHT, dtype: float64"
      ]
     },
     "execution_count": 44,
     "metadata": {},
     "output_type": "execute_result"
    }
   ],
   "source": [
    "pd.Series(preprocessing.normalize( [df['TA_ERA_NIGHT']])[0] , name = 'TA_ERA_NIGHT').describe()"
   ]
  },
  {
   "cell_type": "code",
   "execution_count": 48,
   "id": "5fa0293c-5447-47f1-bbf2-52e684737b2d",
   "metadata": {
    "tags": []
   },
   "outputs": [
    {
     "data": {
      "text/plain": [
       "count    2192.000000\n",
       "mean        0.008272\n",
       "std         0.019696\n",
       "min        -0.047031\n",
       "25%        -0.006287\n",
       "50%         0.008491\n",
       "75%         0.025177\n",
       "max         0.044637\n",
       "Name: TMIN_AIR, dtype: float64"
      ]
     },
     "execution_count": 48,
     "metadata": {},
     "output_type": "execute_result"
    }
   ],
   "source": [
    "pd.Series(preprocessing.normalize( [df_irr['TMIN_AIR']])[0] , name = 'TMIN_AIR').describe()"
   ]
  },
  {
   "cell_type": "code",
   "execution_count": 49,
   "id": "32018ccf-d49a-4fbf-9235-882526d1144e",
   "metadata": {
    "tags": []
   },
   "outputs": [
    {
     "data": {
      "text/plain": [
       "count    2192.000000\n",
       "mean        0.017337\n",
       "std         0.012479\n",
       "min        -0.017596\n",
       "25%         0.007326\n",
       "50%         0.018684\n",
       "75%         0.028236\n",
       "max         0.040682\n",
       "Name: TMAX_AIR, dtype: float64"
      ]
     },
     "execution_count": 49,
     "metadata": {},
     "output_type": "execute_result"
    }
   ],
   "source": [
    "pd.Series(preprocessing.normalize( [df_irr['TMAX_AIR']])[0] , name = 'TMAX_AIR').describe()"
   ]
  },
  {
   "cell_type": "code",
   "execution_count": 48,
   "id": "0f0ab7cc-3242-4e70-83b2-b605d4792c97",
   "metadata": {
    "tags": []
   },
   "outputs": [
    {
     "data": {
      "text/plain": [
       "count    2192.000000\n",
       "mean        0.014861\n",
       "std         0.015344\n",
       "min        -0.031100\n",
       "25%         0.002871\n",
       "50%         0.016357\n",
       "75%         0.028516\n",
       "max         0.041679\n",
       "Name: TA_F_MDS, dtype: float64"
      ]
     },
     "execution_count": 48,
     "metadata": {},
     "output_type": "execute_result"
    }
   ],
   "source": [
    "pd.Series(preprocessing.normalize( [df['TA_F_MDS']])[0] , name = 'TA_F_MDS').describe()"
   ]
  },
  {
   "cell_type": "code",
   "execution_count": 7,
   "id": "14e1f4ce-301d-4984-9a3f-e49c9ad92d41",
   "metadata": {
    "tags": []
   },
   "outputs": [],
   "source": [
    "extracted= {\n",
    "'DOY' : df['DOY'],\n",
    "'HMAX_AIR' :  df_irr['HMAX_AIR'], # dataset missing air humidity:/ \n",
    "'TMIN_AIR' : df['TA_ERA_NIGHT'], #TA_F_MDS also works\n",
    "'TMAX_SOIL' : df['TS_F_MDS_7'] , #cosine and pearson agree\n",
    "'HMIN_AIR' :  df_irr['HMIN_AIR'], #missing air humidity \n",
    "'TMAX_AIR' : df['TA_F_MDS'] ,\n",
    "'RADN' : df['SW_IN_POT'],\n",
    "'WIND' : df['WS_F'] ,\n",
    "'D_W_PRECN' : df['P_F'], \n",
    "'TMIN_SOIL' : df_irr['TMIN_SOIL'], #observed data missing min soil temp\n",
    "'NEE' : df['NEE_CUT_REF_NIGHT']\n",
    "}\n",
    "\n",
    "extracted_df = pd.DataFrame(extracted)\n",
    "\n",
    "extracted_df.to_csv('../datasets/extractedNEE_CUT_REF_NIGHT.csv')\n"
   ]
  },
  {
   "cell_type": "code",
   "execution_count": 44,
   "id": "f4f48aad-7cb4-414f-b1f2-53198d4ee2b4",
   "metadata": {
    "tags": []
   },
   "outputs": [
    {
     "data": {
      "text/html": [
       "<div>\n",
       "<style scoped>\n",
       "    .dataframe tbody tr th:only-of-type {\n",
       "        vertical-align: middle;\n",
       "    }\n",
       "\n",
       "    .dataframe tbody tr th {\n",
       "        vertical-align: top;\n",
       "    }\n",
       "\n",
       "    .dataframe thead th {\n",
       "        text-align: right;\n",
       "    }\n",
       "</style>\n",
       "<table border=\"1\" class=\"dataframe\">\n",
       "  <thead>\n",
       "    <tr style=\"text-align: right;\">\n",
       "      <th></th>\n",
       "      <th>DOY</th>\n",
       "      <th>HMAX_AIR</th>\n",
       "      <th>TMIN_AIR</th>\n",
       "      <th>TMAX_SOIL</th>\n",
       "      <th>HMIN_AIR</th>\n",
       "      <th>RADN</th>\n",
       "      <th>WIND</th>\n",
       "      <th>D_W_PRECN</th>\n",
       "      <th>TMIN_SOIL</th>\n",
       "      <th>NEE</th>\n",
       "    </tr>\n",
       "  </thead>\n",
       "  <tbody>\n",
       "    <tr>\n",
       "      <th>0</th>\n",
       "      <td>NaN</td>\n",
       "      <td>0.630569</td>\n",
       "      <td>NaN</td>\n",
       "      <td>NaN</td>\n",
       "      <td>0.435766</td>\n",
       "      <td>NaN</td>\n",
       "      <td>NaN</td>\n",
       "      <td>NaN</td>\n",
       "      <td>3.167734</td>\n",
       "      <td>NaN</td>\n",
       "    </tr>\n",
       "    <tr>\n",
       "      <th>1</th>\n",
       "      <td>NaN</td>\n",
       "      <td>0.630147</td>\n",
       "      <td>NaN</td>\n",
       "      <td>NaN</td>\n",
       "      <td>0.349557</td>\n",
       "      <td>NaN</td>\n",
       "      <td>NaN</td>\n",
       "      <td>NaN</td>\n",
       "      <td>2.970467</td>\n",
       "      <td>NaN</td>\n",
       "    </tr>\n",
       "    <tr>\n",
       "      <th>2</th>\n",
       "      <td>NaN</td>\n",
       "      <td>0.796492</td>\n",
       "      <td>NaN</td>\n",
       "      <td>NaN</td>\n",
       "      <td>0.324438</td>\n",
       "      <td>NaN</td>\n",
       "      <td>NaN</td>\n",
       "      <td>NaN</td>\n",
       "      <td>2.820677</td>\n",
       "      <td>NaN</td>\n",
       "    </tr>\n",
       "    <tr>\n",
       "      <th>3</th>\n",
       "      <td>NaN</td>\n",
       "      <td>0.897199</td>\n",
       "      <td>NaN</td>\n",
       "      <td>NaN</td>\n",
       "      <td>0.501948</td>\n",
       "      <td>NaN</td>\n",
       "      <td>NaN</td>\n",
       "      <td>NaN</td>\n",
       "      <td>3.144463</td>\n",
       "      <td>NaN</td>\n",
       "    </tr>\n",
       "    <tr>\n",
       "      <th>4</th>\n",
       "      <td>NaN</td>\n",
       "      <td>0.702206</td>\n",
       "      <td>NaN</td>\n",
       "      <td>NaN</td>\n",
       "      <td>0.384053</td>\n",
       "      <td>NaN</td>\n",
       "      <td>NaN</td>\n",
       "      <td>NaN</td>\n",
       "      <td>3.087650</td>\n",
       "      <td>NaN</td>\n",
       "    </tr>\n",
       "    <tr>\n",
       "      <th>...</th>\n",
       "      <td>...</td>\n",
       "      <td>...</td>\n",
       "      <td>...</td>\n",
       "      <td>...</td>\n",
       "      <td>...</td>\n",
       "      <td>...</td>\n",
       "      <td>...</td>\n",
       "      <td>...</td>\n",
       "      <td>...</td>\n",
       "      <td>...</td>\n",
       "    </tr>\n",
       "    <tr>\n",
       "      <th>7300</th>\n",
       "      <td>361.520833</td>\n",
       "      <td>NaN</td>\n",
       "      <td>-2.049</td>\n",
       "      <td>1.892</td>\n",
       "      <td>NaN</td>\n",
       "      <td>150.527</td>\n",
       "      <td>3.471</td>\n",
       "      <td>0.939</td>\n",
       "      <td>NaN</td>\n",
       "      <td>0.924725</td>\n",
       "    </tr>\n",
       "    <tr>\n",
       "      <th>7301</th>\n",
       "      <td>362.520833</td>\n",
       "      <td>NaN</td>\n",
       "      <td>-4.516</td>\n",
       "      <td>1.782</td>\n",
       "      <td>NaN</td>\n",
       "      <td>150.916</td>\n",
       "      <td>1.893</td>\n",
       "      <td>0.001</td>\n",
       "      <td>NaN</td>\n",
       "      <td>0.646184</td>\n",
       "    </tr>\n",
       "    <tr>\n",
       "      <th>7302</th>\n",
       "      <td>363.520833</td>\n",
       "      <td>NaN</td>\n",
       "      <td>-3.835</td>\n",
       "      <td>1.678</td>\n",
       "      <td>NaN</td>\n",
       "      <td>151.365</td>\n",
       "      <td>3.063</td>\n",
       "      <td>15.407</td>\n",
       "      <td>NaN</td>\n",
       "      <td>0.609222</td>\n",
       "    </tr>\n",
       "    <tr>\n",
       "      <th>7303</th>\n",
       "      <td>364.520833</td>\n",
       "      <td>NaN</td>\n",
       "      <td>-8.046</td>\n",
       "      <td>1.588</td>\n",
       "      <td>NaN</td>\n",
       "      <td>151.874</td>\n",
       "      <td>2.707</td>\n",
       "      <td>0.000</td>\n",
       "      <td>NaN</td>\n",
       "      <td>0.371313</td>\n",
       "    </tr>\n",
       "    <tr>\n",
       "      <th>7304</th>\n",
       "      <td>365.520833</td>\n",
       "      <td>NaN</td>\n",
       "      <td>-10.771</td>\n",
       "      <td>1.528</td>\n",
       "      <td>NaN</td>\n",
       "      <td>152.441</td>\n",
       "      <td>2.360</td>\n",
       "      <td>0.000</td>\n",
       "      <td>NaN</td>\n",
       "      <td>4.587340</td>\n",
       "    </tr>\n",
       "  </tbody>\n",
       "</table>\n",
       "<p>4384 rows × 10 columns</p>\n",
       "</div>"
      ],
      "text/plain": [
       "             DOY  HMAX_AIR  TMIN_AIR  TMAX_SOIL  HMIN_AIR     RADN   WIND  \\\n",
       "0            NaN  0.630569       NaN        NaN  0.435766      NaN    NaN   \n",
       "1            NaN  0.630147       NaN        NaN  0.349557      NaN    NaN   \n",
       "2            NaN  0.796492       NaN        NaN  0.324438      NaN    NaN   \n",
       "3            NaN  0.897199       NaN        NaN  0.501948      NaN    NaN   \n",
       "4            NaN  0.702206       NaN        NaN  0.384053      NaN    NaN   \n",
       "...          ...       ...       ...        ...       ...      ...    ...   \n",
       "7300  361.520833       NaN    -2.049      1.892       NaN  150.527  3.471   \n",
       "7301  362.520833       NaN    -4.516      1.782       NaN  150.916  1.893   \n",
       "7302  363.520833       NaN    -3.835      1.678       NaN  151.365  3.063   \n",
       "7303  364.520833       NaN    -8.046      1.588       NaN  151.874  2.707   \n",
       "7304  365.520833       NaN   -10.771      1.528       NaN  152.441  2.360   \n",
       "\n",
       "      D_W_PRECN  TMIN_SOIL       NEE  \n",
       "0           NaN   3.167734       NaN  \n",
       "1           NaN   2.970467       NaN  \n",
       "2           NaN   2.820677       NaN  \n",
       "3           NaN   3.144463       NaN  \n",
       "4           NaN   3.087650       NaN  \n",
       "...         ...        ...       ...  \n",
       "7300      0.939        NaN  0.924725  \n",
       "7301      0.001        NaN  0.646184  \n",
       "7302     15.407        NaN  0.609222  \n",
       "7303      0.000        NaN  0.371313  \n",
       "7304      0.000        NaN  4.587340  \n",
       "\n",
       "[4384 rows x 10 columns]"
      ]
     },
     "execution_count": 44,
     "metadata": {},
     "output_type": "execute_result"
    }
   ],
   "source": [
    "extracted_df"
   ]
  },
  {
   "cell_type": "code",
   "execution_count": 99,
   "id": "599f3652-9457-4a77-a1d0-ac5bbd4d0453",
   "metadata": {
    "tags": []
   },
   "outputs": [
    {
     "data": {
      "text/plain": [
       "'TA_F_MDS_DAY'"
      ]
     },
     "execution_count": 99,
     "metadata": {},
     "output_type": "execute_result"
    }
   ],
   "source": [
    "biggest_mean_for('TA', df)"
   ]
  },
  {
   "cell_type": "code",
   "execution_count": 100,
   "id": "fd588d52-bd0e-4d51-a15e-83dc408cfba8",
   "metadata": {
    "tags": []
   },
   "outputs": [
    {
     "data": {
      "text/plain": [
       "'TA_F_DAY_QC'"
      ]
     },
     "execution_count": 100,
     "metadata": {},
     "output_type": "execute_result"
    }
   ],
   "source": [
    "smallest_mean_for('TA', df)"
   ]
  },
  {
   "cell_type": "code",
   "execution_count": 14,
   "id": "c60f640d-5a09-4773-9a4b-cc7515bb3447",
   "metadata": {
    "tags": []
   },
   "outputs": [],
   "source": [
    "filter_col = [col for col in df if col.startswith('TS') and not col.endswith('QC')]    "
   ]
  },
  {
   "cell_type": "code",
   "execution_count": 15,
   "id": "55c94886-cb25-4d82-a711-656744dbb8bb",
   "metadata": {
    "tags": []
   },
   "outputs": [
    {
     "data": {
      "text/plain": [
       "['TS_F_MDS_1',\n",
       " 'TS_F_MDS_2',\n",
       " 'TS_F_MDS_3',\n",
       " 'TS_F_MDS_4',\n",
       " 'TS_F_MDS_5',\n",
       " 'TS_F_MDS_6',\n",
       " 'TS_F_MDS_7',\n",
       " 'TS_F_MDS_8']"
      ]
     },
     "execution_count": 15,
     "metadata": {},
     "output_type": "execute_result"
    }
   ],
   "source": [
    "filter_col"
   ]
  },
  {
   "cell_type": "code",
   "execution_count": 12,
   "id": "c51fe746-c3d5-464b-81c1-97aeabb94f1a",
   "metadata": {
    "tags": []
   },
   "outputs": [
    {
     "data": {
      "text/plain": [
       "'TS_F_MDS_3_QC'"
      ]
     },
     "execution_count": 12,
     "metadata": {},
     "output_type": "execute_result"
    }
   ],
   "source": [
    "smallest_mean_for('TS', df)"
   ]
  },
  {
   "cell_type": "code",
   "execution_count": 11,
   "id": "2e5c2f44-8d7b-4c32-a24b-f5cddd77161d",
   "metadata": {
    "tags": []
   },
   "outputs": [
    {
     "data": {
      "text/plain": [
       "TS_F_MDS_1       11.348499\n",
       "TS_F_MDS_2       11.334961\n",
       "TS_F_MDS_3       12.403337\n",
       "TS_F_MDS_4       11.385723\n",
       "TS_F_MDS_5       11.384166\n",
       "TS_F_MDS_6             NaN\n",
       "TS_F_MDS_7       11.445622\n",
       "TS_F_MDS_8       11.366537\n",
       "TS_F_MDS_1_QC     0.999620\n",
       "TS_F_MDS_2_QC     0.999563\n",
       "TS_F_MDS_3_QC     0.876141\n",
       "TS_F_MDS_4_QC     0.999639\n",
       "TS_F_MDS_5_QC     0.999391\n",
       "TS_F_MDS_6_QC          NaN\n",
       "TS_F_MDS_7_QC     0.984824\n",
       "TS_F_MDS_8_QC     0.999468\n",
       "dtype: float64"
      ]
     },
     "execution_count": 11,
     "metadata": {},
     "output_type": "execute_result"
    }
   ],
   "source": [
    "df[filter_col].mean()"
   ]
  },
  {
   "cell_type": "code",
   "execution_count": null,
   "id": "36e79039-de3d-4e03-a5cd-dd4246a12b92",
   "metadata": {},
   "outputs": [],
   "source": []
  }
 ],
 "metadata": {
  "kernelspec": {
   "display_name": "Python 3 (ipykernel)",
   "language": "python",
   "name": "python3"
  },
  "language_info": {
   "codemirror_mode": {
    "name": "ipython",
    "version": 3
   },
   "file_extension": ".py",
   "mimetype": "text/x-python",
   "name": "python",
   "nbconvert_exporter": "python",
   "pygments_lexer": "ipython3",
   "version": "3.9.16"
  }
 },
 "nbformat": 4,
 "nbformat_minor": 5
}
