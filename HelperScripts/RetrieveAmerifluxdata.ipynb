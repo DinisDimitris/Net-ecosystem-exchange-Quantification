{
 "cells": [
  {
   "cell_type": "markdown",
   "id": "379a5b4e-0c37-4446-b90e-1481924807bc",
   "metadata": {
    "tags": []
   },
   "source": [
    "### This file is used to retrieve weather data along with NEE from the ameriFLUX maize-soybean datasets"
   ]
  },
  {
   "cell_type": "code",
   "execution_count": 1,
   "id": "6c82943d-23b7-416d-8a46-1fe49e21de64",
   "metadata": {
    "tags": []
   },
   "outputs": [],
   "source": [
    "import pandas as pd\n",
    "import numpy as np\n",
    "from sklearn.metrics.pairwise import cosine_similarity, euclidean_distances\n",
    "from scipy.stats import pearsonr\n",
    "from sklearn.cluster import KMeans\n",
    "from sklearn.decomposition import PCA\n",
    "from matplotlib import pyplot as plt\n",
    "import os\n",
    "import warnings\n",
    "from sklearn import preprocessing\n",
    "import scipy.stats\n",
    "warnings.filterwarnings('ignore')"
   ]
  },
  {
   "cell_type": "code",
   "execution_count": 2,
   "id": "f65cd191-c64c-4db6-88a7-94573c80ea89",
   "metadata": {
    "tags": []
   },
   "outputs": [],
   "source": [
    "# loads all data sets into a dict\n",
    "def load_datasets(dirs: list, load_path: str) -> dict:\n",
    "    files = ['soil_c','surf_water','flux_soc','soil_water','n_flux','p_flux','temp', \n",
    "         'plant_c','plant_n','plant_p','canopcy_c','plant_stress','photosynthesis','plant_growth']\n",
    "    \n",
    "    #files.append('soil_temp', 'canopy_temp') missing \n",
    "    datasets = {}\n",
    "    \n",
    "    for dr in dirs:\n",
    "        csv_list = []\n",
    "        path = '../datasets/' + dr +  '/' + load_path\n",
    "        for f in files:\n",
    "            df = pd.read_csv(os.path.join(path,f + '.csv'))\n",
    "            df.drop(df.columns[0], axis=1)\n",
    "\n",
    "            csv_list.append(df)\n",
    "\n",
    "\n",
    "        data_dict = {}\n",
    "        for i in range (len(csv_list)):\n",
    "            data_dict[files[i]] = csv_list[i]\n",
    "\n",
    "        datasets[dr] = data_dict\n",
    "\n",
    "    return datasets\n",
    "\n",
    "dirs = ['warm_temp_maize_soybean_irrigated', 'warm_temp_maize-soybean_dryland', 'cool_temp_maize_soybean']\n",
    "\n",
    "datasets = load_datasets(dirs, 'csv_outs/with_plant_soil_details/')"
   ]
  },
  {
   "cell_type": "code",
   "execution_count": 3,
   "id": "a92fe2aa-e09d-472c-ab6b-f383749a982d",
   "metadata": {
    "tags": []
   },
   "outputs": [],
   "source": [
    "def rename_dupes(suffix: str, df: pd.DataFrame, dupes: list) -> pd.DataFrame:\n",
    "    for col in df.columns:\n",
    "        if col in dupes:\n",
    "            df.rename(columns={col: col + suffix}, inplace=True)\n",
    "    return df\n",
    "\n",
    "def average_numbered_columns(df):\n",
    "    numbered_cols = [col for col in df.columns if '_' in col and col.split('_')[-1].isdigit()]\n",
    "\n",
    "    col_groups = {}\n",
    "    for col in numbered_cols:\n",
    "        prefix = '_'.join(col.split('_')[:-1])\n",
    "        if prefix not in col_groups:\n",
    "            col_groups[prefix] = []\n",
    "        col_groups[prefix].append(col)\n",
    "\n",
    "    # calculate averages and add new columns\n",
    "    for prefix, cols in col_groups.items():\n",
    "        avg_col_name = prefix\n",
    "        avg_col_values = df[cols].mean(axis=1)\n",
    "        df[avg_col_name] = avg_col_values\n",
    "\n",
    "    # drop numbered columns\n",
    "    df = df.drop(columns=numbered_cols)\n",
    "\n",
    "    return df\n",
    "\n",
    "# turn all csv's to one dataframe\n",
    "def to_pd(df: dict, handle_dupes: bool, flatten_num_cols: bool) -> pd.DataFrame:\n",
    "    x = pd.DataFrame()\n",
    "    for file_name in df:\n",
    "        cur = df[file_name]\n",
    "            \n",
    "        x = pd.concat([x, df[file_name]], axis = 1)\n",
    "        \n",
    "    cheeky_col = 'unnamed.1'\n",
    "    cheeky_col2 = 'Unnamed: 0'\n",
    "    if cheeky_col in x.columns:\n",
    "        x = x.drop([cheeky_col], axis=1)\n",
    "    elif cheeky_col2 in x.columns:\n",
    "         x = x.drop([cheeky_col2], axis=1)\n",
    "\n",
    "    if flatten_num_cols:\n",
    "        x = average_numbered_columns(x)\n",
    "        \n",
    "    x = x.loc[:,~x.columns.duplicated()].copy()\n",
    "    \n",
    "    one_hot = pd.get_dummies(x['GROWTH_STG'])\n",
    "    x= x.drop('GROWTH_STG',axis = 1)\n",
    "    # Join the encoded df\n",
    "    x = x.join(one_hot)\n",
    "\n",
    "    x.columns = x.columns.str.translate(\"\".maketrans({\"[\":\"{\", \"]\":\"}\",\"<\":\"^\"}))\n",
    "    \n",
    "    return x\n",
    "\n",
    "df_dry = to_pd(datasets['warm_temp_maize-soybean_dryland'], True, True)\n",
    "df_irr = to_pd(datasets['warm_temp_maize_soybean_irrigated'], True, True)\n",
    "df_cool = to_pd(datasets['cool_temp_maize_soybean'], True, True)\n",
    "#y = df[target].copy()\n",
    "#df = df.drop(target, axis=1)"
   ]
  },
  {
   "cell_type": "code",
   "execution_count": 4,
   "id": "07eb9147-14dc-4e32-94e8-537d8a5a1b5d",
   "metadata": {
    "tags": []
   },
   "outputs": [],
   "source": [
    "df_irr['DATE'] =  pd.to_datetime(df_irr['DATE'])"
   ]
  },
  {
   "cell_type": "code",
   "execution_count": 5,
   "id": "18a4685d-e1e0-4c70-b13b-2b356d0f5ec1",
   "metadata": {
    "tags": []
   },
   "outputs": [
    {
     "data": {
      "text/plain": [
       "0       2015\n",
       "1       2015\n",
       "2       2015\n",
       "3       2015\n",
       "4       2015\n",
       "        ... \n",
       "2917    2022\n",
       "2918    2022\n",
       "2919    2022\n",
       "2920    2022\n",
       "2921    2022\n",
       "Name: DATE, Length: 2922, dtype: int64"
      ]
     },
     "execution_count": 5,
     "metadata": {},
     "output_type": "execute_result"
    }
   ],
   "source": [
    "df_irr['DATE'].dt.year"
   ]
  },
  {
   "cell_type": "code",
   "execution_count": 6,
   "id": "0876ee72-ed22-4ef4-8476-e93a8d107eb8",
   "metadata": {
    "tags": []
   },
   "outputs": [],
   "source": [
    "# NEE = GPP - ER:\n",
    "#GPP = GROSS PRIMARY PRODUCTION (TOTAL C INTAKE) \n",
    "#ER = total C uptake =  ECO_RH + ECO_RA =  autotrophic + heterotrophic respiration \n",
    "#NPP = GPP + ECO_RA\n",
    "\n",
    "df_irr['ECO_NPP_D'] = df_irr['ECO_NPP'] / df_irr['DOY']\n",
    "df_irr['ECO_RH_D'] = df_irr['ECO_RH'] / df_irr['DOY']\n",
    "\n",
    "df_irr['NEE_D'] = df_irr['ECO_NPP_D'] - df_irr['ECO_RH_D']\n",
    "\n",
    "nee_d = df_irr['NEE_D']"
   ]
  },
  {
   "cell_type": "code",
   "execution_count": 7,
   "id": "1df82a24-146f-4227-a253-147a041a1d92",
   "metadata": {
    "tags": []
   },
   "outputs": [],
   "source": [
    "mdays=[31,28,31,30,31,30,31,31,30,31,30,31]\n",
    "def isleap(year):\n",
    "    leap=False\n",
    "    if year % 4 == 0 and year % 100 != 0:\n",
    "        leap=True\n",
    "    elif year % 100 == 0:\n",
    "        leap=False\n",
    "    elif year % 400 ==0:\n",
    "        leap=True\n",
    "    else:\n",
    "        leap=False\n",
    "    return leap\n",
    "def dayofyear(year,month,day):\n",
    "    doy=0\n",
    "    for mm in range(0,month):\n",
    "        days=mdays[mm]\n",
    "        if mm==1:\n",
    "            if isleap(year):\n",
    "                days=29\n",
    "        for dd in range(0,days):\n",
    "            if mm < month-1:\n",
    "                doy=doy+1\n",
    "            else:\n",
    "                if dd < day:\n",
    "                    doy=doy+1\n",
    "    return doy"
   ]
  },
  {
   "cell_type": "code",
   "execution_count": 8,
   "id": "8a79a1ea-0dd3-499f-8a8c-544b504808d7",
   "metadata": {
    "tags": []
   },
   "outputs": [],
   "source": [
    "df_irr['DOY'] = 0\n",
    "for i in range( df_irr.shape[0]):\n",
    "    df_irr['DOY'][i] = dayofyear(df_irr['DATE'][i].year, df_irr['DATE'][i].month, df_irr['DATE'][i].day)"
   ]
  },
  {
   "cell_type": "markdown",
   "id": "2a73c563-6f98-4f76-863f-102f298082fd",
   "metadata": {},
   "source": [
    "### Daily ameriflux data for site US-Ne1 "
   ]
  },
  {
   "cell_type": "code",
   "execution_count": 9,
   "id": "a12b77b5-0118-4839-b35d-196f0ac75b1e",
   "metadata": {
    "tags": []
   },
   "outputs": [],
   "source": [
    "df = pd.read_csv('../datasets/AMF_US-Ne1_FLUXNET_FULLSET_DD_2001-2020_3-5.csv')\n",
    "\n",
    "mask = (df['TIMESTAMP'] >= 20150101) & (df['TIMESTAMP'] < 20220101)\n",
    "\n",
    "df = df.loc[mask].reset_index()\n",
    "\n",
    "\n",
    "filter_col = [col for col in df if col.startswith('NEE') and not col.endswith('QC')]    \n",
    "nee_df = df[filter_col]\n",
    "\n",
    "df['TIMESTAMP'] = pd.to_datetime(df['TIMESTAMP'], format='%Y%m%d')\n",
    "df['DOY'] = 0\n",
    "for i in range( df.shape[0]):\n",
    "    df['DOY'][i] = dayofyear(df['TIMESTAMP'][i].year, df['TIMESTAMP'][i].month, df['TIMESTAMP'][i].day)\n",
    "\n",
    "#df.drop('Index', axis=1)"
   ]
  },
  {
   "cell_type": "code",
   "execution_count": 10,
   "id": "f94ab917-32e4-4e8a-b81c-7a4bfff9fcb1",
   "metadata": {
    "tags": []
   },
   "outputs": [
    {
     "data": {
      "text/plain": [
       "(2192, 346)"
      ]
     },
     "execution_count": 10,
     "metadata": {},
     "output_type": "execute_result"
    }
   ],
   "source": [
    "df.shape"
   ]
  },
  {
   "cell_type": "markdown",
   "id": "58765500-e7f5-4d04-a914-0bc14f9efcb6",
   "metadata": {},
   "source": [
    "### Introduce two measurements Jensen Shannon distance, and  pearson's correlation coefficient distance to find the most similar observed NEE \n",
    "#### Linear and non-linear"
   ]
  },
  {
   "cell_type": "code",
   "execution_count": 11,
   "id": "e79b57a1-4109-44e1-bdd5-4e830e82c1b9",
   "metadata": {
    "tags": []
   },
   "outputs": [],
   "source": [
    "def jensen_shannon_distance(p, q):\n",
    "    \"\"\"\n",
    "    method to compute the Jenson-Shannon Distance \n",
    "    between two probability distributions\n",
    "    \"\"\"\n",
    "\n",
    "    # convert the vectors into numpy arrays in case that they aren't\n",
    "    p = np.array(p)\n",
    "    q = np.array(q)\n",
    "\n",
    "    # calculate m\n",
    "    m = (p + q) / 2\n",
    "\n",
    "    # compute Jensen Shannon Divergence\n",
    "    divergence = (scipy.stats.entropy(p, m) + scipy.stats.entropy(q, m)) / 2\n",
    "\n",
    "    # compute the Jensen Shannon Distance\n",
    "    distance = np.sqrt(divergence)\n",
    "\n",
    "    return distance\n",
    "\n",
    "\n",
    "def pearson(p,q):\n",
    "    return np.corrcoef(p, q)\n",
    "    "
   ]
  },
  {
   "cell_type": "markdown",
   "id": "115d3580-47a6-4ba7-9cee-69f03d900f51",
   "metadata": {},
   "source": [
    "### jensen shannon distance, Pearson corr, cosine similarity and K means\n",
    "#### Used to find the most similar probability distributions between the variations of weather data from observed, and ecosys"
   ]
  },
  {
   "cell_type": "code",
   "execution_count": 12,
   "id": "7e252498-424d-4862-a887-3671bb895c94",
   "metadata": {
    "tags": []
   },
   "outputs": [],
   "source": [
    "from sklearn.metrics.pairwise import cosine_similarity\n",
    "from sklearn.metrics import silhouette_score\n",
    "\n",
    "def get_most_similar(y, df, normalized: False) -> dict:\n",
    "    scores = {}\n",
    "    smallest_residual  = 99999\n",
    "    biggest_corr = -9999\n",
    "    col_corr = ''\n",
    "    col_res = ''\n",
    "    \n",
    "    y_norm = pd.Series(preprocessing.normalize([y])[0], name='NEE')\n",
    "\n",
    "    for col in df:\n",
    "        if normalized:\n",
    "            y = y_norm\n",
    "            df[col] = preprocessing.normalize([df[col]])[0]\n",
    "            \n",
    "        sim = jensen_shannon_distance(y, df[col])\n",
    "        corr_coef = pearson(y, df[col]).mean()\n",
    "        \n",
    "        if sim  < smallest_residual:\n",
    "            smallest_residual = sim\n",
    "            col_res = col\n",
    "            \n",
    "        if corr_coef > biggest_corr:\n",
    "            col_corr = col\n",
    "            biggest_corr = corr_coef\n",
    "            \n",
    "    scores[\"JSD\"] = {col_res: smallest_residual}\n",
    "    scores[\"PRSN\"] = {col_corr: biggest_corr}\n",
    "    scores[\"Cosine similarity\"] = cosine_sim(df, y)\n",
    "    scores[\"K-Means\"] = find_kmeans(df, y)\n",
    "    \n",
    "    return scores\n",
    "\n",
    "\n",
    "def cosine_sim(X, y):\n",
    "    similarities = {}\n",
    "    y_reshaped = y.values.reshape(1, -1)  # Reshape y\n",
    "    for col in X.columns:\n",
    "        col_reshaped = X[col].values.reshape(1, -1)  # Reshape column\n",
    "        similarity = cosine_similarity(col_reshaped, y_reshaped)\n",
    "        similarities[col] = similarity[0][0]\n",
    "    most_similar_col = max(similarities, key=similarities.get)\n",
    "    most_similar_col_score = similarities[most_similar_col]\n",
    "    return {most_similar_col: most_similar_col_score}\n",
    "\n",
    "def find_kmeans(X, y):\n",
    "    kmeans = KMeans(n_clusters=6, random_state=0).fit(X.T)\n",
    "    y_cluster = kmeans.predict(y.values.reshape(1, -1))\n",
    "    most_similar_col_idx = np.where(kmeans.labels_ == y_cluster)[0][0]\n",
    "    return X.columns[most_similar_col_idx]\n"
   ]
  },
  {
   "cell_type": "code",
   "execution_count": 13,
   "id": "138eb738-f8c6-4ab1-8aea-903bcf7e3dd7",
   "metadata": {
    "tags": []
   },
   "outputs": [],
   "source": [
    "def plot_against_time(eco_nee : pd.Series, obs_nee : pd.Series, title: str = 'NEE by time of the year' , xlabel: str = 'Procedural' , ylabel: str = 'Eddy Covariance'):\n",
    "    dates = np.arange(0, len(eco_nee))\n",
    "\n",
    "    # Define the two NEE datasets\n",
    "    nee_procedural = eco_nee\n",
    "    nee_eddy_covariance = obs_nee\n",
    "\n",
    "    # Create the plot\n",
    "    fig, ax = plt.subplots(figsize=(10, 5))\n",
    "    ax.plot(dates, nee_procedural, label= xlabel, color='blue')\n",
    "    ax.plot(dates, nee_eddy_covariance, label= ylabel, color='red')\n",
    "\n",
    "    # Add axis labels and legend\n",
    "    ax.set_xlabel('Samples')\n",
    "    ax.set_ylabel('NEE')\n",
    "    ax.set_title(title)\n",
    "    ax.legend()\n",
    "\n",
    "    # Show the plot\n",
    "    plt.show()"
   ]
  },
  {
   "cell_type": "code",
   "execution_count": 14,
   "id": "04dff0f2-7f37-45b1-874a-cdf7c4035930",
   "metadata": {
    "tags": []
   },
   "outputs": [],
   "source": [
    "filter_col = [col for col in df if col.startswith('NEE') and not col.endswith('QC')]    \n",
    "nee_df = df[filter_col]"
   ]
  },
  {
   "cell_type": "code",
   "execution_count": 17,
   "id": "6b1ac7aa-010f-4697-82d2-73bc31e7a57c",
   "metadata": {
    "tags": []
   },
   "outputs": [],
   "source": [
    "df_irr = df_irr[:df.shape[0]]"
   ]
  },
  {
   "cell_type": "markdown",
   "id": "f21ea260-2e3d-45c8-84bf-f1cb79217a61",
   "metadata": {},
   "source": [
    "### Avg wind M s^-1 is 300 in simulated data, so reducing it by 100 factor "
   ]
  },
  {
   "cell_type": "code",
   "execution_count": 15,
   "id": "d520a0cc-3fa6-4b03-be9f-d3299b46bec6",
   "metadata": {
    "tags": []
   },
   "outputs": [],
   "source": [
    "df_irr['WIND'] = df_irr['WIND']/ 100"
   ]
  },
  {
   "cell_type": "code",
   "execution_count": 18,
   "id": "219e9216-c5b3-4441-8fcb-de7b2af4c1cc",
   "metadata": {
    "tags": []
   },
   "outputs": [
    {
     "data": {
      "text/plain": [
       "0       3.31524\n",
       "1       2.47068\n",
       "2       2.45952\n",
       "3       3.76056\n",
       "4       3.67992\n",
       "         ...   \n",
       "2187    1.48104\n",
       "2188    2.03364\n",
       "2189    4.27104\n",
       "2190    2.22876\n",
       "2191    2.22876\n",
       "Name: WIND, Length: 2192, dtype: float64"
      ]
     },
     "execution_count": 18,
     "metadata": {},
     "output_type": "execute_result"
    }
   ],
   "source": [
    "df_irr['WIND']"
   ]
  },
  {
   "cell_type": "code",
   "execution_count": 76,
   "id": "d8cd7969-a8c4-4a3a-aa2f-ce27ad2d888b",
   "metadata": {
    "tags": []
   },
   "outputs": [
    {
     "name": "stdout",
     "output_type": "stream",
     "text": [
      "Similarity for RADN:\n",
      "{'JSD': {'SW_IN_POT': 0.1271263645923741}, 'PRSN': {'SW_IN_POT': 0.8901600167911246}, 'Cosine similarity': {'SW_IN_POT': 0.9580015543529974}, 'K-Means': 'index'}\n",
      "Similarity for TMAX_AIR:\n",
      "{'JSD': {'': 99999}, 'PRSN': {'TS_F_MDS_4': 0.9162869304155195}, 'Cosine similarity': {'TS_F_MDS_7': 0.9343146027310274}, 'K-Means': 'TA_F_MDS'}\n",
      "Similarity for TMIN_AIR:\n",
      "{'JSD': {'': 99999}, 'PRSN': {'TS_F_MDS_4': 0.934054023616878}, 'Cosine similarity': {'TA_ERA_NIGHT': 0.8212129266913064}, 'K-Means': 'TA_F_MDS'}\n",
      "Similarity for WIND:\n",
      "{'JSD': {'SWC_F_MDS_3': 0.13224455944025232}, 'PRSN': {'NEE_CUT_05_DAY': 0.6557638726457695}, 'Cosine similarity': {'SWC_F_MDS_3': 0.9328949966289855}, 'K-Means': 'index'}\n",
      "Similarity for D_W_PRECN:\n",
      "{'JSD': {'GPP_DT_CUT_SE': 0.6683177752443282}, 'PRSN': {'RECO_NT_VUT_95': 0.615246704251489}, 'Cosine similarity': {'RECO_NT_VUT_95': 0.37230943847804804}, 'K-Means': 'TA_F_MDS'}\n",
      "Similarity for TMAX_SOIL:\n",
      "{'JSD': {'SW_IN_POT': 0.14383686289778708}, 'PRSN': {'TS_F_MDS_7': 0.9595060678074991}, 'Cosine similarity': {'TS_F_MDS_7': 0.9705882369665542}, 'K-Means': 'index'}\n",
      "Similarity for TMIN_SOIL:\n",
      "{'JSD': {'': 99999}, 'PRSN': {'TS_F_MDS_7': 0.956673725275045}, 'Cosine similarity': {'TS_F_MDS_7': 0.9718470882009842}, 'K-Means': 'TA_F_MDS'}\n"
     ]
    }
   ],
   "source": [
    "similarities_to_find = ['RADN', 'TMAX_AIR', 'TMIN_AIR',  'WIND',\n",
    "       'D_W_PRECN','TMAX_SOIL', 'TMIN_SOIL']\n",
    "\n",
    "for col in similarities_to_find:\n",
    "    print(\"Similarity for \" + col + \":\") \n",
    "    print(get_most_similar(df_irr[col], df, True))"
   ]
  },
  {
   "cell_type": "code",
   "execution_count": 78,
   "id": "763b58ca-0572-45e6-8dcb-1793b5a0c3c5",
   "metadata": {
    "tags": []
   },
   "outputs": [
    {
     "name": "stdout",
     "output_type": "stream",
     "text": [
      "Similarity for RADN:\n",
      "{'JSD': {'SW_IN_POT': 0.19753205015202016}, 'PRSN': {'SW_IN_POT': 0.8901600167911246}, 'Cosine similarity': {'SW_IN_POT': 0.9580015543529972}, 'K-Means': 'index'}\n",
      "Similarity for TMAX_AIR:\n",
      "{'JSD': {'': 99999}, 'PRSN': {'TS_F_MDS_4': 0.9162869304155195}, 'Cosine similarity': {'TS_F_MDS_7': 0.9343146027310282}, 'K-Means': 'TA_F_MDS'}\n",
      "Similarity for TMIN_AIR:\n",
      "{'JSD': {'': 99999}, 'PRSN': {'TS_F_MDS_4': 0.9340540236168777}, 'Cosine similarity': {'TA_ERA_NIGHT': 0.8212129266913062}, 'K-Means': 'TA_F_MDS'}\n",
      "Similarity for WIND:\n",
      "{'JSD': {'SWC_F_MDS_3': 0.187600706336278}, 'PRSN': {'NEE_CUT_05_DAY': 0.6557638726457695}, 'Cosine similarity': {'SWC_F_MDS_3': 0.9328949966289857}, 'K-Means': 'index'}\n",
      "Similarity for D_W_PRECN:\n",
      "{'JSD': {'SW_IN_POT': 1.262814365904823}, 'PRSN': {'RECO_NT_VUT_95': 0.6152467042514891}, 'Cosine similarity': {'RECO_NT_VUT_95': 0.372309438478048}, 'K-Means': 'TA_F_MDS'}\n",
      "Similarity for TMAX_SOIL:\n",
      "{'JSD': {'SW_IN_POT': 0.22054985719950787}, 'PRSN': {'TS_F_MDS_7': 0.9595060678074991}, 'Cosine similarity': {'TS_F_MDS_7': 0.9705882369665538}, 'K-Means': 'index'}\n",
      "Similarity for TMIN_SOIL:\n",
      "{'JSD': {'': 99999}, 'PRSN': {'TS_F_MDS_7': 0.956673725275045}, 'Cosine similarity': {'TS_F_MDS_7': 0.9718470882009844}, 'K-Means': 'TA_F_MDS'}\n"
     ]
    }
   ],
   "source": [
    "for col in similarities_to_find:\n",
    "    print(\"Similarity for \" + col + \":\") \n",
    "    print(get_most_similar(df_irr[col], df, False))"
   ]
  },
  {
   "cell_type": "code",
   "execution_count": 40,
   "id": "b15fe232-e753-4c97-a1dc-da16b1d75400",
   "metadata": {
    "tags": []
   },
   "outputs": [],
   "source": [
    "sm_norm = pd.Series(preprocessing.normalize([df_irr['RADN']])[0], name='RADN')\n",
    "obs_norm = pd.Series(preprocessing.normalize([df['SW_IN_POT']])[0], name='SW_IN_POT')"
   ]
  },
  {
   "cell_type": "code",
   "execution_count": 43,
   "id": "1162837d-d56e-4360-8341-87565120d0ab",
   "metadata": {
    "tags": []
   },
   "outputs": [
    {
     "data": {
      "text/plain": [
       "count    2192.000000\n",
       "mean        0.019005\n",
       "std         0.009749\n",
       "min         0.001035\n",
       "25%         0.010623\n",
       "50%         0.018361\n",
       "75%         0.027609\n",
       "max         0.038372\n",
       "Name: RADN, dtype: float64"
      ]
     },
     "execution_count": 43,
     "metadata": {},
     "output_type": "execute_result"
    }
   ],
   "source": [
    "sm_norm.describe()"
   ]
  },
  {
   "cell_type": "code",
   "execution_count": 44,
   "id": "8ffceda0-625b-4f15-8513-d62918473505",
   "metadata": {
    "tags": []
   },
   "outputs": [
    {
     "data": {
      "text/plain": [
       "count    2192.000000\n",
       "mean        0.020055\n",
       "std         0.007351\n",
       "min         0.009167\n",
       "25%         0.012728\n",
       "50%         0.020556\n",
       "75%         0.027351\n",
       "max         0.029955\n",
       "Name: SW_IN_POT, dtype: float64"
      ]
     },
     "execution_count": 44,
     "metadata": {},
     "output_type": "execute_result"
    }
   ],
   "source": [
    "obs_norm.describe()"
   ]
  },
  {
   "cell_type": "code",
   "execution_count": 45,
   "id": "957a7372-3c74-499a-b46f-b2d3ca282c76",
   "metadata": {
    "tags": []
   },
   "outputs": [
    {
     "data": {
      "image/png": "[encoded data removed]",
      "text/plain": [
       "<Figure size 1000x500 with 1 Axes>"
      ]
     },
     "metadata": {},
     "output_type": "display_data"
    }
   ],
   "source": [
    "plot_against_time(sm_norm, obs_norm)"
   ]
  },
  {
   "cell_type": "code",
   "execution_count": 28,
   "id": "4c8f5e42-272e-4e30-baeb-cd3763be903a",
   "metadata": {
    "tags": []
   },
   "outputs": [
    {
     "data": {
      "image/png": "[encoded data removed]",
      "text/plain": [
       "<Figure size 1000x500 with 1 Axes>"
      ]
     },
     "metadata": {},
     "output_type": "display_data"
    }
   ],
   "source": [
    "plot_against_time(df_irr['RADN'], df['SW_IN_POT']/ 100)"
   ]
  },
  {
   "cell_type": "code",
   "execution_count": 32,
   "id": "e0852be2-ba1f-4c10-8719-2070b53b93cd",
   "metadata": {
    "tags": []
   },
   "outputs": [
    {
     "data": {
      "image/png": "[encoded data removed]",
      "text/plain": [
       "<Figure size 1000x500 with 1 Axes>"
      ]
     },
     "metadata": {},
     "output_type": "display_data"
    }
   ],
   "source": [
    "plot_against_time(df_irr['RADN'] , df['SW_IN_POT'])"
   ]
  },
  {
   "cell_type": "code",
   "execution_count": 63,
   "id": "6aee9684-f962-4b54-9cf6-97659ce2929b",
   "metadata": {
    "tags": []
   },
   "outputs": [
    {
     "data": {
      "text/plain": [
       "{'JSD': {'NEE_VUT_REF_NIGHT_SD': 0.4564486398641424},\n",
       " 'PRSN': {'NEE_CUT_05_NIGHT': 0.5844031376157531},\n",
       " 'Cosine similarity': {'NEE_CUT_75_NIGHT': 0.5883954132109497},\n",
       " 'K-Means': 'NEE_CUT_REF_NIGHT'}"
      ]
     },
     "execution_count": 63,
     "metadata": {},
     "output_type": "execute_result"
    }
   ],
   "source": [
    "get_most_similar(nee[:2192], nee_df, True)"
   ]
  },
  {
   "cell_type": "code",
   "execution_count": 67,
   "id": "de12da2f-449b-4f49-aafe-d87aeea0c470",
   "metadata": {
    "tags": []
   },
   "outputs": [
    {
     "data": {
      "text/plain": [
       "{'JSD': {'NEE_VUT_REF_NIGHT_SD': 0.3951475827701259},\n",
       " 'PRSN': {'NEE_VUT_16_NIGHT': 0.6829585823441287},\n",
       " 'Cosine similarity': {'NEE_CUT_75_NIGHT': 0.7102379814996385},\n",
       " 'K-Means': 'NEE_CUT_REF_NIGHT'}"
      ]
     },
     "execution_count": 67,
     "metadata": {},
     "output_type": "execute_result"
    }
   ],
   "source": [
    "get_most_similar(nee_d[:2192], nee_df, True)"
   ]
  },
  {
   "cell_type": "code",
   "execution_count": 11,
   "id": "56e2e865-938b-487e-8bc6-783425ffb786",
   "metadata": {
    "tags": []
   },
   "outputs": [],
   "source": [
    "df_irr = df_irr[:df.shape[0]]"
   ]
  },
  {
   "cell_type": "code",
   "execution_count": 12,
   "id": "14e1f4ce-301d-4984-9a3f-e49c9ad92d41",
   "metadata": {
    "tags": []
   },
   "outputs": [],
   "source": [
    "extracted= {\n",
    "'DATE': df['TIMESTAMP'],\n",
    "'DOY' : df['DOY'],\n",
    "'HMAX_AIR' :  df_irr['HMAX_AIR'], # dataset missing air humidity:/ \n",
    "'TMIN_AIR' : df['TA_ERA_NIGHT'], #TA_F_MDS also works\n",
    "'TMAX_SOIL' : df['TS_F_MDS_7'] , #cosine and pearson agree\n",
    "'HMIN_AIR' :  df_irr['HMIN_AIR'], #missing air humidity \n",
    "'TMAX_AIR' : df['TA_F_MDS'] ,\n",
    "'RADN' : df['SW_IN_POT'],\n",
    "'WIND' : df['WS_F'] ,\n",
    "'D_W_PRECN' : df['P_F'], \n",
    "'TMIN_SOIL' : df_irr['TMIN_SOIL'], #observed data missing min soil temp\n",
    "'NEE' : df['NEE_CUT_REF_NIGHT']\n",
    "}\n",
    "\n",
    "extracted_df = pd.DataFrame(extracted)\n",
    "\n",
    "extracted_df.to_csv('../datasets/extractedNEE_CUT_REF_NIGHT_Final.csv')\n"
   ]
  },
  {
   "cell_type": "code",
   "execution_count": 13,
   "id": "f4f48aad-7cb4-414f-b1f2-53198d4ee2b4",
   "metadata": {
    "tags": []
   },
   "outputs": [
    {
     "data": {
      "text/html": [
       "<div>\n",
       "<style scoped>\n",
       "    .dataframe tbody tr th:only-of-type {\n",
       "        vertical-align: middle;\n",
       "    }\n",
       "\n",
       "    .dataframe tbody tr th {\n",
       "        vertical-align: top;\n",
       "    }\n",
       "\n",
       "    .dataframe thead th {\n",
       "        text-align: right;\n",
       "    }\n",
       "</style>\n",
       "<table border=\"1\" class=\"dataframe\">\n",
       "  <thead>\n",
       "    <tr style=\"text-align: right;\">\n",
       "      <th></th>\n",
       "      <th>DATE</th>\n",
       "      <th>DOY</th>\n",
       "      <th>HMAX_AIR</th>\n",
       "      <th>TMIN_AIR</th>\n",
       "      <th>TMAX_SOIL</th>\n",
       "      <th>HMIN_AIR</th>\n",
       "      <th>TMAX_AIR</th>\n",
       "      <th>RADN</th>\n",
       "      <th>WIND</th>\n",
       "      <th>D_W_PRECN</th>\n",
       "      <th>TMIN_SOIL</th>\n",
       "      <th>NEE</th>\n",
       "    </tr>\n",
       "  </thead>\n",
       "  <tbody>\n",
       "    <tr>\n",
       "      <th>0</th>\n",
       "      <td>2015-01-01</td>\n",
       "      <td>1</td>\n",
       "      <td>0.630569</td>\n",
       "      <td>-8.316</td>\n",
       "      <td>2.026</td>\n",
       "      <td>0.435766</td>\n",
       "      <td>-6.186</td>\n",
       "      <td>152.441</td>\n",
       "      <td>2.543</td>\n",
       "      <td>0.000</td>\n",
       "      <td>3.167734</td>\n",
       "      <td>0.728700</td>\n",
       "    </tr>\n",
       "    <tr>\n",
       "      <th>1</th>\n",
       "      <td>2015-01-02</td>\n",
       "      <td>2</td>\n",
       "      <td>0.630147</td>\n",
       "      <td>-6.127</td>\n",
       "      <td>2.148</td>\n",
       "      <td>0.349557</td>\n",
       "      <td>-5.299</td>\n",
       "      <td>153.067</td>\n",
       "      <td>1.614</td>\n",
       "      <td>0.000</td>\n",
       "      <td>2.970467</td>\n",
       "      <td>0.756333</td>\n",
       "    </tr>\n",
       "    <tr>\n",
       "      <th>2</th>\n",
       "      <td>2015-01-03</td>\n",
       "      <td>3</td>\n",
       "      <td>0.796492</td>\n",
       "      <td>-7.555</td>\n",
       "      <td>2.010</td>\n",
       "      <td>0.324438</td>\n",
       "      <td>-6.735</td>\n",
       "      <td>153.753</td>\n",
       "      <td>3.187</td>\n",
       "      <td>1.559</td>\n",
       "      <td>2.820677</td>\n",
       "      <td>0.717230</td>\n",
       "    </tr>\n",
       "    <tr>\n",
       "      <th>3</th>\n",
       "      <td>2015-01-04</td>\n",
       "      <td>4</td>\n",
       "      <td>0.897199</td>\n",
       "      <td>-14.733</td>\n",
       "      <td>1.373</td>\n",
       "      <td>0.501948</td>\n",
       "      <td>-15.570</td>\n",
       "      <td>154.497</td>\n",
       "      <td>4.039</td>\n",
       "      <td>1.094</td>\n",
       "      <td>3.144463</td>\n",
       "      <td>0.684707</td>\n",
       "    </tr>\n",
       "    <tr>\n",
       "      <th>4</th>\n",
       "      <td>2015-01-05</td>\n",
       "      <td>5</td>\n",
       "      <td>0.702206</td>\n",
       "      <td>-10.702</td>\n",
       "      <td>1.568</td>\n",
       "      <td>0.384053</td>\n",
       "      <td>-10.930</td>\n",
       "      <td>155.300</td>\n",
       "      <td>3.069</td>\n",
       "      <td>0.475</td>\n",
       "      <td>3.087650</td>\n",
       "      <td>0.850473</td>\n",
       "    </tr>\n",
       "    <tr>\n",
       "      <th>...</th>\n",
       "      <td>...</td>\n",
       "      <td>...</td>\n",
       "      <td>...</td>\n",
       "      <td>...</td>\n",
       "      <td>...</td>\n",
       "      <td>...</td>\n",
       "      <td>...</td>\n",
       "      <td>...</td>\n",
       "      <td>...</td>\n",
       "      <td>...</td>\n",
       "      <td>...</td>\n",
       "      <td>...</td>\n",
       "    </tr>\n",
       "    <tr>\n",
       "      <th>2187</th>\n",
       "      <td>2020-12-27</td>\n",
       "      <td>362</td>\n",
       "      <td>0.835153</td>\n",
       "      <td>-2.049</td>\n",
       "      <td>1.892</td>\n",
       "      <td>0.441234</td>\n",
       "      <td>-0.632</td>\n",
       "      <td>150.527</td>\n",
       "      <td>3.471</td>\n",
       "      <td>0.939</td>\n",
       "      <td>3.194780</td>\n",
       "      <td>0.924725</td>\n",
       "    </tr>\n",
       "    <tr>\n",
       "      <th>2188</th>\n",
       "      <td>2020-12-28</td>\n",
       "      <td>363</td>\n",
       "      <td>0.835904</td>\n",
       "      <td>-4.516</td>\n",
       "      <td>1.782</td>\n",
       "      <td>0.423138</td>\n",
       "      <td>-3.868</td>\n",
       "      <td>150.916</td>\n",
       "      <td>1.893</td>\n",
       "      <td>0.001</td>\n",
       "      <td>3.187274</td>\n",
       "      <td>0.646184</td>\n",
       "    </tr>\n",
       "    <tr>\n",
       "      <th>2189</th>\n",
       "      <td>2020-12-29</td>\n",
       "      <td>364</td>\n",
       "      <td>0.784312</td>\n",
       "      <td>-3.835</td>\n",
       "      <td>1.678</td>\n",
       "      <td>0.363440</td>\n",
       "      <td>-3.761</td>\n",
       "      <td>151.365</td>\n",
       "      <td>3.063</td>\n",
       "      <td>15.407</td>\n",
       "      <td>3.110832</td>\n",
       "      <td>0.609222</td>\n",
       "    </tr>\n",
       "    <tr>\n",
       "      <th>2190</th>\n",
       "      <td>2020-12-30</td>\n",
       "      <td>365</td>\n",
       "      <td>0.696367</td>\n",
       "      <td>-8.046</td>\n",
       "      <td>1.588</td>\n",
       "      <td>0.271404</td>\n",
       "      <td>-6.133</td>\n",
       "      <td>151.874</td>\n",
       "      <td>2.707</td>\n",
       "      <td>0.000</td>\n",
       "      <td>2.867376</td>\n",
       "      <td>0.371313</td>\n",
       "    </tr>\n",
       "    <tr>\n",
       "      <th>2191</th>\n",
       "      <td>2020-12-31</td>\n",
       "      <td>366</td>\n",
       "      <td>0.696367</td>\n",
       "      <td>-10.771</td>\n",
       "      <td>1.528</td>\n",
       "      <td>0.271404</td>\n",
       "      <td>-8.544</td>\n",
       "      <td>152.441</td>\n",
       "      <td>2.360</td>\n",
       "      <td>0.000</td>\n",
       "      <td>2.878800</td>\n",
       "      <td>4.587340</td>\n",
       "    </tr>\n",
       "  </tbody>\n",
       "</table>\n",
       "<p>2192 rows × 12 columns</p>\n",
       "</div>"
      ],
      "text/plain": [
       "           DATE  DOY  HMAX_AIR  TMIN_AIR  TMAX_SOIL  HMIN_AIR  TMAX_AIR  \\\n",
       "0    2015-01-01    1  0.630569    -8.316      2.026  0.435766    -6.186   \n",
       "1    2015-01-02    2  0.630147    -6.127      2.148  0.349557    -5.299   \n",
       "2    2015-01-03    3  0.796492    -7.555      2.010  0.324438    -6.735   \n",
       "3    2015-01-04    4  0.897199   -14.733      1.373  0.501948   -15.570   \n",
       "4    2015-01-05    5  0.702206   -10.702      1.568  0.384053   -10.930   \n",
       "...         ...  ...       ...       ...        ...       ...       ...   \n",
       "2187 2020-12-27  362  0.835153    -2.049      1.892  0.441234    -0.632   \n",
       "2188 2020-12-28  363  0.835904    -4.516      1.782  0.423138    -3.868   \n",
       "2189 2020-12-29  364  0.784312    -3.835      1.678  0.363440    -3.761   \n",
       "2190 2020-12-30  365  0.696367    -8.046      1.588  0.271404    -6.133   \n",
       "2191 2020-12-31  366  0.696367   -10.771      1.528  0.271404    -8.544   \n",
       "\n",
       "         RADN   WIND  D_W_PRECN  TMIN_SOIL       NEE  \n",
       "0     152.441  2.543      0.000   3.167734  0.728700  \n",
       "1     153.067  1.614      0.000   2.970467  0.756333  \n",
       "2     153.753  3.187      1.559   2.820677  0.717230  \n",
       "3     154.497  4.039      1.094   3.144463  0.684707  \n",
       "4     155.300  3.069      0.475   3.087650  0.850473  \n",
       "...       ...    ...        ...        ...       ...  \n",
       "2187  150.527  3.471      0.939   3.194780  0.924725  \n",
       "2188  150.916  1.893      0.001   3.187274  0.646184  \n",
       "2189  151.365  3.063     15.407   3.110832  0.609222  \n",
       "2190  151.874  2.707      0.000   2.867376  0.371313  \n",
       "2191  152.441  2.360      0.000   2.878800  4.587340  \n",
       "\n",
       "[2192 rows x 12 columns]"
      ]
     },
     "execution_count": 13,
     "metadata": {},
     "output_type": "execute_result"
    }
   ],
   "source": [
    "extracted_df"
   ]
  },
  {
   "cell_type": "code",
   "execution_count": 60,
   "id": "9b076d1c-8c57-4d2a-af51-38d27c7f3d76",
   "metadata": {
    "tags": []
   },
   "outputs": [],
   "source": [
    "df_irr['YEAR'] = df_irr['DATE'].dt.year"
   ]
  },
  {
   "cell_type": "code",
   "execution_count": 67,
   "id": "36782769-1406-4c92-8d08-959082cf7852",
   "metadata": {
    "tags": []
   },
   "outputs": [],
   "source": [
    "feats = extracted_df.columns\n",
    "feats = feats.drop('NEE')"
   ]
  },
  {
   "cell_type": "code",
   "execution_count": 68,
   "id": "7288eddb-2c6f-4886-baa4-27a48f4dc877",
   "metadata": {
    "tags": []
   },
   "outputs": [],
   "source": [
    "df_irr= df_irr[feats]"
   ]
  },
  {
   "cell_type": "code",
   "execution_count": 70,
   "id": "626359e7-b0ed-4508-8847-df24655adff3",
   "metadata": {},
   "outputs": [
    {
     "data": {
      "text/html": [
       "<div>\n",
       "<style scoped>\n",
       "    .dataframe tbody tr th:only-of-type {\n",
       "        vertical-align: middle;\n",
       "    }\n",
       "\n",
       "    .dataframe tbody tr th {\n",
       "        vertical-align: top;\n",
       "    }\n",
       "\n",
       "    .dataframe thead th {\n",
       "        text-align: right;\n",
       "    }\n",
       "</style>\n",
       "<table border=\"1\" class=\"dataframe\">\n",
       "  <thead>\n",
       "    <tr style=\"text-align: right;\">\n",
       "      <th></th>\n",
       "      <th>YEAR</th>\n",
       "      <th>DOY</th>\n",
       "      <th>HMAX_AIR</th>\n",
       "      <th>TMIN_AIR</th>\n",
       "      <th>TMAX_SOIL</th>\n",
       "      <th>HMIN_AIR</th>\n",
       "      <th>TMAX_AIR</th>\n",
       "      <th>RADN</th>\n",
       "      <th>WIND</th>\n",
       "      <th>D_W_PRECN</th>\n",
       "      <th>TMIN_SOIL</th>\n",
       "    </tr>\n",
       "  </thead>\n",
       "  <tbody>\n",
       "    <tr>\n",
       "      <th>0</th>\n",
       "      <td>2015</td>\n",
       "      <td>1</td>\n",
       "      <td>0.630569</td>\n",
       "      <td>-2.93</td>\n",
       "      <td>4.434282</td>\n",
       "      <td>0.435766</td>\n",
       "      <td>2.91</td>\n",
       "      <td>4.710812</td>\n",
       "      <td>331.524</td>\n",
       "      <td>0.0</td>\n",
       "      <td>3.167734</td>\n",
       "    </tr>\n",
       "    <tr>\n",
       "      <th>1</th>\n",
       "      <td>2015</td>\n",
       "      <td>2</td>\n",
       "      <td>0.630147</td>\n",
       "      <td>-5.90</td>\n",
       "      <td>4.465995</td>\n",
       "      <td>0.349557</td>\n",
       "      <td>2.19</td>\n",
       "      <td>7.255759</td>\n",
       "      <td>247.068</td>\n",
       "      <td>0.0</td>\n",
       "      <td>2.970467</td>\n",
       "    </tr>\n",
       "    <tr>\n",
       "      <th>2</th>\n",
       "      <td>2015</td>\n",
       "      <td>3</td>\n",
       "      <td>0.796492</td>\n",
       "      <td>-6.89</td>\n",
       "      <td>5.164491</td>\n",
       "      <td>0.324438</td>\n",
       "      <td>9.11</td>\n",
       "      <td>8.689023</td>\n",
       "      <td>245.952</td>\n",
       "      <td>0.0</td>\n",
       "      <td>2.820677</td>\n",
       "    </tr>\n",
       "    <tr>\n",
       "      <th>3</th>\n",
       "      <td>2015</td>\n",
       "      <td>4</td>\n",
       "      <td>0.897199</td>\n",
       "      <td>-0.99</td>\n",
       "      <td>5.429086</td>\n",
       "      <td>0.501948</td>\n",
       "      <td>8.71</td>\n",
       "      <td>3.999532</td>\n",
       "      <td>376.056</td>\n",
       "      <td>0.7</td>\n",
       "      <td>3.144463</td>\n",
       "    </tr>\n",
       "    <tr>\n",
       "      <th>4</th>\n",
       "      <td>2015</td>\n",
       "      <td>5</td>\n",
       "      <td>0.702206</td>\n",
       "      <td>-4.64</td>\n",
       "      <td>4.190762</td>\n",
       "      <td>0.384053</td>\n",
       "      <td>3.73</td>\n",
       "      <td>2.409738</td>\n",
       "      <td>367.992</td>\n",
       "      <td>0.0</td>\n",
       "      <td>3.087650</td>\n",
       "    </tr>\n",
       "    <tr>\n",
       "      <th>...</th>\n",
       "      <td>...</td>\n",
       "      <td>...</td>\n",
       "      <td>...</td>\n",
       "      <td>...</td>\n",
       "      <td>...</td>\n",
       "      <td>...</td>\n",
       "      <td>...</td>\n",
       "      <td>...</td>\n",
       "      <td>...</td>\n",
       "      <td>...</td>\n",
       "      <td>...</td>\n",
       "    </tr>\n",
       "    <tr>\n",
       "      <th>2187</th>\n",
       "      <td>2020</td>\n",
       "      <td>362</td>\n",
       "      <td>0.835153</td>\n",
       "      <td>-2.76</td>\n",
       "      <td>5.151930</td>\n",
       "      <td>0.441234</td>\n",
       "      <td>15.86</td>\n",
       "      <td>6.271325</td>\n",
       "      <td>148.104</td>\n",
       "      <td>0.0</td>\n",
       "      <td>3.194780</td>\n",
       "    </tr>\n",
       "    <tr>\n",
       "      <th>2188</th>\n",
       "      <td>2020</td>\n",
       "      <td>363</td>\n",
       "      <td>0.835904</td>\n",
       "      <td>-3.33</td>\n",
       "      <td>4.810034</td>\n",
       "      <td>0.423138</td>\n",
       "      <td>7.20</td>\n",
       "      <td>6.136070</td>\n",
       "      <td>203.364</td>\n",
       "      <td>0.0</td>\n",
       "      <td>3.187274</td>\n",
       "    </tr>\n",
       "    <tr>\n",
       "      <th>2189</th>\n",
       "      <td>2020</td>\n",
       "      <td>364</td>\n",
       "      <td>0.784312</td>\n",
       "      <td>-5.38</td>\n",
       "      <td>5.533313</td>\n",
       "      <td>0.363440</td>\n",
       "      <td>9.37</td>\n",
       "      <td>8.411016</td>\n",
       "      <td>427.104</td>\n",
       "      <td>0.0</td>\n",
       "      <td>3.110832</td>\n",
       "    </tr>\n",
       "    <tr>\n",
       "      <th>2190</th>\n",
       "      <td>2020</td>\n",
       "      <td>365</td>\n",
       "      <td>0.696367</td>\n",
       "      <td>-9.23</td>\n",
       "      <td>5.226417</td>\n",
       "      <td>0.271404</td>\n",
       "      <td>8.29</td>\n",
       "      <td>8.372219</td>\n",
       "      <td>222.876</td>\n",
       "      <td>0.0</td>\n",
       "      <td>2.867376</td>\n",
       "    </tr>\n",
       "    <tr>\n",
       "      <th>2191</th>\n",
       "      <td>2020</td>\n",
       "      <td>366</td>\n",
       "      <td>0.696367</td>\n",
       "      <td>-9.23</td>\n",
       "      <td>5.472534</td>\n",
       "      <td>0.271404</td>\n",
       "      <td>8.29</td>\n",
       "      <td>8.375935</td>\n",
       "      <td>222.876</td>\n",
       "      <td>0.0</td>\n",
       "      <td>2.878800</td>\n",
       "    </tr>\n",
       "  </tbody>\n",
       "</table>\n",
       "<p>2192 rows × 11 columns</p>\n",
       "</div>"
      ],
      "text/plain": [
       "      YEAR  DOY  HMAX_AIR  TMIN_AIR  TMAX_SOIL  HMIN_AIR  TMAX_AIR      RADN  \\\n",
       "0     2015    1  0.630569     -2.93   4.434282  0.435766      2.91  4.710812   \n",
       "1     2015    2  0.630147     -5.90   4.465995  0.349557      2.19  7.255759   \n",
       "2     2015    3  0.796492     -6.89   5.164491  0.324438      9.11  8.689023   \n",
       "3     2015    4  0.897199     -0.99   5.429086  0.501948      8.71  3.999532   \n",
       "4     2015    5  0.702206     -4.64   4.190762  0.384053      3.73  2.409738   \n",
       "...    ...  ...       ...       ...        ...       ...       ...       ...   \n",
       "2187  2020  362  0.835153     -2.76   5.151930  0.441234     15.86  6.271325   \n",
       "2188  2020  363  0.835904     -3.33   4.810034  0.423138      7.20  6.136070   \n",
       "2189  2020  364  0.784312     -5.38   5.533313  0.363440      9.37  8.411016   \n",
       "2190  2020  365  0.696367     -9.23   5.226417  0.271404      8.29  8.372219   \n",
       "2191  2020  366  0.696367     -9.23   5.472534  0.271404      8.29  8.375935   \n",
       "\n",
       "         WIND  D_W_PRECN  TMIN_SOIL  \n",
       "0     331.524        0.0   3.167734  \n",
       "1     247.068        0.0   2.970467  \n",
       "2     245.952        0.0   2.820677  \n",
       "3     376.056        0.7   3.144463  \n",
       "4     367.992        0.0   3.087650  \n",
       "...       ...        ...        ...  \n",
       "2187  148.104        0.0   3.194780  \n",
       "2188  203.364        0.0   3.187274  \n",
       "2189  427.104        0.0   3.110832  \n",
       "2190  222.876        0.0   2.867376  \n",
       "2191  222.876        0.0   2.878800  \n",
       "\n",
       "[2192 rows x 11 columns]"
      ]
     },
     "execution_count": 70,
     "metadata": {},
     "output_type": "execute_result"
    }
   ],
   "source": [
    "df_irr"
   ]
  },
  {
   "cell_type": "code",
   "execution_count": 14,
   "id": "c60f640d-5a09-4773-9a4b-cc7515bb3447",
   "metadata": {
    "tags": []
   },
   "outputs": [],
   "source": [
    "filter_col = [col for col in df if col.startswith('TS') and not col.endswith('QC')]    "
   ]
  },
  {
   "cell_type": "code",
   "execution_count": 15,
   "id": "55c94886-cb25-4d82-a711-656744dbb8bb",
   "metadata": {
    "tags": []
   },
   "outputs": [
    {
     "data": {
      "text/plain": [
       "['TS_F_MDS_1',\n",
       " 'TS_F_MDS_2',\n",
       " 'TS_F_MDS_3',\n",
       " 'TS_F_MDS_4',\n",
       " 'TS_F_MDS_5',\n",
       " 'TS_F_MDS_6',\n",
       " 'TS_F_MDS_7',\n",
       " 'TS_F_MDS_8']"
      ]
     },
     "execution_count": 15,
     "metadata": {},
     "output_type": "execute_result"
    }
   ],
   "source": [
    "filter_col"
   ]
  },
  {
   "cell_type": "code",
   "execution_count": 12,
   "id": "c51fe746-c3d5-464b-81c1-97aeabb94f1a",
   "metadata": {
    "tags": []
   },
   "outputs": [
    {
     "data": {
      "text/plain": [
       "'TS_F_MDS_3_QC'"
      ]
     },
     "execution_count": 12,
     "metadata": {},
     "output_type": "execute_result"
    }
   ],
   "source": [
    "smallest_mean_for('TS', df)"
   ]
  },
  {
   "cell_type": "code",
   "execution_count": 11,
   "id": "2e5c2f44-8d7b-4c32-a24b-f5cddd77161d",
   "metadata": {
    "tags": []
   },
   "outputs": [
    {
     "data": {
      "text/plain": [
       "TS_F_MDS_1       11.348499\n",
       "TS_F_MDS_2       11.334961\n",
       "TS_F_MDS_3       12.403337\n",
       "TS_F_MDS_4       11.385723\n",
       "TS_F_MDS_5       11.384166\n",
       "TS_F_MDS_6             NaN\n",
       "TS_F_MDS_7       11.445622\n",
       "TS_F_MDS_8       11.366537\n",
       "TS_F_MDS_1_QC     0.999620\n",
       "TS_F_MDS_2_QC     0.999563\n",
       "TS_F_MDS_3_QC     0.876141\n",
       "TS_F_MDS_4_QC     0.999639\n",
       "TS_F_MDS_5_QC     0.999391\n",
       "TS_F_MDS_6_QC          NaN\n",
       "TS_F_MDS_7_QC     0.984824\n",
       "TS_F_MDS_8_QC     0.999468\n",
       "dtype: float64"
      ]
     },
     "execution_count": 11,
     "metadata": {},
     "output_type": "execute_result"
    }
   ],
   "source": [
    "df[filter_col].mean()"
   ]
  },
  {
   "cell_type": "code",
   "execution_count": null,
   "id": "36e79039-de3d-4e03-a5cd-dd4246a12b92",
   "metadata": {},
   "outputs": [],
   "source": []
  }
 ],
 "metadata": {
  "kernelspec": {
   "display_name": "Python 3 (ipykernel)",
   "language": "python",
   "name": "python3"
  },
  "language_info": {
   "codemirror_mode": {
    "name": "ipython",
    "version": 3
   },
   "file_extension": ".py",
   "mimetype": "text/x-python",
   "name": "python",
   "nbconvert_exporter": "python",
   "pygments_lexer": "ipython3",
   "version": "3.9.16"
  }
 },
 "nbformat": 4,
 "nbformat_minor": 5
}
