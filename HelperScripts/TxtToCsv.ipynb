{
 "cells": [
  {
   "cell_type": "code",
   "execution_count": null,
   "id": "482d7f34-434f-4471-a22a-a1611318468d",
   "metadata": {
    "tags": []
   },
   "outputs": [],
   "source": [
    "import os\n",
    "import tqdm\n",
    "import pandas as pd\n",
    "import csv\n",
    "from pandas_ods_reader import read_ods"
   ]
  },
  {
   "cell_type": "code",
   "execution_count": null,
   "id": "2eb6f0b5-8101-4dbf-a7d0-9cc356abbfb2",
   "metadata": {
    "tags": []
   },
   "outputs": [],
   "source": [
    "warm = ['soil_c','surf_water','soil_temp','flux_soc','soil_water','n_flux','p_flux','temp']\n",
    "\n",
    "dirs = ['warm_temp_maize_soybean_irrigated', 'warm_temp_maize-soybean_dryland', 'cool_temp_maize_soybean']\n",
    "\n",
    "path = '../datasets/' + dirs[0]\n",
    "start_year = 2015\n",
    "growth_period = 8\n",
    "os.makedirs(path + '/csv_outs', exist_ok=True)  \n",
    "\n",
    "\n",
    "# ecosys writes the outputs for canopy and plants variables in files with just a '1' symbol in front of the fluxes outputs\n",
    "# using this mapper to write the csv with the correct name\n",
    "plant_mapper = {\n",
    "'flux_soc' : 'plant_c',\n",
    "'n_flux' : 'plant_n',\n",
    "'p_flux': 'plant_p',\n",
    "'soil_c': 'canopcy_c',\n",
    "'soil_temp' : 'canopy_temp',\n",
    "'soil_water': 'plant_stress',\n",
    "'surf_water': 'photosynthesis',\n",
    "'temp' : 'plant_growth'\n",
    "}"
   ]
  },
  {
   "cell_type": "code",
   "execution_count": null,
   "id": "c51a0afa-1f7e-423b-87c9-31b678a7905e",
   "metadata": {
    "tags": []
   },
   "outputs": [],
   "source": [
    "def to_csv(txt_file: str, save_path: str, to_rename: str):\n",
    "    # Open the input text file and output CSV file\n",
    "    with open(txt_file, 'r') as in_file, open(save_path + to_rename  + '.csv', 'w', newline='') as out_file:\n",
    "        # Create a CSV writer object\n",
    "        writer = csv.writer(out_file)\n",
    "\n",
    "        # Read each remaining line of the input file\n",
    "        for line in in_file:\n",
    "            cols = line.strip().split()\n",
    "            \n",
    "            #dirty, stupid hack to get rid of bad data\n",
    "            if cols[0] != 'DOY':\n",
    "                cols.remove(cols[0])\n",
    "                \n",
    "            # Write the columns to the CSV file\n",
    "            writer.writerow(cols)"
   ]
  },
  {
   "cell_type": "code",
   "execution_count": null,
   "id": "262e2101-771c-47ed-ad26-4b89773c0cbb",
   "metadata": {
    "tags": []
   },
   "outputs": [],
   "source": [
    "def turn_to_csv(file_names: list, start_year: int, growth_period: int):\n",
    "    year = start_year\n",
    "    itr = 0\n",
    "    for prefix in range(2):\n",
    "        year = start_year\n",
    "        for i in tqdm.tqdm(range(growth_period + 1)):\n",
    "            for file_name in file_names:\n",
    "                to_rename = str(year) + file_name\n",
    "                if prefix == 1:\n",
    "                    to_rename = str(year) + plant_mapper[file_name]\n",
    "                possible_file = str(prefix) + str(year) + file_name\n",
    "                file_path = path + '/outputs/' + possible_file\n",
    "                if os.path.isfile(file_path):\n",
    "                    to_csv(file_path, path + '/csv_outs/',to_rename)\n",
    "                # file missing a few letters due to weird fortran buffers, so substract one from the end\n",
    "                else: \n",
    "                    for i in range(4):\n",
    "                        file_name = file_name[:-i]\n",
    "                        possible_file = str(prefix) + str(year) + file_name\n",
    "                        file_path = path + '/outputs/' + possible_file\n",
    "                        if os.path.isfile(file_path):\n",
    "                            to_csv(file_path, path + '/csv_outs/', to_rename)\n",
    "\n",
    "\n",
    "                itr +=1\n",
    "            year +=1\n",
    "\n",
    "        "
   ]
  },
  {
   "cell_type": "code",
   "execution_count": null,
   "id": "9afb2aed-0581-435e-bc5a-b13c943729c5",
   "metadata": {
    "tags": []
   },
   "outputs": [
    {
     "name": "stderr",
     "output_type": "stream",
     "text": [
      "100%|███████████████████████████████████████████| 14/14 [00:06<00:00,  2.33it/s]\n",
      "100%|███████████████████████████████████████████| 14/14 [00:02<00:00,  6.83it/s]\n"
     ]
    }
   ],
   "source": [
    "turn_to_csv(warm, start_year, growth_period)"
   ]
  },
  {
   "cell_type": "code",
   "execution_count": null,
   "id": "05721777-f217-4662-b1a9-8ce9af0f7f8d",
   "metadata": {},
   "outputs": [],
   "source": []
  }
 ],
 "metadata": {
  "kernelspec": {
   "display_name": "Python 3 (ipykernel)",
   "language": "python",
   "name": "python3"
  },
  "language_info": {
   "codemirror_mode": {
    "name": "ipython",
    "version": 3
   },
   "file_extension": ".py",
   "mimetype": "text/x-python",
   "name": "python",
   "nbconvert_exporter": "python",
   "pygments_lexer": "ipython3",
   "version": "3.9.16"
  }
 },
 "nbformat": 4,
 "nbformat_minor": 5
}
