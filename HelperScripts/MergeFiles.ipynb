{
 "cells": [
  {
   "cell_type": "code",
   "execution_count": 9,
   "id": "4abd8061-4f9d-44b2-892a-39e392472fac",
   "metadata": {
    "tags": []
   },
   "outputs": [],
   "source": [
    "import pandas as pd\n",
    "import os\n",
    "import tqdm"
   ]
  },
  {
   "cell_type": "code",
   "execution_count": 10,
   "id": "6820cbdc-5897-4831-bce1-c1b6f468eb17",
   "metadata": {
    "tags": []
   },
   "outputs": [],
   "source": [
    "locales = ['/cool_temp_maize_soybean/', '/warm_temp_maize_soybean_irrigated/', '/warm_temp_maize-soybean_dryland/']\n",
    "path = locales[0]\n",
    "files = ['soil_c','surf_water','flux_soc','soil_water','p_flux','temp', 'n_flux',\n",
    "         'plant_c','plant_n','plant_p','canopcy_c','plant_stress','photosynthesis','plant_growth']\n",
    "#files.append('soil_temp', 'canopy_temp')\n",
    "start_year = 2015\n",
    "growth_period = 8"
   ]
  },
  {
   "cell_type": "code",
   "execution_count": 11,
   "id": "27b16b46-1165-4509-8b21-ac2eb153afe0",
   "metadata": {
    "tags": []
   },
   "outputs": [],
   "source": [
    "def JoinCsvsByYear(start_year: int, period: int, file_name : str, path: str, external_save: bool) -> pd.DataFrame:\n",
    "    to_aggr = []\n",
    "    for i in range(period):\n",
    "        #if (start_year == 2001 and (file_name == 'soil_temp' or file_name == 'canopy_temp')):\n",
    "        #    continue\n",
    "            \n",
    "        df = pd.read_csv(path + str(start_year) + file_name + '.csv')\n",
    "        #some files have hourly data, so turn them into daily data\n",
    "        #do yourself a favor and optimize this monstrository at some point pls\n",
    "        if ('HOUR' in df.columns):\n",
    "            df = df.drop(['DATE' , 'HOUR'], axis=1)\n",
    "            df['DATE'] = pd.date_range(start='1/1/' + str(start_year), periods=len(df), freq='H')\n",
    "            df.set_index('DATE', inplace=True)\n",
    "            df = df.resample('D').mean().reset_index()\n",
    "            \n",
    "        #index used to make join faster \n",
    "        df.set_index('DATE')\n",
    "        to_aggr.append(df)\n",
    "        start_year += 1\n",
    "    merged_data = pd.concat(to_aggr).reset_index().drop('index', axis=1)    \n",
    "    if (external_save):\n",
    "        abs_path = os.path.join(path, 'with_plant_soil_details/')\n",
    "        if not os.path.exists(abs_path):\n",
    "            os.makedirs(abs_path)\n",
    "        merged_data.to_csv(os.path.join(abs_path, file_name + '.csv'))\n",
    "\n",
    "        return merged_data"
   ]
  },
  {
   "cell_type": "code",
   "execution_count": 12,
   "id": "3bbd418e-d6fa-4025-ae9e-b7e75596ad3f",
   "metadata": {
    "tags": []
   },
   "outputs": [
    {
     "name": "stderr",
     "output_type": "stream",
     "text": [
      "100%|███████████████████████████████████████████| 14/14 [00:03<00:00,  4.53it/s]\n"
     ]
    }
   ],
   "source": [
    "for file in tqdm.tqdm(files):\n",
    "    df = JoinCsvsByYear(start_year, growth_period, file, '../datasets' + path + 'csv_outs/', True)  "
   ]
  }
 ],
 "metadata": {
  "kernelspec": {
   "display_name": "Python 3 (ipykernel)",
   "language": "python",
   "name": "python3"
  },
  "language_info": {
   "codemirror_mode": {
    "name": "ipython",
    "version": 3
   },
   "file_extension": ".py",
   "mimetype": "text/x-python",
   "name": "python",
   "nbconvert_exporter": "python",
   "pygments_lexer": "ipython3",
   "version": "3.9.16"
  }
 },
 "nbformat": 4,
 "nbformat_minor": 5
}
