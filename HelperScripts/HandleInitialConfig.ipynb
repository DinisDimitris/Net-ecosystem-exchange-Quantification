{
 "cells": [
  {
   "cell_type": "code",
   "execution_count": 39,
   "id": "f5760db7-e81b-4ec2-a492-4cf63326da5d",
   "metadata": {
    "tags": []
   },
   "outputs": [],
   "source": [
    "import pandas as pd\n",
    "import numpy as np\n",
    "import csv\n",
    "import os"
   ]
  },
  {
   "cell_type": "code",
   "execution_count": 40,
   "id": "37c362d6-8142-4bcc-b6c4-5523dd24c02e",
   "metadata": {
    "tags": []
   },
   "outputs": [],
   "source": [
    "abs_path = 'ecosys/ecosys_initial_configurations/'\n",
    "\n",
    "locales = ['cool_temp_maize_soybean', 'warm_temp_maize_soybean_irrigated', 'warm_temp_maize-soybean_dryland']\n",
    "\n",
    "local = locales[0]\n",
    "\n",
    "cfg_files_pth = abs_path + local\n",
    "\n",
    "out_files = ['soil_c','surf_water','soil_temp','flux_soc','soil_water','n_flux','p_flux','temp']\n",
    "\n",
    "years = 8\n",
    "growth_strt = 2015"
   ]
  },
  {
   "cell_type": "code",
   "execution_count": 41,
   "id": "90fe7c7f-fa9a-432e-a8ef-f5bbd88d832f",
   "metadata": {
    "tags": []
   },
   "outputs": [],
   "source": [
    "mdays=[31,28,31,30,31,30,31,31,30,31,30,31]\n",
    "def is_leap(year):\n",
    "    leap=False\n",
    "    if year % 4 == 0 and year % 100 != 0:\n",
    "        leap=True\n",
    "    elif year % 100 == 0:\n",
    "        leap=False\n",
    "    elif year % 400 ==0:\n",
    "        leap=True\n",
    "    else:\n",
    "        leap=False\n",
    "    return leap\n",
    "def dayofyear(year,month,day):\n",
    "    doy=0\n",
    "    for mm in range(0,month):\n",
    "        days=mdays[mm]\n",
    "        if mm==1:\n",
    "            if isleap(year):\n",
    "                days=29\n",
    "        for dd in range(0,days):\n",
    "            if mm < month-1:\n",
    "                doy=doy+1\n",
    "            else:\n",
    "                if dd < day:\n",
    "                    doy=doy+1\n",
    "    return doy"
   ]
  },
  {
   "cell_type": "code",
   "execution_count": 14,
   "id": "b13ef7b1-744c-4402-89b4-8db587f45718",
   "metadata": {
    "tags": []
   },
   "outputs": [],
   "source": [
    "def handle_file(line):\n",
    "    strps = line.strip().split()\n",
    "    \n",
    "    for strp in strps:\n",
    "        print(strp)\n",
    "        if line[0].isalpha() and strp not in out_files and strp != 'NO' and 'weather' not in strp:\n",
    "            if strp in plant_f.keys():\n",
    "                strp = plant_f[strp]\n",
    "\n",
    "            with open(pth + '/' + strp, 'r') as in_file, open(save_path + '/' + strp  + '.csv', 'w', newline='', encoding='utf-8') as out_file:\n",
    "                    writer = csv.DictWriter(out_file, fieldnames =['0'])\n",
    "                    writer.writeheader()\n",
    "                    for line in in_file:\n",
    "                        sep = ' '\n",
    "                        if ',' in line:\n",
    "                            sep = ','\n",
    "\n",
    "                        line = [elem.strip() for elem in line.split(sep)]\n",
    "                        line = [elem for elem in line if elem]\n",
    "\n",
    "                        # Write elements to output file\n",
    "                        for elem in line:\n",
    "                            if os.path.isfile(pth + '/' + elem):\n",
    "                                handle_file(elem)\n",
    "                                continue\n",
    "\n",
    "                            writer.writerow({'0': elem})\n",
    "                        \n",
    "def init_cfg_to_csv(file):\n",
    "    with open(file, 'r') as rnfl:\n",
    "        for line in rnfl:\n",
    "            handle_file(line) \n",
    "            \n",
    "def join_planting_data(pth, file):\n",
    "    fields = []\n",
    "    with open(os.path.join(pth , file), 'r') as rnfl:\n",
    "        for line in rnfl:\n",
    "            strps = line.strip().split()\n",
    "            \n",
    "            for strp in strps:\n",
    "                if strp[0].isalpha():\n",
    "                    fields.append(strp)\n",
    "                    \n",
    "    with open(save_path + '/' + file  + '.csv', 'w', newline='', encoding='utf-8') as out_file:\n",
    "        writer = csv.DictWriter(out_file, fieldnames = fields)\n",
    "        writer.writeheader()\n",
    "        for field in fields: \n",
    "            \n",
    "            to_open = field\n",
    "            if to_open in plant_f.keys():\n",
    "                to_open = plant_f[to_open]\n",
    "\n",
    "\n",
    "            with open(pth + '/' + to_open, 'r') as in_file:\n",
    "                for val in in_file:\n",
    "                    sep = ' '\n",
    "                    if ',' in val:\n",
    "                        sep = ','\n",
    "                        \n",
    "                    line = [elem.strip() for elem in val.split(sep) if elem.strip()]\n",
    "                    \n",
    "                    for elem in line:\n",
    "                        writer.writerow({field: elem})\n"
   ]
  },
  {
   "cell_type": "code",
   "execution_count": 42,
   "id": "4e51b748-e581-4240-8b09-a1cd540d258d",
   "metadata": {
    "tags": []
   },
   "outputs": [],
   "source": [
    "def handle_soil(df: pd.DataFrame, soil_path: str)-> pd.DataFrame:\n",
    "    soil_prfl_vars = {\n",
    "    \"initial bulk density (Mg m-3,0=water) \": 2,\n",
    "    \"sand contents (kg Mg-1)\": 7,\n",
    "    \"silt contents (kg Mg-1)\": 8,\n",
    "    \"rock fraction\" : 10,\n",
    "    \"ph\" : 11,\n",
    "    \"SOC (kg Mg-1)\": 14 \n",
    "    }\n",
    "    with open(soil_path, 'r') as slfl:\n",
    "        lines = slfl.readlines()\n",
    "        for col_n, ln in soil_prfl_vars.items():\n",
    "            line_fl = lines[ln].strip().split(',')\n",
    "            line_fl = [x for x in line_fl if x]\n",
    "            mean = np.mean([float(i) for i in line_fl])\n",
    "            df[col_n] = mean\n",
    "            \n",
    "        \n",
    "    return df\n",
    "            \n",
    "            \n",
    "\n",
    "def agrg_temp_plant_soil(temp_fl_path: str, planting_path: str, plt_fl_idx: str):\n",
    "    planting =  ['planting date', 'initial planting density (m-2)', 'seeding depth (m)']\n",
    "    harvesting = ['harvesting date']\n",
    "    with open(planting_path, 'r') as plntfl:\n",
    "        df = pd.read_csv(temp_fl_path)\n",
    "        line = plntfl.readline()\n",
    "        planting_data = line.strip().split(',')\n",
    "        date = planting_data[0]\n",
    "        planting_data =planting_data[1:]\n",
    "        \n",
    "        if len(planting_data) != 2:\n",
    "            raise Exception(\"Planting data mismatch\")\n",
    "        \n",
    "        df[planting[0] + plt_fl_idx ] = date\n",
    "        df[planting[1] + plt_fl_idx] = planting_data[0]\n",
    "        df[planting[2] + plt_fl_idx] = planting_data[1]\n",
    "    \n",
    "    \n",
    "    df = handle_soil(df, '../' + cfg_files_pth + '/soil')\n",
    "    df.to_csv(temp_fl_path, index=False)"
   ]
  },
  {
   "cell_type": "markdown",
   "id": "e367c628-46c5-4531-9987-edd62e977dce",
   "metadata": {},
   "source": [
    "### Adding all planting dates to each temperature file. There have been 7 planting dates across each year from 2001 to 2007\n",
    "#### This exposes temporal variabilities between planting dates and fluxations in the target variables that the models can pick up on "
   ]
  },
  {
   "cell_type": "code",
   "execution_count": 43,
   "id": "12199c29-331d-4aeb-a1fe-e72c8dd75ac2",
   "metadata": {
    "tags": []
   },
   "outputs": [],
   "source": [
    "for i in range(0, years):\n",
    "    for j in range(1, 7):\n",
    "        agrg_temp_plant_soil('../datasets/' + local + '/csv_outs/' + str(growth_strt + i) + 'temp.csv',  '../'+ cfg_files_pth + '/planting' + str(j), str(j)  )"
   ]
  }
 ],
 "metadata": {
  "kernelspec": {
   "display_name": "Python 3 (ipykernel)",
   "language": "python",
   "name": "python3"
  },
  "language_info": {
   "codemirror_mode": {
    "name": "ipython",
    "version": 3
   },
   "file_extension": ".py",
   "mimetype": "text/x-python",
   "name": "python",
   "nbconvert_exporter": "python",
   "pygments_lexer": "ipython3",
   "version": "3.9.16"
  }
 },
 "nbformat": 4,
 "nbformat_minor": 5
}
