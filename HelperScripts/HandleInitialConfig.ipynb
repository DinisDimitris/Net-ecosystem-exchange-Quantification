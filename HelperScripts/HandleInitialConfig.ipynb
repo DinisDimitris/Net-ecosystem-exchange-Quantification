{
 "cells": [
  {
   "cell_type": "code",
   "execution_count": 9,
   "id": "f5760db7-e81b-4ec2-a492-4cf63326da5d",
   "metadata": {
    "tags": []
   },
   "outputs": [],
   "source": [
    "import pandas as pd\n",
    "import numpy as np\n",
    "import csv\n",
    "import os"
   ]
  },
  {
   "cell_type": "code",
   "execution_count": 10,
   "id": "37c362d6-8142-4bcc-b6c4-5523dd24c02e",
   "metadata": {
    "tags": []
   },
   "outputs": [],
   "source": [
    "abs_path = 'ecosys/ecosys_initial_configurations/'\n",
    "\n",
    "locales = ['cool_temp_maize_soybean', 'warm_temp_maize_soybean_irrigated', 'warm_temp_maize-soybean_dryland']\n",
    "\n",
    "local = locales[2]\n",
    "\n",
    "cfg_files_pth = abs_path + local\n",
    "\n",
    "out_files = ['soil_c','surf_water','soil_temp','flux_soc','soil_water','n_flux','p_flux','temp']\n",
    "\n",
    "years = 8\n",
    "growth_strt = 2015"
   ]
  },
  {
   "cell_type": "code",
   "execution_count": 11,
   "id": "4e51b748-e581-4240-8b09-a1cd540d258d",
   "metadata": {
    "tags": []
   },
   "outputs": [],
   "source": [
    "def handle_soil(df: pd.DataFrame, soil_path: str)-> pd.DataFrame:\n",
    "    soil_prfl_vars = {\n",
    "    \"initial bulk density (Mg m-3,0=water) \": 2,\n",
    "    \"sand contents (kg Mg-1)\": 7,\n",
    "    \"silt contents (kg Mg-1)\": 8,\n",
    "    \"rock fraction\" : 10,\n",
    "    \"ph\" : 11,\n",
    "    \"SOC (kg Mg-1)\": 14 \n",
    "    }\n",
    "    with open(soil_path, 'r') as slfl:\n",
    "        lines = slfl.readlines()\n",
    "        for col_n, ln in soil_prfl_vars.items():\n",
    "            line_fl = lines[ln].strip().split(',')\n",
    "            line_fl = [x for x in line_fl if x]\n",
    "            mean = np.mean([float(i) for i in line_fl])\n",
    "            df[col_n] = mean\n",
    "            \n",
    "        \n",
    "    return df\n",
    "            \n",
    "            \n",
    "\n",
    "def agrg_temp_plant_soil(temp_fl_path: str, planting_path: str, plt_fl_idx: str):\n",
    "    planting =  ['planting date', 'initial planting density (m-2)', 'seeding depth (m)']\n",
    "    harvesting = ['harvesting date']\n",
    "    with open(planting_path, 'r') as plntfl:\n",
    "        df = pd.read_csv(temp_fl_path)\n",
    "        line = plntfl.readline()\n",
    "        planting_data = line.strip().split(',')\n",
    "        date = planting_data[0]\n",
    "        planting_data =planting_data[1:]\n",
    "        \n",
    "        if len(planting_data) != 2:\n",
    "            raise Exception(\"Planting data mismatch\")\n",
    "        \n",
    "        df[planting[0] + plt_fl_idx ] = date\n",
    "        df[planting[1] + plt_fl_idx] = planting_data[0]\n",
    "        df[planting[2] + plt_fl_idx] = planting_data[1]\n",
    "    \n",
    "    \n",
    "    df = handle_soil(df, '../' + cfg_files_pth + '/soil')\n",
    "    df.to_csv(temp_fl_path, index=False)"
   ]
  },
  {
   "cell_type": "markdown",
   "id": "e367c628-46c5-4531-9987-edd62e977dce",
   "metadata": {},
   "source": [
    "### Adding all planting dates to each temperature file. There have been 7 planting dates across each year from 2001 to 2007\n",
    "#### This exposes temporal variabilities between planting dates and fluxations in the target variables that the models can pick up on "
   ]
  },
  {
   "cell_type": "code",
   "execution_count": 12,
   "id": "12199c29-331d-4aeb-a1fe-e72c8dd75ac2",
   "metadata": {
    "tags": []
   },
   "outputs": [],
   "source": [
    "for i in range(0, years):\n",
    "    for j in range(1, 7):\n",
    "        agrg_temp_plant_soil('../datasets/' + local + '/csv_outs/' + str(growth_strt + i) + 'temp.csv',  '../'+ cfg_files_pth + '/planting' + str(j), str(j)  )"
   ]
  }
 ],
 "metadata": {
  "kernelspec": {
   "display_name": "Python 3 (ipykernel)",
   "language": "python",
   "name": "python3"
  },
  "language_info": {
   "codemirror_mode": {
    "name": "ipython",
    "version": 3
   },
   "file_extension": ".py",
   "mimetype": "text/x-python",
   "name": "python",
   "nbconvert_exporter": "python",
   "pygments_lexer": "ipython3",
   "version": "3.9.16"
  }
 },
 "nbformat": 4,
 "nbformat_minor": 5
}
