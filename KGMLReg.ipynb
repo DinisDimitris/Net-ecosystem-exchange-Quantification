{
 "cells": [
  {
   "cell_type": "code",
   "execution_count": 7,
   "id": "8a1d20b1-fee7-478f-a15e-a3457668563e",
   "metadata": {
    "tags": []
   },
   "outputs": [],
   "source": [
    "import torch.nn as nn\n",
    "import pandas as pd\n",
    "from sklearn.model_selection import train_test_split\n",
    "from sklearn.metrics import r2_score as R2\n",
    "from sklearn.metrics import mean_squared_error as MSE\n",
    "from sklearn.multioutput import MultiOutputRegressor\n",
    "import numpy as np\n",
    "import torch\n",
    "import matplotlib.pyplot as plt\n",
    "import os\n",
    "import time\n",
    "import torch.optim as optim\n",
    "import torch.nn.functional as F\n",
    "from functools import reduce"
   ]
  },
  {
   "cell_type": "markdown",
   "id": "6d201058-0694-4f84-a28a-473e0a45f026",
   "metadata": {
    "tags": []
   },
   "source": [
    "### Knowledge guided machine learning implementation using gated recurrent units\n",
    "### Inspired from https://gmd.copernicus.org/articles/15/2839/2022"
   ]
  },
  {
   "cell_type": "code",
   "execution_count": 8,
   "id": "6a4ebd55-ff64-4041-ac30-48515bdc5406",
   "metadata": {
    "tags": []
   },
   "outputs": [],
   "source": [
    "class KGML(nn.Module):\n",
    "    def __init__(self, ninp, nhid, nlayers, nout, dropout):\n",
    "        super(KGML, self).__init__()\n",
    "        if nlayers > 1:\n",
    "            self.gru = nn.GRU(ninp, nhid,nlayers,dropout=dropout)\n",
    "        else:\n",
    "            self.gru = nn.GRU(ninp, nhid,nlayers)\n",
    "        #self.densor1 = nn.ReLU() #can test other function\n",
    "        self.densor2 = nn.Linear(nhid, nout)\n",
    "        self.nhid = nhid\n",
    "        self.nlayers = nlayers\n",
    "        self.drop=nn.Dropout(dropout)\n",
    "        self.init_weights()\n",
    "\n",
    "    def init_weights(self):\n",
    "        initrange = 0.1 #may change to a small value\n",
    "        self.densor2.bias.data.zero_()\n",
    "        self.densor2.weight.data.uniform_(-initrange, initrange)\n",
    "\n",
    "    def forward(self, inputs, hidden):\n",
    "        output, hidden = self.gru(inputs, hidden)\n",
    "        #output = self.densor1(self.drop(output))\n",
    "        #output = torch.exp(self.densor2(self.drop(output))) # add exp\n",
    "        output = self.densor2(self.drop(output)) # add exp\n",
    "        return output, hidden\n",
    "\n",
    "#bsz should be batch size\n",
    "    def init_hidden(self, bsz):\n",
    "        weight = next(self.parameters())\n",
    "        weight = weight.float()\n",
    "        return weight.new_zeros(self.nlayers, bsz, self.nhid)\n",
    "    \n",
    "def get_ini(x,ind,nout):\n",
    "    initials=[]\n",
    "    for i in range(len(ind)):\n",
    "        initials.append(x[:,:,ind[i]].view(x.size(0),x.size(1),nout[i]))\n",
    "    return initials\n",
    "\n",
    "def myloss_mul_sum(output, target,loss_weights):\n",
    "    loss = 0.0\n",
    "    nout=output.size(2)\n",
    "    for i in range(nout):\n",
    "        loss = loss + loss_weights[i]*torch.mean((output[:,:,i] - target[:,:,i])**2)\n",
    "    return loss\n",
    "\n",
    "def Z_norm(X):\n",
    "    X_mean=X.mean()\n",
    "    X_std=np.std(np.array(X))\n",
    "    return (X-X_mean)/X_std, X_mean, X_std\n",
    "\n",
    "def Z_norm_reverse(X,Xscaler,units_convert):\n",
    "    return (X*Xscaler[1]+Xscaler[0])*units_convert\n",
    "\n",
    "class R2Loss(nn.Module):\n",
    "    #calculate coefficient of determination\n",
    "    def forward(self, y_pred, y):\n",
    "        var_y = torch.var(y, unbiased=False)\n",
    "        return 1.0 - F.mse_loss(y_pred, y, reduction=\"mean\") / var_y"
   ]
  },
  {
   "cell_type": "code",
   "execution_count": 9,
   "id": "ece63282-72ea-44e7-91e6-90e512c228a2",
   "metadata": {
    "tags": []
   },
   "outputs": [],
   "source": [
    "target = 'NEE'\n",
    "\n",
    "model = ['rcef_RandomForestRegressor', 'rcef_RidgeCV', 'rcef_XGBRegressor', 'xgboost'] \n",
    "\n",
    "extracted_features = model[-1]"
   ]
  },
  {
   "cell_type": "code",
   "execution_count": 10,
   "id": "aae4ff14-8e7a-4d73-89cc-309f31a46f35",
   "metadata": {
    "tags": []
   },
   "outputs": [
    {
     "ename": "FileNotFoundError",
     "evalue": "[Errno 2] No such file or directory: 'datasets/warm_temp_maize_soybean_irrigated/csv_outs/with_plant_soil_details/soil_c.csv'",
     "output_type": "error",
     "traceback": [
      "\u001b[0;31m---------------------------------------------------------------------------\u001b[0m",
      "\u001b[0;31mFileNotFoundError\u001b[0m                         Traceback (most recent call last)",
      "Cell \u001b[0;32mIn[10], line 29\u001b[0m\n\u001b[1;32m     25\u001b[0m     \u001b[38;5;28;01mreturn\u001b[39;00m datasets\n\u001b[1;32m     27\u001b[0m dirs \u001b[38;5;241m=\u001b[39m [\u001b[38;5;124m'\u001b[39m\u001b[38;5;124mwarm_temp_maize_soybean_irrigated\u001b[39m\u001b[38;5;124m'\u001b[39m, \u001b[38;5;124m'\u001b[39m\u001b[38;5;124mwarm_temp_maize-soybean_dryland\u001b[39m\u001b[38;5;124m'\u001b[39m, \u001b[38;5;124m'\u001b[39m\u001b[38;5;124mcool_temp_maize_soybean\u001b[39m\u001b[38;5;124m'\u001b[39m]\n\u001b[0;32m---> 29\u001b[0m datasets \u001b[38;5;241m=\u001b[39m \u001b[43mload_datasets\u001b[49m\u001b[43m(\u001b[49m\u001b[43mdirs\u001b[49m\u001b[43m,\u001b[49m\u001b[43m \u001b[49m\u001b[38;5;124;43m'\u001b[39;49m\u001b[38;5;124;43m/csv_outs/with_plant_soil_details/\u001b[39;49m\u001b[38;5;124;43m'\u001b[39;49m\u001b[43m)\u001b[49m\n",
      "Cell \u001b[0;32mIn[10], line 13\u001b[0m, in \u001b[0;36mload_datasets\u001b[0;34m(dirs, load_path)\u001b[0m\n\u001b[1;32m     11\u001b[0m path \u001b[38;5;241m=\u001b[39m \u001b[38;5;124m'\u001b[39m\u001b[38;5;124mdatasets/\u001b[39m\u001b[38;5;124m'\u001b[39m \u001b[38;5;241m+\u001b[39m dr \u001b[38;5;241m+\u001b[39m load_path\n\u001b[1;32m     12\u001b[0m \u001b[38;5;28;01mfor\u001b[39;00m f \u001b[38;5;129;01min\u001b[39;00m files:\n\u001b[0;32m---> 13\u001b[0m     df \u001b[38;5;241m=\u001b[39m \u001b[43mpd\u001b[49m\u001b[38;5;241;43m.\u001b[39;49m\u001b[43mread_csv\u001b[49m\u001b[43m(\u001b[49m\u001b[43mos\u001b[49m\u001b[38;5;241;43m.\u001b[39;49m\u001b[43mpath\u001b[49m\u001b[38;5;241;43m.\u001b[39;49m\u001b[43mjoin\u001b[49m\u001b[43m(\u001b[49m\u001b[43mpath\u001b[49m\u001b[43m,\u001b[49m\u001b[43mf\u001b[49m\u001b[43m \u001b[49m\u001b[38;5;241;43m+\u001b[39;49m\u001b[43m \u001b[49m\u001b[38;5;124;43m'\u001b[39;49m\u001b[38;5;124;43m.csv\u001b[39;49m\u001b[38;5;124;43m'\u001b[39;49m\u001b[43m)\u001b[49m\u001b[43m)\u001b[49m\n\u001b[1;32m     14\u001b[0m     df\u001b[38;5;241m.\u001b[39mdrop(df\u001b[38;5;241m.\u001b[39mcolumns[\u001b[38;5;241m0\u001b[39m], axis\u001b[38;5;241m=\u001b[39m\u001b[38;5;241m1\u001b[39m)\n\u001b[1;32m     16\u001b[0m     csv_list\u001b[38;5;241m.\u001b[39mappend(df)\n",
      "File \u001b[0;32m~/miniconda3/envs/ecosys/lib/python3.9/site-packages/pandas/util/_decorators.py:211\u001b[0m, in \u001b[0;36mdeprecate_kwarg.<locals>._deprecate_kwarg.<locals>.wrapper\u001b[0;34m(*args, **kwargs)\u001b[0m\n\u001b[1;32m    209\u001b[0m     \u001b[38;5;28;01melse\u001b[39;00m:\n\u001b[1;32m    210\u001b[0m         kwargs[new_arg_name] \u001b[38;5;241m=\u001b[39m new_arg_value\n\u001b[0;32m--> 211\u001b[0m \u001b[38;5;28;01mreturn\u001b[39;00m \u001b[43mfunc\u001b[49m\u001b[43m(\u001b[49m\u001b[38;5;241;43m*\u001b[39;49m\u001b[43margs\u001b[49m\u001b[43m,\u001b[49m\u001b[43m \u001b[49m\u001b[38;5;241;43m*\u001b[39;49m\u001b[38;5;241;43m*\u001b[39;49m\u001b[43mkwargs\u001b[49m\u001b[43m)\u001b[49m\n",
      "File \u001b[0;32m~/miniconda3/envs/ecosys/lib/python3.9/site-packages/pandas/util/_decorators.py:331\u001b[0m, in \u001b[0;36mdeprecate_nonkeyword_arguments.<locals>.decorate.<locals>.wrapper\u001b[0;34m(*args, **kwargs)\u001b[0m\n\u001b[1;32m    325\u001b[0m \u001b[38;5;28;01mif\u001b[39;00m \u001b[38;5;28mlen\u001b[39m(args) \u001b[38;5;241m>\u001b[39m num_allow_args:\n\u001b[1;32m    326\u001b[0m     warnings\u001b[38;5;241m.\u001b[39mwarn(\n\u001b[1;32m    327\u001b[0m         msg\u001b[38;5;241m.\u001b[39mformat(arguments\u001b[38;5;241m=\u001b[39m_format_argument_list(allow_args)),\n\u001b[1;32m    328\u001b[0m         \u001b[38;5;167;01mFutureWarning\u001b[39;00m,\n\u001b[1;32m    329\u001b[0m         stacklevel\u001b[38;5;241m=\u001b[39mfind_stack_level(),\n\u001b[1;32m    330\u001b[0m     )\n\u001b[0;32m--> 331\u001b[0m \u001b[38;5;28;01mreturn\u001b[39;00m \u001b[43mfunc\u001b[49m\u001b[43m(\u001b[49m\u001b[38;5;241;43m*\u001b[39;49m\u001b[43margs\u001b[49m\u001b[43m,\u001b[49m\u001b[43m \u001b[49m\u001b[38;5;241;43m*\u001b[39;49m\u001b[38;5;241;43m*\u001b[39;49m\u001b[43mkwargs\u001b[49m\u001b[43m)\u001b[49m\n",
      "File \u001b[0;32m~/miniconda3/envs/ecosys/lib/python3.9/site-packages/pandas/io/parsers/readers.py:950\u001b[0m, in \u001b[0;36mread_csv\u001b[0;34m(filepath_or_buffer, sep, delimiter, header, names, index_col, usecols, squeeze, prefix, mangle_dupe_cols, dtype, engine, converters, true_values, false_values, skipinitialspace, skiprows, skipfooter, nrows, na_values, keep_default_na, na_filter, verbose, skip_blank_lines, parse_dates, infer_datetime_format, keep_date_col, date_parser, dayfirst, cache_dates, iterator, chunksize, compression, thousands, decimal, lineterminator, quotechar, quoting, doublequote, escapechar, comment, encoding, encoding_errors, dialect, error_bad_lines, warn_bad_lines, on_bad_lines, delim_whitespace, low_memory, memory_map, float_precision, storage_options)\u001b[0m\n\u001b[1;32m    935\u001b[0m kwds_defaults \u001b[38;5;241m=\u001b[39m _refine_defaults_read(\n\u001b[1;32m    936\u001b[0m     dialect,\n\u001b[1;32m    937\u001b[0m     delimiter,\n\u001b[0;32m   (...)\u001b[0m\n\u001b[1;32m    946\u001b[0m     defaults\u001b[38;5;241m=\u001b[39m{\u001b[38;5;124m\"\u001b[39m\u001b[38;5;124mdelimiter\u001b[39m\u001b[38;5;124m\"\u001b[39m: \u001b[38;5;124m\"\u001b[39m\u001b[38;5;124m,\u001b[39m\u001b[38;5;124m\"\u001b[39m},\n\u001b[1;32m    947\u001b[0m )\n\u001b[1;32m    948\u001b[0m kwds\u001b[38;5;241m.\u001b[39mupdate(kwds_defaults)\n\u001b[0;32m--> 950\u001b[0m \u001b[38;5;28;01mreturn\u001b[39;00m \u001b[43m_read\u001b[49m\u001b[43m(\u001b[49m\u001b[43mfilepath_or_buffer\u001b[49m\u001b[43m,\u001b[49m\u001b[43m \u001b[49m\u001b[43mkwds\u001b[49m\u001b[43m)\u001b[49m\n",
      "File \u001b[0;32m~/miniconda3/envs/ecosys/lib/python3.9/site-packages/pandas/io/parsers/readers.py:605\u001b[0m, in \u001b[0;36m_read\u001b[0;34m(filepath_or_buffer, kwds)\u001b[0m\n\u001b[1;32m    602\u001b[0m _validate_names(kwds\u001b[38;5;241m.\u001b[39mget(\u001b[38;5;124m\"\u001b[39m\u001b[38;5;124mnames\u001b[39m\u001b[38;5;124m\"\u001b[39m, \u001b[38;5;28;01mNone\u001b[39;00m))\n\u001b[1;32m    604\u001b[0m \u001b[38;5;66;03m# Create the parser.\u001b[39;00m\n\u001b[0;32m--> 605\u001b[0m parser \u001b[38;5;241m=\u001b[39m \u001b[43mTextFileReader\u001b[49m\u001b[43m(\u001b[49m\u001b[43mfilepath_or_buffer\u001b[49m\u001b[43m,\u001b[49m\u001b[43m \u001b[49m\u001b[38;5;241;43m*\u001b[39;49m\u001b[38;5;241;43m*\u001b[39;49m\u001b[43mkwds\u001b[49m\u001b[43m)\u001b[49m\n\u001b[1;32m    607\u001b[0m \u001b[38;5;28;01mif\u001b[39;00m chunksize \u001b[38;5;129;01mor\u001b[39;00m iterator:\n\u001b[1;32m    608\u001b[0m     \u001b[38;5;28;01mreturn\u001b[39;00m parser\n",
      "File \u001b[0;32m~/miniconda3/envs/ecosys/lib/python3.9/site-packages/pandas/io/parsers/readers.py:1442\u001b[0m, in \u001b[0;36mTextFileReader.__init__\u001b[0;34m(self, f, engine, **kwds)\u001b[0m\n\u001b[1;32m   1439\u001b[0m     \u001b[38;5;28mself\u001b[39m\u001b[38;5;241m.\u001b[39moptions[\u001b[38;5;124m\"\u001b[39m\u001b[38;5;124mhas_index_names\u001b[39m\u001b[38;5;124m\"\u001b[39m] \u001b[38;5;241m=\u001b[39m kwds[\u001b[38;5;124m\"\u001b[39m\u001b[38;5;124mhas_index_names\u001b[39m\u001b[38;5;124m\"\u001b[39m]\n\u001b[1;32m   1441\u001b[0m \u001b[38;5;28mself\u001b[39m\u001b[38;5;241m.\u001b[39mhandles: IOHandles \u001b[38;5;241m|\u001b[39m \u001b[38;5;28;01mNone\u001b[39;00m \u001b[38;5;241m=\u001b[39m \u001b[38;5;28;01mNone\u001b[39;00m\n\u001b[0;32m-> 1442\u001b[0m \u001b[38;5;28mself\u001b[39m\u001b[38;5;241m.\u001b[39m_engine \u001b[38;5;241m=\u001b[39m \u001b[38;5;28;43mself\u001b[39;49m\u001b[38;5;241;43m.\u001b[39;49m\u001b[43m_make_engine\u001b[49m\u001b[43m(\u001b[49m\u001b[43mf\u001b[49m\u001b[43m,\u001b[49m\u001b[43m \u001b[49m\u001b[38;5;28;43mself\u001b[39;49m\u001b[38;5;241;43m.\u001b[39;49m\u001b[43mengine\u001b[49m\u001b[43m)\u001b[49m\n",
      "File \u001b[0;32m~/miniconda3/envs/ecosys/lib/python3.9/site-packages/pandas/io/parsers/readers.py:1735\u001b[0m, in \u001b[0;36mTextFileReader._make_engine\u001b[0;34m(self, f, engine)\u001b[0m\n\u001b[1;32m   1733\u001b[0m     \u001b[38;5;28;01mif\u001b[39;00m \u001b[38;5;124m\"\u001b[39m\u001b[38;5;124mb\u001b[39m\u001b[38;5;124m\"\u001b[39m \u001b[38;5;129;01mnot\u001b[39;00m \u001b[38;5;129;01min\u001b[39;00m mode:\n\u001b[1;32m   1734\u001b[0m         mode \u001b[38;5;241m+\u001b[39m\u001b[38;5;241m=\u001b[39m \u001b[38;5;124m\"\u001b[39m\u001b[38;5;124mb\u001b[39m\u001b[38;5;124m\"\u001b[39m\n\u001b[0;32m-> 1735\u001b[0m \u001b[38;5;28mself\u001b[39m\u001b[38;5;241m.\u001b[39mhandles \u001b[38;5;241m=\u001b[39m \u001b[43mget_handle\u001b[49m\u001b[43m(\u001b[49m\n\u001b[1;32m   1736\u001b[0m \u001b[43m    \u001b[49m\u001b[43mf\u001b[49m\u001b[43m,\u001b[49m\n\u001b[1;32m   1737\u001b[0m \u001b[43m    \u001b[49m\u001b[43mmode\u001b[49m\u001b[43m,\u001b[49m\n\u001b[1;32m   1738\u001b[0m \u001b[43m    \u001b[49m\u001b[43mencoding\u001b[49m\u001b[38;5;241;43m=\u001b[39;49m\u001b[38;5;28;43mself\u001b[39;49m\u001b[38;5;241;43m.\u001b[39;49m\u001b[43moptions\u001b[49m\u001b[38;5;241;43m.\u001b[39;49m\u001b[43mget\u001b[49m\u001b[43m(\u001b[49m\u001b[38;5;124;43m\"\u001b[39;49m\u001b[38;5;124;43mencoding\u001b[39;49m\u001b[38;5;124;43m\"\u001b[39;49m\u001b[43m,\u001b[49m\u001b[43m \u001b[49m\u001b[38;5;28;43;01mNone\u001b[39;49;00m\u001b[43m)\u001b[49m\u001b[43m,\u001b[49m\n\u001b[1;32m   1739\u001b[0m \u001b[43m    \u001b[49m\u001b[43mcompression\u001b[49m\u001b[38;5;241;43m=\u001b[39;49m\u001b[38;5;28;43mself\u001b[39;49m\u001b[38;5;241;43m.\u001b[39;49m\u001b[43moptions\u001b[49m\u001b[38;5;241;43m.\u001b[39;49m\u001b[43mget\u001b[49m\u001b[43m(\u001b[49m\u001b[38;5;124;43m\"\u001b[39;49m\u001b[38;5;124;43mcompression\u001b[39;49m\u001b[38;5;124;43m\"\u001b[39;49m\u001b[43m,\u001b[49m\u001b[43m \u001b[49m\u001b[38;5;28;43;01mNone\u001b[39;49;00m\u001b[43m)\u001b[49m\u001b[43m,\u001b[49m\n\u001b[1;32m   1740\u001b[0m \u001b[43m    \u001b[49m\u001b[43mmemory_map\u001b[49m\u001b[38;5;241;43m=\u001b[39;49m\u001b[38;5;28;43mself\u001b[39;49m\u001b[38;5;241;43m.\u001b[39;49m\u001b[43moptions\u001b[49m\u001b[38;5;241;43m.\u001b[39;49m\u001b[43mget\u001b[49m\u001b[43m(\u001b[49m\u001b[38;5;124;43m\"\u001b[39;49m\u001b[38;5;124;43mmemory_map\u001b[39;49m\u001b[38;5;124;43m\"\u001b[39;49m\u001b[43m,\u001b[49m\u001b[43m \u001b[49m\u001b[38;5;28;43;01mFalse\u001b[39;49;00m\u001b[43m)\u001b[49m\u001b[43m,\u001b[49m\n\u001b[1;32m   1741\u001b[0m \u001b[43m    \u001b[49m\u001b[43mis_text\u001b[49m\u001b[38;5;241;43m=\u001b[39;49m\u001b[43mis_text\u001b[49m\u001b[43m,\u001b[49m\n\u001b[1;32m   1742\u001b[0m \u001b[43m    \u001b[49m\u001b[43merrors\u001b[49m\u001b[38;5;241;43m=\u001b[39;49m\u001b[38;5;28;43mself\u001b[39;49m\u001b[38;5;241;43m.\u001b[39;49m\u001b[43moptions\u001b[49m\u001b[38;5;241;43m.\u001b[39;49m\u001b[43mget\u001b[49m\u001b[43m(\u001b[49m\u001b[38;5;124;43m\"\u001b[39;49m\u001b[38;5;124;43mencoding_errors\u001b[39;49m\u001b[38;5;124;43m\"\u001b[39;49m\u001b[43m,\u001b[49m\u001b[43m \u001b[49m\u001b[38;5;124;43m\"\u001b[39;49m\u001b[38;5;124;43mstrict\u001b[39;49m\u001b[38;5;124;43m\"\u001b[39;49m\u001b[43m)\u001b[49m\u001b[43m,\u001b[49m\n\u001b[1;32m   1743\u001b[0m \u001b[43m    \u001b[49m\u001b[43mstorage_options\u001b[49m\u001b[38;5;241;43m=\u001b[39;49m\u001b[38;5;28;43mself\u001b[39;49m\u001b[38;5;241;43m.\u001b[39;49m\u001b[43moptions\u001b[49m\u001b[38;5;241;43m.\u001b[39;49m\u001b[43mget\u001b[49m\u001b[43m(\u001b[49m\u001b[38;5;124;43m\"\u001b[39;49m\u001b[38;5;124;43mstorage_options\u001b[39;49m\u001b[38;5;124;43m\"\u001b[39;49m\u001b[43m,\u001b[49m\u001b[43m \u001b[49m\u001b[38;5;28;43;01mNone\u001b[39;49;00m\u001b[43m)\u001b[49m\u001b[43m,\u001b[49m\n\u001b[1;32m   1744\u001b[0m \u001b[43m\u001b[49m\u001b[43m)\u001b[49m\n\u001b[1;32m   1745\u001b[0m \u001b[38;5;28;01massert\u001b[39;00m \u001b[38;5;28mself\u001b[39m\u001b[38;5;241m.\u001b[39mhandles \u001b[38;5;129;01mis\u001b[39;00m \u001b[38;5;129;01mnot\u001b[39;00m \u001b[38;5;28;01mNone\u001b[39;00m\n\u001b[1;32m   1746\u001b[0m f \u001b[38;5;241m=\u001b[39m \u001b[38;5;28mself\u001b[39m\u001b[38;5;241m.\u001b[39mhandles\u001b[38;5;241m.\u001b[39mhandle\n",
      "File \u001b[0;32m~/miniconda3/envs/ecosys/lib/python3.9/site-packages/pandas/io/common.py:856\u001b[0m, in \u001b[0;36mget_handle\u001b[0;34m(path_or_buf, mode, encoding, compression, memory_map, is_text, errors, storage_options)\u001b[0m\n\u001b[1;32m    851\u001b[0m \u001b[38;5;28;01melif\u001b[39;00m \u001b[38;5;28misinstance\u001b[39m(handle, \u001b[38;5;28mstr\u001b[39m):\n\u001b[1;32m    852\u001b[0m     \u001b[38;5;66;03m# Check whether the filename is to be opened in binary mode.\u001b[39;00m\n\u001b[1;32m    853\u001b[0m     \u001b[38;5;66;03m# Binary mode does not support 'encoding' and 'newline'.\u001b[39;00m\n\u001b[1;32m    854\u001b[0m     \u001b[38;5;28;01mif\u001b[39;00m ioargs\u001b[38;5;241m.\u001b[39mencoding \u001b[38;5;129;01mand\u001b[39;00m \u001b[38;5;124m\"\u001b[39m\u001b[38;5;124mb\u001b[39m\u001b[38;5;124m\"\u001b[39m \u001b[38;5;129;01mnot\u001b[39;00m \u001b[38;5;129;01min\u001b[39;00m ioargs\u001b[38;5;241m.\u001b[39mmode:\n\u001b[1;32m    855\u001b[0m         \u001b[38;5;66;03m# Encoding\u001b[39;00m\n\u001b[0;32m--> 856\u001b[0m         handle \u001b[38;5;241m=\u001b[39m \u001b[38;5;28;43mopen\u001b[39;49m\u001b[43m(\u001b[49m\n\u001b[1;32m    857\u001b[0m \u001b[43m            \u001b[49m\u001b[43mhandle\u001b[49m\u001b[43m,\u001b[49m\n\u001b[1;32m    858\u001b[0m \u001b[43m            \u001b[49m\u001b[43mioargs\u001b[49m\u001b[38;5;241;43m.\u001b[39;49m\u001b[43mmode\u001b[49m\u001b[43m,\u001b[49m\n\u001b[1;32m    859\u001b[0m \u001b[43m            \u001b[49m\u001b[43mencoding\u001b[49m\u001b[38;5;241;43m=\u001b[39;49m\u001b[43mioargs\u001b[49m\u001b[38;5;241;43m.\u001b[39;49m\u001b[43mencoding\u001b[49m\u001b[43m,\u001b[49m\n\u001b[1;32m    860\u001b[0m \u001b[43m            \u001b[49m\u001b[43merrors\u001b[49m\u001b[38;5;241;43m=\u001b[39;49m\u001b[43merrors\u001b[49m\u001b[43m,\u001b[49m\n\u001b[1;32m    861\u001b[0m \u001b[43m            \u001b[49m\u001b[43mnewline\u001b[49m\u001b[38;5;241;43m=\u001b[39;49m\u001b[38;5;124;43m\"\u001b[39;49m\u001b[38;5;124;43m\"\u001b[39;49m\u001b[43m,\u001b[49m\n\u001b[1;32m    862\u001b[0m \u001b[43m        \u001b[49m\u001b[43m)\u001b[49m\n\u001b[1;32m    863\u001b[0m     \u001b[38;5;28;01melse\u001b[39;00m:\n\u001b[1;32m    864\u001b[0m         \u001b[38;5;66;03m# Binary mode\u001b[39;00m\n\u001b[1;32m    865\u001b[0m         handle \u001b[38;5;241m=\u001b[39m \u001b[38;5;28mopen\u001b[39m(handle, ioargs\u001b[38;5;241m.\u001b[39mmode)\n",
      "\u001b[0;31mFileNotFoundError\u001b[0m: [Errno 2] No such file or directory: 'datasets/warm_temp_maize_soybean_irrigated/csv_outs/with_plant_soil_details/soil_c.csv'"
     ]
    }
   ],
   "source": [
    "# loads all data sets into a dict\n",
    "def load_datasets(dirs: list, load_path: str) -> dict:\n",
    "    files = ['soil_c','surf_water','flux_soc','soil_water','n_flux','p_flux','temp', \n",
    "         'plant_c','plant_n','plant_p','canopcy_c','plant_stress','photosynthesis','plant_growth']\n",
    "    \n",
    "    #files.append('soil_temp', 'canopy_temp') missing \n",
    "    datasets = {}\n",
    "    \n",
    "    for dr in dirs:\n",
    "        csv_list = []\n",
    "        path = 'datasets/' + dr + load_path\n",
    "        for f in files:\n",
    "            df = pd.read_csv(os.path.join(path,f + '.csv'))\n",
    "            df.drop(df.columns[0], axis=1)\n",
    "\n",
    "            csv_list.append(df)\n",
    "\n",
    "\n",
    "        data_dict = {}\n",
    "        for i in range (len(csv_list)):\n",
    "            data_dict[files[i]] = csv_list[i]\n",
    "\n",
    "        datasets[dr] = data_dict\n",
    "\n",
    "    return datasets\n",
    "\n",
    "dirs = ['warm_temp_maize_soybean_irrigated', 'warm_temp_maize-soybean_dryland', 'cool_temp_maize_soybean']\n",
    "\n",
    "datasets = load_datasets(dirs, '/csv_outs/with_plant_soil_details/')"
   ]
  },
  {
   "cell_type": "code",
   "execution_count": null,
   "id": "544e747f-4f97-41ff-a463-dba1fdadc234",
   "metadata": {},
   "outputs": [],
   "source": [
    "def rename_dupes(suffix: str, df: pd.DataFrame, dupes: list) -> pd.DataFrame:\n",
    "    for col in df.columns:\n",
    "        if col in dupes:\n",
    "            df.rename(columns={col: col + suffix}, inplace=True)\n",
    "    return df\n",
    "\n",
    "def average_numbered_columns(df):\n",
    "    numbered_cols = [col for col in df.columns if '_' in col and col.split('_')[-1].isdigit()]\n",
    "\n",
    "    col_groups = {}\n",
    "    for col in numbered_cols:\n",
    "        prefix = '_'.join(col.split('_')[:-1])\n",
    "        if prefix not in col_groups:\n",
    "            col_groups[prefix] = []\n",
    "        col_groups[prefix].append(col)\n",
    "\n",
    "    # calculate averages and add new columns\n",
    "    for prefix, cols in col_groups.items():\n",
    "        avg_col_name = prefix\n",
    "        avg_col_values = df[cols].mean(axis=1)\n",
    "        df[avg_col_name] = avg_col_values\n",
    "\n",
    "    # drop numbered columns\n",
    "    df = df.drop(columns=numbered_cols)\n",
    "\n",
    "    return df\n",
    "\n",
    "# turn all csv's to one dataframe\n",
    "def to_pd(df: dict, handle_dupes: bool, flatten_num_cols: bool) -> pd.DataFrame:\n",
    "    x = pd.DataFrame()\n",
    "    for file_name in df:\n",
    "        cur = df[file_name]\n",
    "            \n",
    "        x = pd.concat([x, df[file_name]], axis = 1)\n",
    "        \n",
    "    cheeky_col = 'unnamed.1'\n",
    "    cheeky_col2 = 'Unnamed: 0'\n",
    "    if cheeky_col in x.columns:\n",
    "        x = x.drop([cheeky_col], axis=1)\n",
    "    elif cheeky_col2 in x.columns:\n",
    "         x = x.drop([cheeky_col2], axis=1)\n",
    "    x = x.drop(['DATE'], axis=1)\n",
    "\n",
    "    if flatten_num_cols:\n",
    "        x = average_numbered_columns(x)\n",
    "        \n",
    "    x = x.loc[:,~x.columns.duplicated()].copy()\n",
    "    \n",
    "    one_hot = pd.get_dummies(x['GROWTH_STG'])\n",
    "    x= x.drop('GROWTH_STG',axis = 1)\n",
    "    # Join the encoded df\n",
    "    x = x.join(one_hot)\n",
    "\n",
    "    x.columns = x.columns.str.translate(\"\".maketrans({\"[\":\"{\", \"]\":\"}\",\"<\":\"^\"}))\n",
    "    \n",
    "    return x\n",
    "\n",
    "df_dry = to_pd(datasets['warm_temp_maize-soybean_dryland'], True, True)\n",
    "df_irr = to_pd(datasets['warm_temp_maize_soybean_irrigated'], True, True)\n",
    "df_cool = to_pd(datasets['cool_temp_maize_soybean'], True, True)\n",
    "\n",
    "# NEE = GPP - ER:\n",
    "#GPP = GROSS PRIMARY PRODUCTION (TOTAL C INTAKE) \n",
    "#ER = total C uptake =  ECO_RH + ECO_RA =  autotrophic + heterotrophic respiration \n",
    "#NPP = GPP + ECO_RA\n",
    "df_dry['NEE'] = df_dry['ECO_NPP'] - df_dry['ECO_RH']\n",
    "df_irr['NEE'] = df_irr['ECO_NPP'] - df_irr['ECO_RH']\n",
    "df_cool['NEE'] = df_cool['ECO_NPP'] - df_cool['ECO_RH']\n",
    "\n",
    "df= pd.concat([df_dry, df_irr, df_cool])\n",
    "y = df[target].copy()\n",
    "#y = df[target].copy()\n",
    "#df = df.drop(target, axis=1)"
   ]
  },
  {
   "cell_type": "code",
   "execution_count": null,
   "id": "8c4f8503-b91e-4f04-81b7-87c8918e924c",
   "metadata": {},
   "outputs": [],
   "source": [
    "xgbFeatImp = pd.read_csv('feature_analysis/xgboost/FeaturesImportance'  + target  + 'weather_soil_data' + '.csv')\n",
    "feat_cols = []\n",
    "for i in range(len(xgbFeatImp.values)):\n",
    "    feat_cols.append(xgbFeatImp.values[i][0])\n",
    "\n",
    "y = df[target].copy()\n",
    "x = df[feat_cols]"
   ]
  },
  {
   "cell_type": "code",
   "execution_count": null,
   "id": "09f6cb93-bff3-4e87-abdf-c475962eb678",
   "metadata": {},
   "outputs": [],
   "source": [
    "for entr in x.columns:\n",
    "    x[entr] = preprocessing.normalize([x[entr]])[0]\n",
    "y = pd.Series(preprocessing.normalize([y])[0], name='NEE')"
   ]
  },
  {
   "cell_type": "markdown",
   "id": "0aea6c7b-5729-4a16-9020-04abc9ec772d",
   "metadata": {},
   "source": [
    "### If Cuda available"
   ]
  },
  {
   "cell_type": "code",
   "execution_count": null,
   "id": "154c520e-f8d4-41c9-a205-2f0bdcb4653e",
   "metadata": {
    "tags": []
   },
   "outputs": [],
   "source": [
    "n_out=1\n",
    "#shuffled_b=torch.randperm(X.size()[1]) # be aware that random may be different every time\n",
    "\n",
    "##\n",
    "#if torch.cuda.is_available():\n",
    "#    device = torch.device(\"cuda\")\n",
    "#print(device)\n",
    "##X=X[:,shuffled_b,:].to(device)   #test unshuffled site\n",
    "##Y=Y[:,shuffled_b,:].to(device)\n",
    "#X=df.to(device)  \n",
    "#Y=y.to(device)\n",
    "#print(X.size(),n_f)\n",
    "\n",
    "train_n=70\n",
    "val_n=10\n",
    "test_n=19\n",
    "\n",
    "\n",
    "X_train=X[:,0:train_n*fln,:].view(Tx*tyear,train_n*fln,n_f)\n",
    "X_val=X[:,train_n*fln:(train_n+val_n)*fln,:].view(Tx*tyear,val_n*fln,n_f)\n",
    "X_test=X[:,(train_n+val_n)*fln:(train_n+val_n+test_n)*fln,:].view(Tx*tyear,test_n*fln,n_f)\n",
    "Y_train=Y[:,0:train_n*fln,:].view(Tx*tyear,train_n*fln,n_out)\n",
    "Y_val=Y[:,train_n*fln:(train_n+val_n)*fln,:].view(Tx*tyear,val_n*fln,n_out)\n",
    "Y_test=Y[:,(train_n+val_n)*fln:(train_n+val_n+test_n)*fln,:].view(Tx*tyear,test_n*fln,n_out)\n",
    "\n",
    "#loss weights setup\n",
    "loss_weights=[1.0,1.0,1.0,1.0,1.0,1.0,1.0,1.0,1.0,1.0]   \n",
    "print(X_train.size(), Y_train.size())"
   ]
  },
  {
   "cell_type": "code",
   "execution_count": 100,
   "id": "ae6d4057-0cb7-4647-be08-b2d5801b2839",
   "metadata": {
    "tags": []
   },
   "outputs": [],
   "source": [
    "df['DATE'] = ( (df.index) % 365 ) "
   ]
  },
  {
   "cell_type": "code",
   "execution_count": 101,
   "id": "ce0e4c6c-f223-47df-8bec-541d9940bc52",
   "metadata": {
    "tags": []
   },
   "outputs": [],
   "source": [
    "X_train, X_test, Y_train, Y_test = train_test_split(\n",
    "   df, y, test_size=0.15, random_state=41)\n",
    "\n",
    "X_train, X_val, Y_train, Y_val = train_test_split(\n",
    "    X_train, Y_train, test_size=0.15, random_state=1) #0.70 , 0.15 x 2"
   ]
  },
  {
   "cell_type": "code",
   "execution_count": 102,
   "id": "f85d9358-5c0e-4f4e-af4b-1df841fe9d7b",
   "metadata": {
    "tags": []
   },
   "outputs": [
    {
     "name": "stdout",
     "output_type": "stream",
     "text": [
      "Model's state_dict:\n",
      "KGML(\n",
      "  (gru): GRU(16, 64, num_layers=4, dropout=0.2)\n",
      "  (densor2): Linear(in_features=64, out_features=1, bias=True)\n",
      "  (drop): Dropout(p=0.2, inplace=False)\n",
      ")\n",
      "18\n",
      "torch.Size([192, 64])\n"
     ]
    }
   ],
   "source": [
    "compute_r2=R2Loss()\n",
    "n_a=64 #hidden state number\n",
    "n_l=4 #layer of lstm\n",
    "nout1=1\n",
    "nout2=1\n",
    "dropout=0.2\n",
    "path_save = 'kgml-results'\n",
    "os.makedirs(path_save, exist_ok=True)  \n",
    "model1=KGML(len(features) + 1,n_a,n_l,1,dropout)\n",
    "print(\"Model's state_dict:\")\n",
    "#model1.to(device)\n",
    "print(model1)\n",
    "params = list(model1.parameters())\n",
    "print(len(params))\n",
    "print(params[5].size())  # conv1's .weight"
   ]
  },
  {
   "cell_type": "code",
   "execution_count": 119,
   "id": "cc2f6712-273f-401c-8b2c-d5674c49d03f",
   "metadata": {
    "tags": []
   },
   "outputs": [
    {
     "ename": "NameError",
     "evalue": "name 'loss_val_best' is not defined",
     "output_type": "error",
     "traceback": [
      "\u001b[1;31m---------------------------------------------------------------------------\u001b[0m",
      "\u001b[1;31mNameError\u001b[0m                                 Traceback (most recent call last)",
      "Cell \u001b[1;32mIn[119], line 75\u001b[0m\n\u001b[0;32m     73\u001b[0m \u001b[38;5;66;03m#r2 only for n2o\u001b[39;00m\n\u001b[0;32m     74\u001b[0m val_R2\u001b[38;5;241m=\u001b[39mcompute_r2(Y_val_pred[:,:,\u001b[38;5;241m0\u001b[39m]\u001b[38;5;241m.\u001b[39mcontiguous()\u001b[38;5;241m.\u001b[39mview(\u001b[38;5;241m-\u001b[39m\u001b[38;5;241m1\u001b[39m),Y_val_torch[:,:,\u001b[38;5;241m0\u001b[39m]\u001b[38;5;241m.\u001b[39mcontiguous()\u001b[38;5;241m.\u001b[39mview(\u001b[38;5;241m-\u001b[39m\u001b[38;5;241m1\u001b[39m))\u001b[38;5;241m.\u001b[39mitem()\n\u001b[1;32m---> 75\u001b[0m \u001b[38;5;28;01mif\u001b[39;00m val_loss \u001b[38;5;241m<\u001b[39m \u001b[43mloss_val_best\u001b[49m \u001b[38;5;129;01mand\u001b[39;00m val_R2 \u001b[38;5;241m>\u001b[39m R2_best:\n\u001b[0;32m     76\u001b[0m     loss_val_best\u001b[38;5;241m=\u001b[39mval_loss\n\u001b[0;32m     77\u001b[0m     R2_best \u001b[38;5;241m=\u001b[39m val_R2\n",
      "\u001b[1;31mNameError\u001b[0m: name 'loss_val_best' is not defined"
     ]
    }
   ],
   "source": [
    "starttime=time.time()\n",
    "loss_weights=[1.0,1.0,1.0,1.0,1.0,1.0,1.0,1.0,1.0,1.0] \n",
    "fln=15 #20 for full 0-300, 15 for 80-240\n",
    "lr=0.1 #sgd\n",
    "loss_val_best = 500000\n",
    "lr_adam=0.0001\n",
    "optimizer = optim.Adam(model1.parameters(), lr=lr_adam) #add weight decay normally 1-9e-4\n",
    "scheduler = optim.lr_scheduler.StepLR(optimizer, step_size=600, gamma=0.5)\n",
    "batch_total=X_train.shape[0]\n",
    "batch_size=211  # this is the batch size for training\n",
    "#during validation\n",
    "train_losses = []\n",
    "val_losses = []\n",
    "\n",
    "\n",
    "batches = int(batch_total/batch_size)\n",
    "\n",
    "#turn pd df to pytorch tensors\n",
    "X_train_torch = torch.tensor(X_train.values)\n",
    "Y_train_torch = torch.tensor(Y_train.values)\n",
    "X_train_torch = X_train_torch.view(batches, batch_size, 16)\n",
    "Y_train_torch = Y_train_torch.view(batches, batch_size, 1)\n",
    "\n",
    "X_val_torch = torch.tensor(X_val.values)\n",
    "Y_val_torch = torch.tensor(Y_val.values)\n",
    "\n",
    "X_val_torch = X_val_torch.view(1, X_val_torch.size(0), X_val_torch.size(1))\n",
    "Y_val_torch = Y_val_torch.view(Y_val_torch.size(0), 1, 1)\n",
    "\n",
    "epoch=3000\n",
    "model1.train()\n",
    "for epoch in range(maxepoch):\n",
    "    train_loss=0.0\n",
    "    val_loss=0.0\n",
    "    model1.zero_grad()\n",
    "    \n",
    "    \n",
    "    Y_pred_all= torch.zeros(Y_train_torch.shape)\n",
    "    \n",
    "    for bb in range(int(batch_total/batch_size)):\n",
    "        \n",
    "        hidden = model1.init_hidden(batch_size)\n",
    "        \n",
    "        hidden = hidden.float()\n",
    "    \n",
    "        Y_pred,hidden = model1(X_train_torch[bb:bb+1, :].float(),\\\n",
    "                                hidden)\n",
    "        \n",
    "        loss = myloss_mul_sum(Y_pred, Y_train_torch[bb:(bb+1),:],\\\n",
    "                                 loss_weights)\n",
    "        for nh in range(len(hidden[0])):\n",
    "            hidden[0][nh].detach()\n",
    "        hidden[1].detach()\n",
    "        loss.backward()\n",
    "        optimizer.step()\n",
    "        with torch.no_grad():\n",
    "            train_loss=train_loss+loss.item()\n",
    "            Y_pred_all[bb:(bb+1),:]=Y_pred[:,:]\n",
    "    scheduler.step()\n",
    "    \n",
    "    #validation\n",
    "    model1.eval()\n",
    "    with torch.no_grad():\n",
    "        train_loss=train_loss/(batch_total/batch_size)\n",
    "        train_losses.append(train_loss)\n",
    "        train_R2=compute_r2(Y_pred_all[:,0].contiguous().view(-1),Y_train_torch[:,0].contiguous().view(-1)).item()\n",
    "        Y_val_pred=torch.zeros(Y_train_torch.size())\n",
    "        \n",
    "        hidden = model1.init_hidden(X_val_torch.size(1))   \n",
    "        Y_val_pred, hidden = model1(X_val_torch.float(), hidden)\n",
    "        loss = myloss_mul_sum(Y_val_pred, Y_val_torch, loss_weights)\n",
    "        val_loss=loss.item()\n",
    "        val_losses.append(val_loss)\n",
    "        #r2 only for n2o\n",
    "        val_R2=compute_r2(Y_val_pred[:,:,0].contiguous().view(-1),Y_val_torch[:,:,0].contiguous().view(-1)).item()\n",
    "        if val_loss < loss_val_best and val_R2 > R2_best:\n",
    "            loss_val_best=val_loss\n",
    "            R2_best = val_R2\n",
    "            f0=open(path_save,'w')\n",
    "            f0.close()\n",
    "            #os.remove(path_save)\n",
    "            torch.save({'epoch': epoch,\n",
    "                    'model_state_dict': model1.state_dict(),\n",
    "                    'R2': train_R2,\n",
    "                    'loss': train_loss,\n",
    "                    'los_val': val_loss,\n",
    "                    'R2_val': val_R2,\n",
    "                    }, path_save)    \n",
    "        print(\"finished training epoch\", epoch+1)\n",
    "    mtime=time.time()\n",
    "    print(\"train_loss: \", train_loss, \"train_R2\", train_R2)\n",
    "\n",
    "    if train_R2 > 0.99:\n",
    "        break\n",
    "    model1.train()\n",
    "endtime=time.time()\n",
    "path_fs = path_save+'fs'\n",
    "torch.save({'train_losses': train_losses,\n",
    "            'val_losses': val_losses,\n",
    "            'model_state_dict_fs': model1.state_dict(),\n",
    "            }, path_fs)  \n",
    "print(\"final train_loss:\",train_loss,\"final train_R2:\",train_R2,\"val_loss:\",val_loss,\"loss validation best:\",)\n",
    "print(f\"total Training time: {endtime - starttime}s\")"
   ]
  },
  {
   "cell_type": "code",
   "execution_count": 198,
   "id": "eab25537-75be-4858-8238-bd92e0fc046b",
   "metadata": {
    "tags": []
   },
   "outputs": [
    {
     "name": "stdout",
     "output_type": "stream",
     "text": [
      "(500,)\n",
      "x traintorch.Size([500, 15])\n",
      "(500,)\n",
      "x traintorch.Size([500, 15])\n",
      "(500,)\n",
      "x traintorch.Size([500, 15])\n",
      "(500,)\n",
      "x traintorch.Size([500, 15])\n",
      "(500,)\n",
      "x traintorch.Size([500, 15])\n",
      "(500,)\n",
      "x traintorch.Size([500, 15])\n"
     ]
    }
   ],
   "source": [
    "for bb in range(int(batch_total/batch_size)):\n",
    "    print(Y_train[bb*batch_size:(bb+1)*batch_size].shape)\n",
    "    print(\"x train\" + str(train_torch[bb*batch_size:(bb+1)*batch_size, :].shape))"
   ]
  },
  {
   "cell_type": "code",
   "execution_count": 161,
   "id": "fbdc9c2f-2298-4ae9-a6f2-d2a8bc155103",
   "metadata": {
    "tags": []
   },
   "outputs": [
    {
     "data": {
      "text/plain": [
       "Series([], Name: NEE, dtype: float64)"
      ]
     },
     "execution_count": 161,
     "metadata": {},
     "output_type": "execute_result"
    }
   ],
   "source": [
    "Y_train[0:bb*batch_size:(bb+1)*batch_size]"
   ]
  },
  {
   "cell_type": "code",
   "execution_count": 154,
   "id": "dc696371-75be-4ff4-8b98-672be72bfc06",
   "metadata": {
    "tags": []
   },
   "outputs": [],
   "source": [
    "out_names = ['a','b','c']"
   ]
  },
  {
   "cell_type": "code",
   "execution_count": 156,
   "id": "54903529-7f2b-4760-8013-d4c5ae994f0a",
   "metadata": {
    "tags": []
   },
   "outputs": [
    {
     "data": {
      "text/plain": [
       "1"
      ]
     },
     "execution_count": 156,
     "metadata": {},
     "output_type": "execute_result"
    }
   ],
   "source": [
    "out_names.index('b')"
   ]
  },
  {
   "cell_type": "code",
   "execution_count": null,
   "id": "69387ad7-8668-458f-ab29-2a2ae0fbdd95",
   "metadata": {},
   "outputs": [],
   "source": []
  }
 ],
 "metadata": {
  "kernelspec": {
   "display_name": "Python 3 (ipykernel)",
   "language": "python",
   "name": "python3"
  },
  "language_info": {
   "codemirror_mode": {
    "name": "ipython",
    "version": 3
   },
   "file_extension": ".py",
   "mimetype": "text/x-python",
   "name": "python",
   "nbconvert_exporter": "python",
   "pygments_lexer": "ipython3",
   "version": "3.9.16"
  }
 },
 "nbformat": 4,
 "nbformat_minor": 5
}
