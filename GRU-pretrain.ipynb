{
 "cells": [
  {
   "cell_type": "code",
   "execution_count": 1,
   "id": "8a1d20b1-fee7-478f-a15e-a3457668563e",
   "metadata": {
    "tags": []
   },
   "outputs": [],
   "source": [
    "import torch.nn as nn\n",
    "import pandas as pd\n",
    "from sklearn.model_selection import train_test_split\n",
    "from sklearn.metrics import r2_score as R2\n",
    "from sklearn.metrics import mean_squared_error as MSE\n",
    "from sklearn import preprocessing\n",
    "from sklearn.multioutput import MultiOutputRegressor\n",
    "import numpy as np\n",
    "import torch\n",
    "import matplotlib.pyplot as plt\n",
    "import os\n",
    "import time\n",
    "import torch.optim as optim\n",
    "import torch.nn.functional as F\n",
    "from functools import reduce\n",
    "\n",
    "\n",
    "import warnings\n",
    "warnings.filterwarnings('ignore')"
   ]
  },
  {
   "cell_type": "markdown",
   "id": "6d201058-0694-4f84-a28a-473e0a45f026",
   "metadata": {
    "tags": []
   },
   "source": [
    "### Knowledge guided machine learning implementation using gated recurrent units\n",
    "### Inspired from https://gmd.copernicus.org/articles/15/2839/2022"
   ]
  },
  {
   "cell_type": "code",
   "execution_count": 2,
   "id": "6a4ebd55-ff64-4041-ac30-48515bdc5406",
   "metadata": {
    "tags": []
   },
   "outputs": [],
   "source": [
    "class KGML(nn.Module):\n",
    "    def __init__(self, ninp, nhid, nlayers, nout, dropout):\n",
    "        super(KGML, self).__init__()\n",
    "        if nlayers > 1:\n",
    "            self.gru = nn.GRU(ninp, nhid,nlayers,dropout=dropout)\n",
    "        else:\n",
    "            self.gru = nn.GRU(ninp, nhid,nlayers)\n",
    "        #self.densor1 = nn.ReLU() #can test other function\n",
    "        self.densor2 = nn.Linear(nhid, nout)\n",
    "        self.nhid = nhid\n",
    "        self.nlayers = nlayers\n",
    "        self.drop=nn.Dropout(dropout)\n",
    "        self.init_weights()\n",
    "\n",
    "    def init_weights(self):\n",
    "        initrange = 0.1 #may change to a small value\n",
    "        self.densor2.bias.data.zero_()\n",
    "        self.densor2.weight.data.uniform_(-initrange, initrange)\n",
    "\n",
    "    def forward(self, inputs, hidden):\n",
    "        output, hidden = self.gru(inputs, hidden)\n",
    "        #output = self.densor1(self.drop(output))\n",
    "        #output = torch.exp(self.densor2(self.drop(output))) # add exp\n",
    "        output = self.densor2(self.drop(output)) # add exp\n",
    "        return output, hidden\n",
    "\n",
    "#bsz should be batch size\n",
    "    def init_hidden(self, bsz):\n",
    "        weight = next(self.parameters())\n",
    "        weight = weight.float()\n",
    "        return weight.new_zeros(self.nlayers, bsz, self.nhid)\n",
    "    \n",
    "def get_ini(x,ind,nout):\n",
    "    initials=[]\n",
    "    for i in range(len(ind)):\n",
    "        initials.append(x[:,:,ind[i]].view(x.size(0),x.size(1),nout[i]))\n",
    "    return initials\n",
    "\n",
    "def myloss_mul_sum(output, target,loss_weights):\n",
    "    loss = 0.0\n",
    "    nout=output.size(2)\n",
    "    for i in range(nout):\n",
    "        loss = loss + loss_weights[i]*torch.mean((output[:,:,i] - target[:,:,i])**2)\n",
    "    return loss\n",
    "\n",
    "def Z_norm(X):\n",
    "    X_mean=X.mean()\n",
    "    X_std=np.std(np.array(X))\n",
    "    return (X-X_mean)/X_std, X_mean, X_std\n",
    "\n",
    "class R2Loss(nn.Module):\n",
    "    #calculate coefficient of determination\n",
    "    def forward(self, y_pred, y):\n",
    "        var_y = torch.var(y, unbiased=False)\n",
    "        return 1.0 - F.mse_loss(y_pred, y, reduction=\"mean\") / var_y"
   ]
  },
  {
   "cell_type": "code",
   "execution_count": 3,
   "id": "ece63282-72ea-44e7-91e6-90e512c228a2",
   "metadata": {
    "tags": []
   },
   "outputs": [],
   "source": [
    "target = 'NEE'\n",
    "\n",
    "model = ['rcef_RandomForestRegressor', 'rcef_RidgeCV', 'rcef_XGBRegressor', 'xgboost'] \n",
    "\n",
    "extracted_features = model[-1]"
   ]
  },
  {
   "cell_type": "code",
   "execution_count": 4,
   "id": "aae4ff14-8e7a-4d73-89cc-309f31a46f35",
   "metadata": {
    "tags": []
   },
   "outputs": [],
   "source": [
    "# loads all data sets into a dict\n",
    "def load_datasets(dirs: list, load_path: str) -> dict:\n",
    "    files = ['soil_c','surf_water','flux_soc','soil_water','n_flux','p_flux','temp', \n",
    "         'plant_c','plant_n','plant_p','canopcy_c','plant_stress','photosynthesis','plant_growth']\n",
    "    \n",
    "    #files.append('soil_temp', 'canopy_temp') missing \n",
    "    datasets = {}\n",
    "    \n",
    "    for dr in dirs:\n",
    "        csv_list = []\n",
    "        path = 'datasets/' + dr + load_path\n",
    "        for f in files:\n",
    "            df = pd.read_csv(os.path.join(path,f + '.csv'))\n",
    "            df.drop(df.columns[0], axis=1)\n",
    "\n",
    "            csv_list.append(df)\n",
    "\n",
    "\n",
    "        data_dict = {}\n",
    "        for i in range (len(csv_list)):\n",
    "            data_dict[files[i]] = csv_list[i]\n",
    "\n",
    "        datasets[dr] = data_dict\n",
    "\n",
    "    return datasets\n",
    "\n",
    "dirs = ['warm_temp_maize_soybean_irrigated', 'warm_temp_maize-soybean_dryland', 'cool_temp_maize_soybean']\n",
    "\n",
    "datasets = load_datasets(dirs, '/csv_outs/with_plant_soil_details/')"
   ]
  },
  {
   "cell_type": "code",
   "execution_count": 5,
   "id": "544e747f-4f97-41ff-a463-dba1fdadc234",
   "metadata": {
    "tags": []
   },
   "outputs": [],
   "source": [
    "def rename_dupes(suffix: str, df: pd.DataFrame, dupes: list) -> pd.DataFrame:\n",
    "    for col in df.columns:\n",
    "        if col in dupes:\n",
    "            df.rename(columns={col: col + suffix}, inplace=True)\n",
    "    return df\n",
    "\n",
    "def average_numbered_columns(df):\n",
    "    numbered_cols = [col for col in df.columns if '_' in col and col.split('_')[-1].isdigit()]\n",
    "\n",
    "    col_groups = {}\n",
    "    for col in numbered_cols:\n",
    "        prefix = '_'.join(col.split('_')[:-1])\n",
    "        if prefix not in col_groups:\n",
    "            col_groups[prefix] = []\n",
    "        col_groups[prefix].append(col)\n",
    "\n",
    "    # calculate averages and add new columns\n",
    "    for prefix, cols in col_groups.items():\n",
    "        avg_col_name = prefix\n",
    "        avg_col_values = df[cols].mean(axis=1)\n",
    "        df[avg_col_name] = avg_col_values\n",
    "\n",
    "    # drop numbered columns\n",
    "    df = df.drop(columns=numbered_cols)\n",
    "\n",
    "    return df\n",
    "\n",
    "def nee_cumulative_to_daily(df: pd.DataFrame) -> pd.DataFrame:\n",
    "    df['DOY'] = df['DOY'].astype(int)\n",
    "\n",
    "    # Divide only rows with DOY > 0\n",
    "    df['ECO_NPP'] = df.apply(lambda row: row['ECO_NPP']/row['DOY'] if row['DOY'] != 0 else row['ECO_NPP'], axis=1)\n",
    "    df['ECO_RH'] = df.apply(lambda row: row['ECO_RH']/row['DOY'] if row['DOY'] != 0 else row['ECO_RH'], axis=1)\n",
    "\n",
    "    df['NEE'] = df['ECO_NPP'] - df['ECO_RH']\n",
    "    \n",
    "    return df\n",
    "\n",
    "# turn all csv's to one dataframe\n",
    "def to_pd(df: dict, handle_dupes: bool, flatten_num_cols: bool) -> pd.DataFrame:\n",
    "    x = pd.DataFrame()\n",
    "    for file_name in df:\n",
    "        cur = df[file_name]\n",
    "            \n",
    "        x = pd.concat([x, df[file_name]], axis = 1)\n",
    "        \n",
    "    cheeky_col = 'unnamed.1'\n",
    "    cheeky_col2 = 'Unnamed: 0'\n",
    "    if cheeky_col in x.columns:\n",
    "        x = x.drop([cheeky_col], axis=1)\n",
    "    elif cheeky_col2 in x.columns:\n",
    "         x = x.drop([cheeky_col2], axis=1)\n",
    "    x = x.drop(['DATE'], axis=1)\n",
    "\n",
    "    if flatten_num_cols:\n",
    "        x = average_numbered_columns(x)\n",
    "        \n",
    "    x = x.loc[:,~x.columns.duplicated()].copy()\n",
    "    \n",
    "    one_hot = pd.get_dummies(x['GROWTH_STG'])\n",
    "    x= x.drop('GROWTH_STG',axis = 1)\n",
    "    # Join the encoded df\n",
    "    x = x.join(one_hot)\n",
    "\n",
    "    x.columns = x.columns.str.translate(\"\".maketrans({\"[\":\"{\", \"]\":\"}\",\"<\":\"^\"}))\n",
    "    \n",
    "    return x\n",
    "\n",
    "df_dry = nee_cumulative_to_daily(to_pd(datasets['warm_temp_maize-soybean_dryland'], True, True))\n",
    "df_irr = nee_cumulative_to_daily(to_pd(datasets['warm_temp_maize_soybean_irrigated'], True, True))\n",
    "df_cool = nee_cumulative_to_daily(to_pd(datasets['cool_temp_maize_soybean'], True, True))\n",
    "\n",
    "df = pd.concat([df_dry,df_irr, df_cool])\n",
    "\n",
    "df['WIND'] = df['WIND'] / 100\n",
    "\n",
    "y = df[target].copy()\n",
    "\n",
    "#y = df[target].copy()\n",
    "#df = df.drop(target, axis=1)"
   ]
  },
  {
   "cell_type": "code",
   "execution_count": 6,
   "id": "8c4f8503-b91e-4f04-81b7-87c8918e924c",
   "metadata": {
    "tags": []
   },
   "outputs": [],
   "source": [
    "xgbFeatImp = pd.read_csv('feature_analysis/xgboost/FeaturesImportance'  + target  + 'weather_soil_data' + '.csv')\n",
    "feat_cols = []\n",
    "for i in range(len(xgbFeatImp.values)):\n",
    "    feat_cols.append(xgbFeatImp.values[i][0])\n",
    "\n",
    "y = df[target].copy()\n",
    "x = df[feat_cols]\n",
    "x['WIND'] = x['WIND'] / 100"
   ]
  },
  {
   "cell_type": "code",
   "execution_count": 7,
   "id": "09f6cb93-bff3-4e87-abdf-c475962eb678",
   "metadata": {
    "tags": []
   },
   "outputs": [],
   "source": [
    "for entr in x.columns:\n",
    "    x[entr] = preprocessing.normalize([x[entr]])[0]\n",
    "y = pd.Series(preprocessing.normalize([y])[0], name='NEE')"
   ]
  },
  {
   "cell_type": "markdown",
   "id": "0aea6c7b-5729-4a16-9020-04abc9ec772d",
   "metadata": {},
   "source": [
    "### If Cuda available"
   ]
  },
  {
   "cell_type": "code",
   "execution_count": null,
   "id": "154c520e-f8d4-41c9-a205-2f0bdcb4653e",
   "metadata": {
    "tags": []
   },
   "outputs": [],
   "source": [
    "n_out=1\n",
    "#shuffled_b=torch.randperm(X.size()[1]) # be aware that random may be different every time\n",
    "\n",
    "##\n",
    "#if torch.cuda.is_available():\n",
    "#    device = torch.device(\"cuda\")\n",
    "#print(device)\n",
    "##X=X[:,shuffled_b,:].to(device)   #test unshuffled site\n",
    "##Y=Y[:,shuffled_b,:].to(device)\n",
    "#X=df.to(device)  \n",
    "#Y=y.to(device)\n",
    "#print(X.size(),n_f)\n",
    "\n",
    "train_n=70\n",
    "val_n=10\n",
    "test_n=19\n",
    "\n",
    "\n",
    "X_train=X[:,0:train_n*fln,:].view(Tx*tyear,train_n*fln,n_f)\n",
    "X_val=X[:,train_n*fln:(train_n+val_n)*fln,:].view(Tx*tyear,val_n*fln,n_f)\n",
    "X_test=X[:,(train_n+val_n)*fln:(train_n+val_n+test_n)*fln,:].view(Tx*tyear,test_n*fln,n_f)\n",
    "Y_train=Y[:,0:train_n*fln,:].view(Tx*tyear,train_n*fln,n_out)\n",
    "Y_val=Y[:,train_n*fln:(train_n+val_n)*fln,:].view(Tx*tyear,val_n*fln,n_out)\n",
    "Y_test=Y[:,(train_n+val_n)*fln:(train_n+val_n+test_n)*fln,:].view(Tx*tyear,test_n*fln,n_out)\n",
    "\n",
    "#loss weights setup\n",
    "loss_weights=[1.0,1.0,1.0,1.0,1.0,1.0,1.0,1.0,1.0,1.0]   \n",
    "print(X_train.size(), Y_train.size())"
   ]
  },
  {
   "cell_type": "markdown",
   "id": "ad589a15-91bd-4825-b6b1-c9f6803e5c9d",
   "metadata": {},
   "source": [
    "# 0.70 train , 0.15 val , 0.25 test"
   ]
  },
  {
   "cell_type": "code",
   "execution_count": 8,
   "id": "ce0e4c6c-f223-47df-8bec-541d9940bc52",
   "metadata": {
    "tags": []
   },
   "outputs": [],
   "source": [
    "X_train, X_test, Y_train, Y_test = train_test_split(\n",
    "   x, y, test_size=0.25, random_state=41)\n",
    "\n",
    "X_train, X_val, Y_train, Y_val = train_test_split(\n",
    "    X_train, Y_train, test_size=0.15, random_state=41) #0.70 , 0.15 x 2"
   ]
  },
  {
   "cell_type": "code",
   "execution_count": 11,
   "id": "f85d9358-5c0e-4f4e-af4b-1df841fe9d7b",
   "metadata": {
    "tags": []
   },
   "outputs": [
    {
     "name": "stdout",
     "output_type": "stream",
     "text": [
      "Model's state_dict:\n",
      "KGML(\n",
      "  (gru): GRU(11, 64, num_layers=4, dropout=0.2)\n",
      "  (densor2): Linear(in_features=64, out_features=1, bias=True)\n",
      "  (drop): Dropout(p=0.2, inplace=False)\n",
      ")\n",
      "18\n",
      "torch.Size([192, 64])\n"
     ]
    }
   ],
   "source": [
    "compute_r2=R2Loss()\n",
    "n_a=64 #hidden state number\n",
    "n_l=4 #layer of lstm\n",
    "nout1=1\n",
    "nout2=1\n",
    "dropout=0.2\n",
    "path_save = 'kgml-results'\n",
    "save_file = '/gru'\n",
    "mds_file = '/stats'\n",
    "os.makedirs(path_save, exist_ok=True)  \n",
    "model1=KGML(len(feat_cols),n_a,n_l,1,dropout)\n",
    "print(\"Model's state_dict:\")\n",
    "#model1.to(device)\n",
    "print(model1)\n",
    "params = list(model1.parameters())\n",
    "print(len(params))\n",
    "print(params[5].size())  # conv1's .weight\n",
    "model_save = path_save + save_file\n",
    "stats_save = path_save + mds_file"
   ]
  },
  {
   "cell_type": "code",
   "execution_count": null,
   "id": "cc2f6712-273f-401c-8b2c-d5674c49d03f",
   "metadata": {
    "tags": []
   },
   "outputs": [],
   "source": [
    "starttime=time.time()\n",
    "loss_weights=[1.0,1.0,1.0,1.0,1.0,1.0,1.0,1.0,1.0,1.0] \n",
    "fln=15 #20 for full 0-300, 15 for 80-240\n",
    "lr=0.1 #sgd\n",
    "loss_val_best = 500000\n",
    "lr_adam=0.0001\n",
    "optimizer = optim.Adam(model1.parameters(), lr=lr_adam) #add weight decay normally 1-9e-4\n",
    "scheduler = optim.lr_scheduler.StepLR(optimizer, step_size=600, gamma=0.5)\n",
    "batch_total=X_train.shape[0]\n",
    "batch_size=151  # this is the batch size for training\n",
    "#during validation\n",
    "train_losses = []\n",
    "val_losses = []\n",
    "R2_best=-2\n",
    "\n",
    "\n",
    "batches = int(batch_total/batch_size)\n",
    "\n",
    "#turn pd df to pytorch tensors\n",
    "X_train_torch = torch.tensor(X_train.values)\n",
    "Y_train_torch = torch.tensor(Y_train.values)\n",
    "X_train_torch = X_train_torch.view(batches, batch_size, 11)\n",
    "Y_train_torch = Y_train_torch.view(batches, batch_size, 1)\n",
    "\n",
    "X_val_torch = torch.tensor(X_val.values)\n",
    "Y_val_torch = torch.tensor(Y_val.values)\n",
    "\n",
    "X_val_torch = X_val_torch.view(1, X_val_torch.size(0), X_val_torch.size(1))\n",
    "Y_val_torch = Y_val_torch.view(Y_val_torch.size(0), 1, 1)\n",
    "\n",
    "maxepoch=3000\n",
    "model1.train()\n",
    "for epoch in range(maxepoch):\n",
    "    train_loss=0.0\n",
    "    val_loss=0.0\n",
    "    model1.zero_grad()\n",
    "    \n",
    "    \n",
    "    Y_pred_all= torch.zeros(Y_train_torch.shape)\n",
    "    \n",
    "    for bb in range(int(batch_total/batch_size)):\n",
    "        \n",
    "        hidden = model1.init_hidden(batch_size)\n",
    "        \n",
    "        hidden = hidden.float()\n",
    "    \n",
    "        Y_pred,hidden = model1(X_train_torch[bb:bb+1, :].float(),\\\n",
    "                                hidden)\n",
    "        \n",
    "        loss = myloss_mul_sum(Y_pred, Y_train_torch[bb:(bb+1),:],\\\n",
    "                                 loss_weights)\n",
    "        for nh in range(len(hidden[0])):\n",
    "            hidden[0][nh].detach()\n",
    "        hidden[1].detach()\n",
    "        loss.backward()\n",
    "        optimizer.step()\n",
    "        with torch.no_grad():\n",
    "            train_loss=train_loss+loss.item()\n",
    "            Y_pred_all[bb:(bb+1),:]=Y_pred[:,:]\n",
    "    scheduler.step()\n",
    "    \n",
    "    #validation\n",
    "    model1.eval()\n",
    "    with torch.no_grad():\n",
    "        train_loss=train_loss/(batch_total/batch_size)\n",
    "        train_losses.append(train_loss)\n",
    "        train_R2=compute_r2(Y_pred_all[:,0].contiguous().view(-1),Y_train_torch[:,0].contiguous().view(-1)).item()\n",
    "        Y_val_pred=torch.zeros(Y_train_torch.size())\n",
    "        \n",
    "        hidden = model1.init_hidden(X_val_torch.size(1))   \n",
    "        Y_val_pred, hidden = model1(X_val_torch.float(), hidden)\n",
    "        loss = myloss_mul_sum(Y_val_pred, Y_val_torch, loss_weights)\n",
    "        val_loss=loss.item()\n",
    "        val_losses.append(val_loss)\n",
    "        #r2 only for n2o\n",
    "        val_R2=compute_r2(Y_val_pred[:,:,0].contiguous().view(-1),Y_val_torch[:,:,0].contiguous().view(-1)).item()\n",
    "        if val_loss < loss_val_best and val_R2 > R2_best:\n",
    "            loss_val_best=val_loss\n",
    "            R2_best = val_R2\n",
    "            \n",
    "            f0=open(model_save,'w')\n",
    "            f0.close()\n",
    "            #os.remove(path_save)\n",
    "            torch.save({'epoch': epoch,\n",
    "                    'model_state_dict': model1.state_dict(),\n",
    "                    'R2': train_R2,\n",
    "                    'loss': train_loss,\n",
    "                    'los_val': val_loss,\n",
    "                    'R2_val': val_R2,\n",
    "                    }, model_save)    \n",
    "        print(\"finished training epoch\", epoch+1)\n",
    "    mtime=time.time()\n",
    "    print(\"train_loss: \", train_loss, \"train_R2\", train_R2)\n",
    "\n",
    "    if train_R2 > 0.99:\n",
    "        break\n",
    "    model1.train()\n",
    "endtime=time.time()\n",
    "torch.save({'train_losses': train_losses,\n",
    "            'val_losses': val_losses,\n",
    "            'model_state_dict_fs': model1.state_dict(),\n",
    "            }, stats_save)  \n",
    "print(\"final train_loss:\",train_loss,\"final train_R2:\",train_R2,\"val_loss:\",val_loss,\"loss validation best:\",loss_val_best)\n",
    "print(f\"total Training time: {endtime - starttime}s\")"
   ]
  },
  {
   "cell_type": "code",
   "execution_count": 70,
   "id": "be08f3c6-2c3b-43c4-912b-bfc1199437c7",
   "metadata": {
    "tags": []
   },
   "outputs": [
    {
     "data": {
      "text/plain": [
       "<matplotlib.legend.Legend at 0x7f9c10d0f100>"
      ]
     },
     "execution_count": 70,
     "metadata": {},
     "output_type": "execute_result"
    },
    {
     "data": {
      "image/png": "[encoded data removed]",
      "text/plain": [
       "<Figure size 640x480 with 1 Axes>"
      ]
     },
     "metadata": {},
     "output_type": "display_data"
    }
   ],
   "source": [
    "checkpoint=torch.load(stats_save)\n",
    "train_losses=checkpoint['train_losses']\n",
    "val_losses=checkpoint['val_losses']\n",
    "plt.rcParams.update({'font.size': 20})\n",
    "plt.rcParams['xtick.labelsize']=20\n",
    "plt.rcParams['ytick.labelsize']=20\n",
    "fig= plt.plot(figsize=(6, 10)) \n",
    "train_line, = plt.plot(train_losses, label=\"Training loss\") \n",
    "val_line, = plt.plot(val_losses, label=\"Validation loss\")\n",
    "plt.title(\"GRU pre-training on simulated data\")\n",
    "plt.text(0.35, 0.5, \"Final R2 = %0.2f\\n Final RMSE = %0.8f\" % (train_R2, train_loss), ha=\"left\", va=\"bottom\", color=train_line.get_color(), fontsize=16, transform=plt.gca().transAxes, bbox=dict(facecolor='white', alpha=0.5))\n",
    "plt.text(0.35, 0.4, \"Final R2 = %0.2f\\n Final RMSE = %0.8f\" % (val_R2, val_loss), ha=\"left\", va=\"top\", color=val_line.get_color(), fontsize=16, transform=plt.gca().transAxes, bbox=dict(facecolor='white', alpha=0.5))\n",
    "plt.ylabel(\"RMSE\")\n",
    "plt.xlabel(\"Epoch\")\n",
    "plt.legend()"
   ]
  }
 ],
 "metadata": {
  "kernelspec": {
   "display_name": "Python 3 (ipykernel)",
   "language": "python",
   "name": "python3"
  },
  "language_info": {
   "codemirror_mode": {
    "name": "ipython",
    "version": 3
   },
   "file_extension": ".py",
   "mimetype": "text/x-python",
   "name": "python",
   "nbconvert_exporter": "python",
   "pygments_lexer": "ipython3",
   "version": "3.9.16"
  }
 },
 "nbformat": 4,
 "nbformat_minor": 5
}
