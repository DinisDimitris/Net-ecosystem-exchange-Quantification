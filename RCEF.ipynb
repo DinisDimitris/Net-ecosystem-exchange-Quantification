{
 "cells": [
  {
   "cell_type": "code",
   "execution_count": 11,
   "id": "bfa61b70-a853-4b91-8a7a-3eaca7cd4b0b",
   "metadata": {
    "tags": []
   },
   "outputs": [],
   "source": [
    "import pandas as pd\n",
    "import matplotlib.pyplot as plt\n",
    "from sklearn.feature_selection import RFECV\n",
    "from sklearn.model_selection import RepeatedKFold\n",
    "from sklearn.linear_model import RidgeCV\n",
    "from sklearn.ensemble import RandomForestRegressor\n",
    "from sklearn.model_selection import RandomizedSearchCV, GridSearchCV\n",
    "import xgboost as xg\n",
    "from sklearn.metrics import mean_squared_error as MSE\n",
    "from sklearn.metrics import r2_score as R2\n",
    "from sklearn.model_selection import train_test_split\n",
    "import numpy as np\n",
    "from xgboost import cv\n",
    "import os\n",
    "import warnings\n",
    "warnings.filterwarnings('ignore')\n",
    "\n",
    "from data_loader import load_datasets, nee_cumulative_to_daily, to_pd"
   ]
  },
  {
   "cell_type": "markdown",
   "id": "37cae7f4-dde7-4e05-9729-06ed3ce906fd",
   "metadata": {
    "tags": []
   },
   "source": [
    "### A Recursive Feature Elimination (RFE) model with automatic tuning of the number of features selected with cross-validation."
   ]
  },
  {
   "cell_type": "code",
   "execution_count": 2,
   "id": "0a7ce965-eeae-40db-a467-2bd0aa2158ab",
   "metadata": {
    "tags": []
   },
   "outputs": [],
   "source": [
    "target = 'NEE'"
   ]
  },
  {
   "cell_type": "code",
   "execution_count": 3,
   "id": "0f1f11bb-fe23-44b9-8458-99dcefdec845",
   "metadata": {
    "tags": []
   },
   "outputs": [],
   "source": [
    "dirs = ['warm_temp_maize_soybean_irrigated', 'warm_temp_maize-soybean_dryland', 'cool_temp_maize_soybean']\n",
    "\n",
    "datasets = load_datasets(dirs, '/csv_outs/with_plant_soil_details/')\n",
    "observed_df = pd.read_csv('datasets/extractedNEE_CUT_REF_NIGHT_Final'  + '.csv')\n",
    "\n",
    "df_dry = nee_cumulative_to_daily(to_pd(datasets['warm_temp_maize-soybean_dryland'], True, True))\n",
    "df_irr = nee_cumulative_to_daily(to_pd(datasets['warm_temp_maize_soybean_irrigated'], True, True))\n",
    "df_cool = nee_cumulative_to_daily(to_pd(datasets['cool_temp_maize_soybean'], True, True))\n",
    "\n",
    "df = pd.concat([df_dry,df_irr, df_cool])\n",
    "\n",
    "y = df[target].copy()\n",
    "\n",
    "soil_prfl_vars = [\n",
    "  \"initial bulk density (Mg m-3,0=water) \",\n",
    "  \"sand contents (kg Mg-1)\",\n",
    "  \"silt contents (kg Mg-1)\",\n",
    "  \"rock fraction\" ,\n",
    "  \"ph\",\n",
    "  \"SOC (kg Mg-1)\" ]\n",
    "\n",
    "planting =  ['planting date', 'initial planting density (m-2)', 'seeding depth (m)']\n",
    "observed_df = observed_df.reset_index()\n",
    "planting_df = pd.DataFrame()\n",
    "for plt in planting:\n",
    "    filter_col = [col for col in df if plt in col]\n",
    "    planting_df[filter_col] = df[filter_col] \n",
    "\n",
    "    \n",
    "plant_soil_df = pd.concat( [planting_df, df[soil_prfl_vars]], axis = 1 )\n",
    "weather_forcings = observed_df.columns.drop(['index', 'Unnamed: 0'])\n",
    "\n",
    "df_final = pd.concat([df[weather_forcings], plant_soil_df], axis=1)"
   ]
  },
  {
   "cell_type": "code",
   "execution_count": 24,
   "id": "2436f563-040c-424b-8e04-e09ab2f5895e",
   "metadata": {
    "tags": []
   },
   "outputs": [
    {
     "data": {
      "text/plain": [
       "(8766, 36)"
      ]
     },
     "execution_count": 24,
     "metadata": {},
     "output_type": "execute_result"
    }
   ],
   "source": [
    "df_final.shape"
   ]
  },
  {
   "cell_type": "code",
   "execution_count": 23,
   "id": "f2271452-10d4-4583-aaaf-f864cdb6ad1b",
   "metadata": {
    "tags": []
   },
   "outputs": [
    {
     "data": {
      "text/html": [
       "<div>\n",
       "<style scoped>\n",
       "    .dataframe tbody tr th:only-of-type {\n",
       "        vertical-align: middle;\n",
       "    }\n",
       "\n",
       "    .dataframe tbody tr th {\n",
       "        vertical-align: top;\n",
       "    }\n",
       "\n",
       "    .dataframe thead th {\n",
       "        text-align: right;\n",
       "    }\n",
       "</style>\n",
       "<table border=\"1\" class=\"dataframe\">\n",
       "  <thead>\n",
       "    <tr style=\"text-align: right;\">\n",
       "      <th></th>\n",
       "      <th>planting date1</th>\n",
       "      <th>planting date2</th>\n",
       "      <th>planting date3</th>\n",
       "      <th>planting date4</th>\n",
       "      <th>planting date5</th>\n",
       "      <th>planting date6</th>\n",
       "      <th>initial planting density (m-2)1</th>\n",
       "      <th>initial planting density (m-2)2</th>\n",
       "      <th>initial planting density (m-2)3</th>\n",
       "      <th>initial planting density (m-2)4</th>\n",
       "      <th>...</th>\n",
       "      <th>seeding depth (m)3</th>\n",
       "      <th>seeding depth (m)4</th>\n",
       "      <th>seeding depth (m)5</th>\n",
       "      <th>seeding depth (m)6</th>\n",
       "      <th>initial bulk density (Mg m-3,0=water)</th>\n",
       "      <th>sand contents (kg Mg-1)</th>\n",
       "      <th>silt contents (kg Mg-1)</th>\n",
       "      <th>rock fraction</th>\n",
       "      <th>ph</th>\n",
       "      <th>SOC (kg Mg-1)</th>\n",
       "    </tr>\n",
       "  </thead>\n",
       "  <tbody>\n",
       "    <tr>\n",
       "      <th>0</th>\n",
       "      <td>14052001</td>\n",
       "      <td>20052002</td>\n",
       "      <td>13052003</td>\n",
       "      <td>2062004</td>\n",
       "      <td>26042005</td>\n",
       "      <td>11052006</td>\n",
       "      <td>6.2</td>\n",
       "      <td>37.1</td>\n",
       "      <td>6.5</td>\n",
       "      <td>37.1</td>\n",
       "      <td>...</td>\n",
       "      <td>0.020</td>\n",
       "      <td>0.020</td>\n",
       "      <td>0.020</td>\n",
       "      <td>0.020</td>\n",
       "      <td>1.268333</td>\n",
       "      <td>79.583333</td>\n",
       "      <td>656.083333</td>\n",
       "      <td>0.0</td>\n",
       "      <td>6.013333</td>\n",
       "      <td>13.341667</td>\n",
       "    </tr>\n",
       "    <tr>\n",
       "      <th>1</th>\n",
       "      <td>14052001</td>\n",
       "      <td>20052002</td>\n",
       "      <td>13052003</td>\n",
       "      <td>2062004</td>\n",
       "      <td>26042005</td>\n",
       "      <td>11052006</td>\n",
       "      <td>6.2</td>\n",
       "      <td>37.1</td>\n",
       "      <td>6.5</td>\n",
       "      <td>37.1</td>\n",
       "      <td>...</td>\n",
       "      <td>0.020</td>\n",
       "      <td>0.020</td>\n",
       "      <td>0.020</td>\n",
       "      <td>0.020</td>\n",
       "      <td>1.268333</td>\n",
       "      <td>79.583333</td>\n",
       "      <td>656.083333</td>\n",
       "      <td>0.0</td>\n",
       "      <td>6.013333</td>\n",
       "      <td>13.341667</td>\n",
       "    </tr>\n",
       "    <tr>\n",
       "      <th>2</th>\n",
       "      <td>14052001</td>\n",
       "      <td>20052002</td>\n",
       "      <td>13052003</td>\n",
       "      <td>2062004</td>\n",
       "      <td>26042005</td>\n",
       "      <td>11052006</td>\n",
       "      <td>6.2</td>\n",
       "      <td>37.1</td>\n",
       "      <td>6.5</td>\n",
       "      <td>37.1</td>\n",
       "      <td>...</td>\n",
       "      <td>0.020</td>\n",
       "      <td>0.020</td>\n",
       "      <td>0.020</td>\n",
       "      <td>0.020</td>\n",
       "      <td>1.268333</td>\n",
       "      <td>79.583333</td>\n",
       "      <td>656.083333</td>\n",
       "      <td>0.0</td>\n",
       "      <td>6.013333</td>\n",
       "      <td>13.341667</td>\n",
       "    </tr>\n",
       "    <tr>\n",
       "      <th>3</th>\n",
       "      <td>14052001</td>\n",
       "      <td>20052002</td>\n",
       "      <td>13052003</td>\n",
       "      <td>2062004</td>\n",
       "      <td>26042005</td>\n",
       "      <td>11052006</td>\n",
       "      <td>6.2</td>\n",
       "      <td>37.1</td>\n",
       "      <td>6.5</td>\n",
       "      <td>37.1</td>\n",
       "      <td>...</td>\n",
       "      <td>0.020</td>\n",
       "      <td>0.020</td>\n",
       "      <td>0.020</td>\n",
       "      <td>0.020</td>\n",
       "      <td>1.268333</td>\n",
       "      <td>79.583333</td>\n",
       "      <td>656.083333</td>\n",
       "      <td>0.0</td>\n",
       "      <td>6.013333</td>\n",
       "      <td>13.341667</td>\n",
       "    </tr>\n",
       "    <tr>\n",
       "      <th>4</th>\n",
       "      <td>14052001</td>\n",
       "      <td>20052002</td>\n",
       "      <td>13052003</td>\n",
       "      <td>2062004</td>\n",
       "      <td>26042005</td>\n",
       "      <td>11052006</td>\n",
       "      <td>6.2</td>\n",
       "      <td>37.1</td>\n",
       "      <td>6.5</td>\n",
       "      <td>37.1</td>\n",
       "      <td>...</td>\n",
       "      <td>0.020</td>\n",
       "      <td>0.020</td>\n",
       "      <td>0.020</td>\n",
       "      <td>0.020</td>\n",
       "      <td>1.268333</td>\n",
       "      <td>79.583333</td>\n",
       "      <td>656.083333</td>\n",
       "      <td>0.0</td>\n",
       "      <td>6.013333</td>\n",
       "      <td>13.341667</td>\n",
       "    </tr>\n",
       "    <tr>\n",
       "      <th>...</th>\n",
       "      <td>...</td>\n",
       "      <td>...</td>\n",
       "      <td>...</td>\n",
       "      <td>...</td>\n",
       "      <td>...</td>\n",
       "      <td>...</td>\n",
       "      <td>...</td>\n",
       "      <td>...</td>\n",
       "      <td>...</td>\n",
       "      <td>...</td>\n",
       "      <td>...</td>\n",
       "      <td>...</td>\n",
       "      <td>...</td>\n",
       "      <td>...</td>\n",
       "      <td>...</td>\n",
       "      <td>...</td>\n",
       "      <td>...</td>\n",
       "      <td>...</td>\n",
       "      <td>...</td>\n",
       "      <td>...</td>\n",
       "      <td>...</td>\n",
       "    </tr>\n",
       "    <tr>\n",
       "      <th>2917</th>\n",
       "      <td>18051998</td>\n",
       "      <td>21051999</td>\n",
       "      <td>29052000</td>\n",
       "      <td>26042001</td>\n",
       "      <td>22052002</td>\n",
       "      <td>21052003</td>\n",
       "      <td>6.6</td>\n",
       "      <td>37.5</td>\n",
       "      <td>6.6</td>\n",
       "      <td>250.0</td>\n",
       "      <td>...</td>\n",
       "      <td>0.025</td>\n",
       "      <td>0.025</td>\n",
       "      <td>0.025</td>\n",
       "      <td>0.025</td>\n",
       "      <td>1.288000</td>\n",
       "      <td>350.000000</td>\n",
       "      <td>341.400000</td>\n",
       "      <td>0.0</td>\n",
       "      <td>6.640000</td>\n",
       "      <td>9.585000</td>\n",
       "    </tr>\n",
       "    <tr>\n",
       "      <th>2918</th>\n",
       "      <td>18051998</td>\n",
       "      <td>21051999</td>\n",
       "      <td>29052000</td>\n",
       "      <td>26042001</td>\n",
       "      <td>22052002</td>\n",
       "      <td>21052003</td>\n",
       "      <td>6.6</td>\n",
       "      <td>37.5</td>\n",
       "      <td>6.6</td>\n",
       "      <td>250.0</td>\n",
       "      <td>...</td>\n",
       "      <td>0.025</td>\n",
       "      <td>0.025</td>\n",
       "      <td>0.025</td>\n",
       "      <td>0.025</td>\n",
       "      <td>1.288000</td>\n",
       "      <td>350.000000</td>\n",
       "      <td>341.400000</td>\n",
       "      <td>0.0</td>\n",
       "      <td>6.640000</td>\n",
       "      <td>9.585000</td>\n",
       "    </tr>\n",
       "    <tr>\n",
       "      <th>2919</th>\n",
       "      <td>18051998</td>\n",
       "      <td>21051999</td>\n",
       "      <td>29052000</td>\n",
       "      <td>26042001</td>\n",
       "      <td>22052002</td>\n",
       "      <td>21052003</td>\n",
       "      <td>6.6</td>\n",
       "      <td>37.5</td>\n",
       "      <td>6.6</td>\n",
       "      <td>250.0</td>\n",
       "      <td>...</td>\n",
       "      <td>0.025</td>\n",
       "      <td>0.025</td>\n",
       "      <td>0.025</td>\n",
       "      <td>0.025</td>\n",
       "      <td>1.288000</td>\n",
       "      <td>350.000000</td>\n",
       "      <td>341.400000</td>\n",
       "      <td>0.0</td>\n",
       "      <td>6.640000</td>\n",
       "      <td>9.585000</td>\n",
       "    </tr>\n",
       "    <tr>\n",
       "      <th>2920</th>\n",
       "      <td>18051998</td>\n",
       "      <td>21051999</td>\n",
       "      <td>29052000</td>\n",
       "      <td>26042001</td>\n",
       "      <td>22052002</td>\n",
       "      <td>21052003</td>\n",
       "      <td>6.6</td>\n",
       "      <td>37.5</td>\n",
       "      <td>6.6</td>\n",
       "      <td>250.0</td>\n",
       "      <td>...</td>\n",
       "      <td>0.025</td>\n",
       "      <td>0.025</td>\n",
       "      <td>0.025</td>\n",
       "      <td>0.025</td>\n",
       "      <td>1.288000</td>\n",
       "      <td>350.000000</td>\n",
       "      <td>341.400000</td>\n",
       "      <td>0.0</td>\n",
       "      <td>6.640000</td>\n",
       "      <td>9.585000</td>\n",
       "    </tr>\n",
       "    <tr>\n",
       "      <th>2921</th>\n",
       "      <td>18051998</td>\n",
       "      <td>21051999</td>\n",
       "      <td>29052000</td>\n",
       "      <td>26042001</td>\n",
       "      <td>22052002</td>\n",
       "      <td>21052003</td>\n",
       "      <td>6.6</td>\n",
       "      <td>37.5</td>\n",
       "      <td>6.6</td>\n",
       "      <td>250.0</td>\n",
       "      <td>...</td>\n",
       "      <td>0.025</td>\n",
       "      <td>0.025</td>\n",
       "      <td>0.025</td>\n",
       "      <td>0.025</td>\n",
       "      <td>1.288000</td>\n",
       "      <td>350.000000</td>\n",
       "      <td>341.400000</td>\n",
       "      <td>0.0</td>\n",
       "      <td>6.640000</td>\n",
       "      <td>9.585000</td>\n",
       "    </tr>\n",
       "  </tbody>\n",
       "</table>\n",
       "<p>8766 rows × 24 columns</p>\n",
       "</div>"
      ],
      "text/plain": [
       "      planting date1  planting date2  planting date3  planting date4  \\\n",
       "0           14052001        20052002        13052003         2062004   \n",
       "1           14052001        20052002        13052003         2062004   \n",
       "2           14052001        20052002        13052003         2062004   \n",
       "3           14052001        20052002        13052003         2062004   \n",
       "4           14052001        20052002        13052003         2062004   \n",
       "...              ...             ...             ...             ...   \n",
       "2917        18051998        21051999        29052000        26042001   \n",
       "2918        18051998        21051999        29052000        26042001   \n",
       "2919        18051998        21051999        29052000        26042001   \n",
       "2920        18051998        21051999        29052000        26042001   \n",
       "2921        18051998        21051999        29052000        26042001   \n",
       "\n",
       "      planting date5  planting date6  initial planting density (m-2)1  \\\n",
       "0           26042005        11052006                              6.2   \n",
       "1           26042005        11052006                              6.2   \n",
       "2           26042005        11052006                              6.2   \n",
       "3           26042005        11052006                              6.2   \n",
       "4           26042005        11052006                              6.2   \n",
       "...              ...             ...                              ...   \n",
       "2917        22052002        21052003                              6.6   \n",
       "2918        22052002        21052003                              6.6   \n",
       "2919        22052002        21052003                              6.6   \n",
       "2920        22052002        21052003                              6.6   \n",
       "2921        22052002        21052003                              6.6   \n",
       "\n",
       "      initial planting density (m-2)2  initial planting density (m-2)3  \\\n",
       "0                                37.1                              6.5   \n",
       "1                                37.1                              6.5   \n",
       "2                                37.1                              6.5   \n",
       "3                                37.1                              6.5   \n",
       "4                                37.1                              6.5   \n",
       "...                               ...                              ...   \n",
       "2917                             37.5                              6.6   \n",
       "2918                             37.5                              6.6   \n",
       "2919                             37.5                              6.6   \n",
       "2920                             37.5                              6.6   \n",
       "2921                             37.5                              6.6   \n",
       "\n",
       "      initial planting density (m-2)4  ...  seeding depth (m)3  \\\n",
       "0                                37.1  ...               0.020   \n",
       "1                                37.1  ...               0.020   \n",
       "2                                37.1  ...               0.020   \n",
       "3                                37.1  ...               0.020   \n",
       "4                                37.1  ...               0.020   \n",
       "...                               ...  ...                 ...   \n",
       "2917                            250.0  ...               0.025   \n",
       "2918                            250.0  ...               0.025   \n",
       "2919                            250.0  ...               0.025   \n",
       "2920                            250.0  ...               0.025   \n",
       "2921                            250.0  ...               0.025   \n",
       "\n",
       "      seeding depth (m)4  seeding depth (m)5  seeding depth (m)6  \\\n",
       "0                  0.020               0.020               0.020   \n",
       "1                  0.020               0.020               0.020   \n",
       "2                  0.020               0.020               0.020   \n",
       "3                  0.020               0.020               0.020   \n",
       "4                  0.020               0.020               0.020   \n",
       "...                  ...                 ...                 ...   \n",
       "2917               0.025               0.025               0.025   \n",
       "2918               0.025               0.025               0.025   \n",
       "2919               0.025               0.025               0.025   \n",
       "2920               0.025               0.025               0.025   \n",
       "2921               0.025               0.025               0.025   \n",
       "\n",
       "      initial bulk density (Mg m-3,0=water)   sand contents (kg Mg-1)  \\\n",
       "0                                   1.268333                79.583333   \n",
       "1                                   1.268333                79.583333   \n",
       "2                                   1.268333                79.583333   \n",
       "3                                   1.268333                79.583333   \n",
       "4                                   1.268333                79.583333   \n",
       "...                                      ...                      ...   \n",
       "2917                                1.288000               350.000000   \n",
       "2918                                1.288000               350.000000   \n",
       "2919                                1.288000               350.000000   \n",
       "2920                                1.288000               350.000000   \n",
       "2921                                1.288000               350.000000   \n",
       "\n",
       "      silt contents (kg Mg-1)  rock fraction        ph  SOC (kg Mg-1)  \n",
       "0                  656.083333            0.0  6.013333      13.341667  \n",
       "1                  656.083333            0.0  6.013333      13.341667  \n",
       "2                  656.083333            0.0  6.013333      13.341667  \n",
       "3                  656.083333            0.0  6.013333      13.341667  \n",
       "4                  656.083333            0.0  6.013333      13.341667  \n",
       "...                       ...            ...       ...            ...  \n",
       "2917               341.400000            0.0  6.640000       9.585000  \n",
       "2918               341.400000            0.0  6.640000       9.585000  \n",
       "2919               341.400000            0.0  6.640000       9.585000  \n",
       "2920               341.400000            0.0  6.640000       9.585000  \n",
       "2921               341.400000            0.0  6.640000       9.585000  \n",
       "\n",
       "[8766 rows x 24 columns]"
      ]
     },
     "execution_count": 23,
     "metadata": {},
     "output_type": "execute_result"
    }
   ],
   "source": [
    "plant_soil_df"
   ]
  },
  {
   "cell_type": "code",
   "execution_count": 5,
   "id": "76406745-533f-4c6c-9822-f1c8b0ec02b2",
   "metadata": {
    "tags": []
   },
   "outputs": [],
   "source": [
    "y = df_final['NEE'].copy()\n",
    "x = df_final.drop(['NEE', 'DATE'], axis=1)"
   ]
  },
  {
   "cell_type": "code",
   "execution_count": 6,
   "id": "f5a22b8e-d1d7-4641-a1b4-480b87e05286",
   "metadata": {
    "tags": []
   },
   "outputs": [],
   "source": [
    "X_train, X_test, y_train, y_test = train_test_split(\n",
    "   x, y, test_size=0.33, random_state=41)"
   ]
  },
  {
   "cell_type": "code",
   "execution_count": 22,
   "id": "f61ac377-3b2a-4cec-8259-d6bc4f794200",
   "metadata": {
    "tags": []
   },
   "outputs": [
    {
     "ename": "KeyError",
     "evalue": "'planting_date1'",
     "output_type": "error",
     "traceback": [
      "\u001b[0;31m---------------------------------------------------------------------------\u001b[0m",
      "\u001b[0;31mKeyError\u001b[0m                                  Traceback (most recent call last)",
      "File \u001b[0;32m~/miniconda3/envs/ecosys/lib/python3.9/site-packages/pandas/core/indexes/base.py:3802\u001b[0m, in \u001b[0;36mIndex.get_loc\u001b[0;34m(self, key, method, tolerance)\u001b[0m\n\u001b[1;32m   3801\u001b[0m \u001b[38;5;28;01mtry\u001b[39;00m:\n\u001b[0;32m-> 3802\u001b[0m     \u001b[38;5;28;01mreturn\u001b[39;00m \u001b[38;5;28;43mself\u001b[39;49m\u001b[38;5;241;43m.\u001b[39;49m\u001b[43m_engine\u001b[49m\u001b[38;5;241;43m.\u001b[39;49m\u001b[43mget_loc\u001b[49m\u001b[43m(\u001b[49m\u001b[43mcasted_key\u001b[49m\u001b[43m)\u001b[49m\n\u001b[1;32m   3803\u001b[0m \u001b[38;5;28;01mexcept\u001b[39;00m \u001b[38;5;167;01mKeyError\u001b[39;00m \u001b[38;5;28;01mas\u001b[39;00m err:\n",
      "File \u001b[0;32m~/miniconda3/envs/ecosys/lib/python3.9/site-packages/pandas/_libs/index.pyx:138\u001b[0m, in \u001b[0;36mpandas._libs.index.IndexEngine.get_loc\u001b[0;34m()\u001b[0m\n",
      "File \u001b[0;32m~/miniconda3/envs/ecosys/lib/python3.9/site-packages/pandas/_libs/index.pyx:165\u001b[0m, in \u001b[0;36mpandas._libs.index.IndexEngine.get_loc\u001b[0;34m()\u001b[0m\n",
      "File \u001b[0;32mpandas/_libs/hashtable_class_helper.pxi:5745\u001b[0m, in \u001b[0;36mpandas._libs.hashtable.PyObjectHashTable.get_item\u001b[0;34m()\u001b[0m\n",
      "File \u001b[0;32mpandas/_libs/hashtable_class_helper.pxi:5753\u001b[0m, in \u001b[0;36mpandas._libs.hashtable.PyObjectHashTable.get_item\u001b[0;34m()\u001b[0m\n",
      "\u001b[0;31mKeyError\u001b[0m: 'planting_date1'",
      "\nThe above exception was the direct cause of the following exception:\n",
      "\u001b[0;31mKeyError\u001b[0m                                  Traceback (most recent call last)",
      "Cell \u001b[0;32mIn[22], line 1\u001b[0m\n\u001b[0;32m----> 1\u001b[0m \u001b[43mx\u001b[49m\u001b[43m[\u001b[49m\u001b[38;5;124;43m'\u001b[39;49m\u001b[38;5;124;43mplanting_date1\u001b[39;49m\u001b[38;5;124;43m'\u001b[39;49m\u001b[43m]\u001b[49m\n",
      "File \u001b[0;32m~/miniconda3/envs/ecosys/lib/python3.9/site-packages/pandas/core/frame.py:3807\u001b[0m, in \u001b[0;36mDataFrame.__getitem__\u001b[0;34m(self, key)\u001b[0m\n\u001b[1;32m   3805\u001b[0m \u001b[38;5;28;01mif\u001b[39;00m \u001b[38;5;28mself\u001b[39m\u001b[38;5;241m.\u001b[39mcolumns\u001b[38;5;241m.\u001b[39mnlevels \u001b[38;5;241m>\u001b[39m \u001b[38;5;241m1\u001b[39m:\n\u001b[1;32m   3806\u001b[0m     \u001b[38;5;28;01mreturn\u001b[39;00m \u001b[38;5;28mself\u001b[39m\u001b[38;5;241m.\u001b[39m_getitem_multilevel(key)\n\u001b[0;32m-> 3807\u001b[0m indexer \u001b[38;5;241m=\u001b[39m \u001b[38;5;28;43mself\u001b[39;49m\u001b[38;5;241;43m.\u001b[39;49m\u001b[43mcolumns\u001b[49m\u001b[38;5;241;43m.\u001b[39;49m\u001b[43mget_loc\u001b[49m\u001b[43m(\u001b[49m\u001b[43mkey\u001b[49m\u001b[43m)\u001b[49m\n\u001b[1;32m   3808\u001b[0m \u001b[38;5;28;01mif\u001b[39;00m is_integer(indexer):\n\u001b[1;32m   3809\u001b[0m     indexer \u001b[38;5;241m=\u001b[39m [indexer]\n",
      "File \u001b[0;32m~/miniconda3/envs/ecosys/lib/python3.9/site-packages/pandas/core/indexes/base.py:3804\u001b[0m, in \u001b[0;36mIndex.get_loc\u001b[0;34m(self, key, method, tolerance)\u001b[0m\n\u001b[1;32m   3802\u001b[0m     \u001b[38;5;28;01mreturn\u001b[39;00m \u001b[38;5;28mself\u001b[39m\u001b[38;5;241m.\u001b[39m_engine\u001b[38;5;241m.\u001b[39mget_loc(casted_key)\n\u001b[1;32m   3803\u001b[0m \u001b[38;5;28;01mexcept\u001b[39;00m \u001b[38;5;167;01mKeyError\u001b[39;00m \u001b[38;5;28;01mas\u001b[39;00m err:\n\u001b[0;32m-> 3804\u001b[0m     \u001b[38;5;28;01mraise\u001b[39;00m \u001b[38;5;167;01mKeyError\u001b[39;00m(key) \u001b[38;5;28;01mfrom\u001b[39;00m \u001b[38;5;21;01merr\u001b[39;00m\n\u001b[1;32m   3805\u001b[0m \u001b[38;5;28;01mexcept\u001b[39;00m \u001b[38;5;167;01mTypeError\u001b[39;00m:\n\u001b[1;32m   3806\u001b[0m     \u001b[38;5;66;03m# If we have a listlike key, _check_indexing_error will raise\u001b[39;00m\n\u001b[1;32m   3807\u001b[0m     \u001b[38;5;66;03m#  InvalidIndexError. Otherwise we fall through and re-raise\u001b[39;00m\n\u001b[1;32m   3808\u001b[0m     \u001b[38;5;66;03m#  the TypeError.\u001b[39;00m\n\u001b[1;32m   3809\u001b[0m     \u001b[38;5;28mself\u001b[39m\u001b[38;5;241m.\u001b[39m_check_indexing_error(key)\n",
      "\u001b[0;31mKeyError\u001b[0m: 'planting_date1'"
     ]
    }
   ],
   "source": [
    "x['planting_date1']"
   ]
  },
  {
   "cell_type": "markdown",
   "id": "01a81b30-b313-403e-9dc8-70c674c6cfa0",
   "metadata": {},
   "source": [
    "RANDOM FOREST"
   ]
  },
  {
   "cell_type": "code",
   "execution_count": null,
   "id": "c8c5f313-d3f5-4083-9823-08660e5f6627",
   "metadata": {
    "tags": []
   },
   "outputs": [],
   "source": [
    "min_features_to_select = 1  # Minimum number of features to consider\n",
    "\n",
    "cv = RepeatedKFold(n_splits=10, n_repeats=1, random_state=1)\n",
    "clf = RandomForestRegressor(criterion = \"absolute_error\", random_state =1)\n",
    "\n",
    "rfecv = RFECV(\n",
    "    estimator=clf,\n",
    "    step=1,\n",
    "    cv=cv,\n",
    "    scoring=\"neg_mean_squared_error\",\n",
    "    min_features_to_select=min_features_to_select,\n",
    "    n_jobs=2,\n",
    ")\n",
    "rfecv.fit(X_train, y_train)\n",
    "\n",
    "print(f\"Optimal number of features: {rfecv.n_features_}\")"
   ]
  },
  {
   "cell_type": "markdown",
   "id": "3daa15a4-98bd-4a98-bc03-dcb44ee019b2",
   "metadata": {},
   "source": [
    "XGBOOST"
   ]
  },
  {
   "cell_type": "code",
   "execution_count": 27,
   "id": "65a0deb6-6f21-472c-b529-d18957f23f94",
   "metadata": {
    "tags": []
   },
   "outputs": [
    {
     "name": "stdout",
     "output_type": "stream",
     "text": [
      "Optimal number of features: 11\n"
     ]
    }
   ],
   "source": [
    "min_features_to_select = 1  # Minimum number of features to consider\n",
    "\n",
    "cv = RepeatedKFold(n_splits=10, n_repeats=1, random_state=1)\n",
    "reg = xg.XGBRegressor(objective ='reg:squarederror',\n",
    "                  n_estimators = 10, seed = 123)\n",
    "\n",
    "rfecv = RFECV(\n",
    "    estimator=reg,\n",
    "    step=1,\n",
    "    cv=cv,\n",
    "    scoring=\"r2\",\n",
    "    min_features_to_select=min_features_to_select,\n",
    "    n_jobs=2,\n",
    ")\n",
    "\n",
    "rfecv.fit(X_train, y_train)\n",
    "\n",
    "print(f\"Optimal number of features: {rfecv.n_features_}\")"
   ]
  },
  {
   "cell_type": "code",
   "execution_count": 28,
   "id": "295a7fdd-ca6a-49a6-ade6-b76504cd799f",
   "metadata": {
    "tags": []
   },
   "outputs": [],
   "source": [
    "base_estimator = str(rfecv.estimator).split('(')[0]\n",
    "\n",
    "\n",
    "path_to_save = 'feature_analysis/' + 'rcef_'+ base_estimator\n",
    "os.makedirs(path_to_save , exist_ok=True)  "
   ]
  },
  {
   "cell_type": "code",
   "execution_count": 29,
   "id": "6c2af5fd-1ec2-405d-9ca3-d1b5eba5e17d",
   "metadata": {
    "tags": []
   },
   "outputs": [
    {
     "data": {
      "image/png": "[encoded data removed]",
      "text/plain": [
       "<Figure size 700x500 with 1 Axes>"
      ]
     },
     "metadata": {},
     "output_type": "display_data"
    }
   ],
   "source": [
    "n_scores = len(rfecv.cv_results_[\"mean_test_score\"])\n",
    "fig = plt.figure(figsize=(7,5))\n",
    "plt.xlabel(\"Number of features selected\")\n",
    "plt.ylabel(\"Mean test accuracy (R2)\")\n",
    "plt.errorbar(\n",
    "    range(min_features_to_select, n_scores + min_features_to_select),\n",
    "    rfecv.cv_results_[\"mean_test_score\"],\n",
    "    yerr=rfecv.cv_results_[\"std_test_score\"],\n",
    ")\n",
    "plt.title(\"Recursive Feature Elimination with Kfold XGBoost\")\n",
    "plt.show()\n",
    "\n",
    "\n",
    "base_estimator = str(rfecv.estimator).split('(')[0]"
   ]
  },
  {
   "cell_type": "code",
   "execution_count": 31,
   "id": "4b162deb-2e8e-414b-a40e-ed44ec1842d7",
   "metadata": {
    "tags": []
   },
   "outputs": [],
   "source": [
    "fig.savefig(os.path.join(path_to_save, target + '_' + base_estimator ), format='png')"
   ]
  },
  {
   "cell_type": "code",
   "execution_count": 14,
   "id": "2e0178ca-f6a8-4f74-a551-4bccb1af934f",
   "metadata": {
    "tags": []
   },
   "outputs": [],
   "source": [
    "importances = pd.DataFrame({'RANK': rfecv.ranking_}, index=rfecv.feature_names_in_).sort_values(by='RANK', ascending=True)"
   ]
  },
  {
   "cell_type": "code",
   "execution_count": 15,
   "id": "6ef3bee7-da84-422c-9451-5e47be45c32e",
   "metadata": {
    "tags": []
   },
   "outputs": [],
   "source": [
    "importances=importances[importances['RANK'] == 1]"
   ]
  },
  {
   "cell_type": "code",
   "execution_count": 16,
   "id": "e4448aeb-ad66-413e-91cc-b18b0d56a896",
   "metadata": {
    "tags": []
   },
   "outputs": [
    {
     "data": {
      "text/html": [
       "<div>\n",
       "<style scoped>\n",
       "    .dataframe tbody tr th:only-of-type {\n",
       "        vertical-align: middle;\n",
       "    }\n",
       "\n",
       "    .dataframe tbody tr th {\n",
       "        vertical-align: top;\n",
       "    }\n",
       "\n",
       "    .dataframe thead th {\n",
       "        text-align: right;\n",
       "    }\n",
       "</style>\n",
       "<table border=\"1\" class=\"dataframe\">\n",
       "  <thead>\n",
       "    <tr style=\"text-align: right;\">\n",
       "      <th></th>\n",
       "      <th>RANK</th>\n",
       "    </tr>\n",
       "  </thead>\n",
       "  <tbody>\n",
       "    <tr>\n",
       "      <th>DOY</th>\n",
       "      <td>1</td>\n",
       "    </tr>\n",
       "    <tr>\n",
       "      <th>HMAX_AIR</th>\n",
       "      <td>1</td>\n",
       "    </tr>\n",
       "    <tr>\n",
       "      <th>TMIN_AIR</th>\n",
       "      <td>1</td>\n",
       "    </tr>\n",
       "    <tr>\n",
       "      <th>TMAX_SOIL</th>\n",
       "      <td>1</td>\n",
       "    </tr>\n",
       "    <tr>\n",
       "      <th>HMIN_AIR</th>\n",
       "      <td>1</td>\n",
       "    </tr>\n",
       "    <tr>\n",
       "      <th>TMAX_AIR</th>\n",
       "      <td>1</td>\n",
       "    </tr>\n",
       "    <tr>\n",
       "      <th>RADN</th>\n",
       "      <td>1</td>\n",
       "    </tr>\n",
       "    <tr>\n",
       "      <th>WIND</th>\n",
       "      <td>1</td>\n",
       "    </tr>\n",
       "    <tr>\n",
       "      <th>D_W_PRECN</th>\n",
       "      <td>1</td>\n",
       "    </tr>\n",
       "    <tr>\n",
       "      <th>TMIN_SOIL</th>\n",
       "      <td>1</td>\n",
       "    </tr>\n",
       "    <tr>\n",
       "      <th>planting date1</th>\n",
       "      <td>1</td>\n",
       "    </tr>\n",
       "  </tbody>\n",
       "</table>\n",
       "</div>"
      ],
      "text/plain": [
       "                RANK\n",
       "DOY                1\n",
       "HMAX_AIR           1\n",
       "TMIN_AIR           1\n",
       "TMAX_SOIL          1\n",
       "HMIN_AIR           1\n",
       "TMAX_AIR           1\n",
       "RADN               1\n",
       "WIND               1\n",
       "D_W_PRECN          1\n",
       "TMIN_SOIL          1\n",
       "planting date1     1"
      ]
     },
     "execution_count": 16,
     "metadata": {},
     "output_type": "execute_result"
    }
   ],
   "source": [
    "importances"
   ]
  },
  {
   "cell_type": "code",
   "execution_count": 17,
   "id": "6a82df4e-e3cd-4e30-ad1d-76b5d2f3067e",
   "metadata": {
    "tags": []
   },
   "outputs": [],
   "source": [
    "importances.to_csv('feature_analysis/' + 'rcef_' + base_estimator + '/FeaturesImportances' + target + '.csv')  "
   ]
  },
  {
   "cell_type": "code",
   "execution_count": null,
   "id": "23582daa-8f7e-44d4-b48b-9ce5e4453dac",
   "metadata": {
    "tags": []
   },
   "outputs": [],
   "source": [
    "# RMSE Computation\n",
    "rmse = np.sqrt(MSE(y_cool, pred_col))\n",
    "print(\"RMSE : % f\" %(rmse))\n",
    "plt.scatter(pred_col, y_dry)"
   ]
  },
  {
   "cell_type": "code",
   "execution_count": null,
   "id": "0f754a77-0c31-4eec-be36-7b1d63bd0891",
   "metadata": {
    "tags": []
   },
   "outputs": [],
   "source": [
    "for i in range(x.shape[1]):\n",
    " print('Column: %s, Selected %s, Rank: %.3f' % (rfecv.feature_names_in_[i], rfecv.support_[i], rfecv.ranking_[i]))"
   ]
  },
  {
   "cell_type": "code",
   "execution_count": null,
   "id": "96e2573a-7da9-43ba-a3cd-00e70aa9d387",
   "metadata": {},
   "outputs": [],
   "source": []
  }
 ],
 "metadata": {
  "kernelspec": {
   "display_name": "Python 3 (ipykernel)",
   "language": "python",
   "name": "python3"
  },
  "language_info": {
   "codemirror_mode": {
    "name": "ipython",
    "version": 3
   },
   "file_extension": ".py",
   "mimetype": "text/x-python",
   "name": "python",
   "nbconvert_exporter": "python",
   "pygments_lexer": "ipython3",
   "version": "3.9.16"
  }
 },
 "nbformat": 4,
 "nbformat_minor": 5
}
