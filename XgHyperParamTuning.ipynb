{
 "cells": [
  {
   "cell_type": "code",
   "execution_count": 1,
   "id": "96ccd5cc-6a2a-44fb-b27b-17ace4b87d62",
   "metadata": {
    "tags": []
   },
   "outputs": [],
   "source": [
    "import pandas as pd\n",
    "import xgboost as xg\n",
    "from sklearn.model_selection import train_test_split\n",
    "from sklearn.metrics import mean_squared_error as MSE\n",
    "from sklearn import preprocessing\n",
    "import numpy as np\n",
    "import matplotlib.pyplot as plt\n",
    "import os\n",
    "from sklearn.model_selection import RepeatedKFold\n",
    "from functools import reduce\n",
    "from sklearn.model_selection import RandomizedSearchCV, GridSearchCV\n",
    "from sklearn.metrics import make_scorer\n",
    "from sklearn.model_selection import KFold, StratifiedKFold\n",
    "from skopt.callbacks import DeadlineStopper, DeltaYStopper\n",
    "from sklearn.metrics import r2_score as R2\n",
    "from skopt.space import Real, Categorical, Integer\n",
    "from time import time\n",
    "from skopt import BayesSearchCV\n",
    "from functools import partial\n",
    "import pprint\n",
    "\n",
    "import warnings\n",
    "warnings.filterwarnings('ignore')\n",
    "\n",
    "from data_loader import load_datasets, nee_cumulative_to_daily, to_pd"
   ]
  },
  {
   "cell_type": "code",
   "execution_count": 2,
   "id": "fd063cff-af01-485c-9c04-7e4333eb29fc",
   "metadata": {
    "tags": []
   },
   "outputs": [],
   "source": [
    "target = 'NEE'\n",
    "\n",
    "model = ['rcef_RandomForestRegressor', 'rcef_RidgeCV', 'rcef_XGBRegressor', 'xgboost'] \n",
    "\n",
    "extracted_features = model[-1]"
   ]
  },
  {
   "cell_type": "code",
   "execution_count": 3,
   "id": "f1cbc1dc-fd34-4c26-bd0f-f7852f6f6e4f",
   "metadata": {
    "tags": []
   },
   "outputs": [],
   "source": [
    "\n",
    "dirs = ['warm_temp_maize_soybean_irrigated', 'warm_temp_maize-soybean_dryland', 'cool_temp_maize_soybean']\n",
    "\n",
    "datasets = load_datasets(dirs, '/csv_outs/with_plant_soil_details/')\n",
    "\n",
    "df_dry = nee_cumulative_to_daily(to_pd(datasets['warm_temp_maize-soybean_dryland'], True, True))\n",
    "df_irr = nee_cumulative_to_daily(to_pd(datasets['warm_temp_maize_soybean_irrigated'], True, True))\n",
    "df_cool = nee_cumulative_to_daily(to_pd(datasets['cool_temp_maize_soybean'], True, True))\n",
    "\n",
    "df = pd.concat([df_dry,df_irr, df_cool])\n",
    "\n",
    "y = df[target].copy()"
   ]
  },
  {
   "cell_type": "code",
   "execution_count": 4,
   "id": "0beedc87-31d4-4df4-8be9-7f3f54b2e704",
   "metadata": {
    "tags": []
   },
   "outputs": [],
   "source": [
    "xgbFeatImp = pd.read_csv('feature_analysis/xgboost/FeaturesImportance'  + target  + 'weather_soil_data' + '.csv')\n",
    "feat_cols = []\n",
    "for i in range(len(xgbFeatImp.values)):\n",
    "    feat_cols.append(xgbFeatImp.values[i][0])\n",
    "\n",
    "y = df[target].copy()\n",
    "x = df[feat_cols]"
   ]
  },
  {
   "cell_type": "code",
   "execution_count": 5,
   "id": "be5f9ae3-ec40-4638-a41a-f9fab56afb14",
   "metadata": {
    "tags": []
   },
   "outputs": [],
   "source": [
    "observed_df = pd.read_csv('datasets/extractedNEE_CUT_REF_NIGHT.csv')\n",
    "\n",
    "observed_df['initial planting density (m-2)1'] = 8.2\n",
    "observed_df['DOY'] = observed_df['DOY'].astype(int)\n",
    "\n",
    "x_observed = observed_df[feat_cols]\n",
    "y_observed = observed_df['NEE']"
   ]
  },
  {
   "cell_type": "code",
   "execution_count": 6,
   "id": "fe7d4389-f141-45db-a6a2-3e3dc305804f",
   "metadata": {
    "tags": []
   },
   "outputs": [],
   "source": [
    "x_concat = pd.concat([x, x_observed])\n",
    "y_concat = pd.concat([y,y_observed])"
   ]
  },
  {
   "cell_type": "markdown",
   "id": "e9f63503-a651-4051-bd5b-18a27b147c00",
   "metadata": {},
   "source": [
    "#### Normalize using L2 regularization"
   ]
  },
  {
   "cell_type": "code",
   "execution_count": 7,
   "id": "fb947458-7fa1-4e91-96b8-47463e115706",
   "metadata": {
    "tags": []
   },
   "outputs": [],
   "source": [
    "X_train, X_test, y_train, y_test = train_test_split(\n",
    "   x_concat, y_concat, test_size=0.33, random_state=41)"
   ]
  },
  {
   "cell_type": "code",
   "execution_count": 8,
   "id": "ad9355dd-66e3-40d9-982f-5b60cc228d9b",
   "metadata": {
    "tags": []
   },
   "outputs": [],
   "source": [
    "def report_perf(optimizer, X, y, title=\"model\", callbacks=None):\n",
    "    \"\"\"\n",
    "    A wrapper for measuring time and performances of different optmizers\n",
    "    \n",
    "    optimizer = a sklearn or a skopt optimizer\n",
    "    X = the training set \n",
    "    y = our target\n",
    "    title = a string label for the experiment\n",
    "    \"\"\"\n",
    "    start = time()\n",
    "    \n",
    "    if callbacks is not None:\n",
    "        optimizer.fit(X, y, callback=callbacks)\n",
    "    else:\n",
    "        optimizer.fit(X, y)\n",
    "        \n",
    "    d=pd.DataFrame(optimizer.cv_results_)\n",
    "    best_score = optimizer.best_score_\n",
    "    best_score_std = d.iloc[optimizer.best_index_].std_test_score\n",
    "    best_params = optimizer.best_params_\n",
    "    \n",
    "    print((title + \" took %.2f seconds,  candidates checked: %d, best CV score: %.3f \"\n",
    "           + u\"\\u00B1\"+\" %.3f\") % (time() - start, \n",
    "                                   len(optimizer.cv_results_['params']),\n",
    "                                   best_score,\n",
    "                                   best_score_std))    \n",
    "    print('Best parameters:')\n",
    "    pprint.pprint(best_params)\n",
    "    print()\n",
    "    return best_params"
   ]
  },
  {
   "cell_type": "code",
   "execution_count": 9,
   "id": "16a13e99-c4ee-4d08-9bd7-9447dbc4d842",
   "metadata": {
    "tags": []
   },
   "outputs": [],
   "source": [
    "# Setting the scoring function\n",
    "scoring = make_scorer(partial(MSE, squared=False), \n",
    "                      greater_is_better=False)\n"
   ]
  },
  {
   "cell_type": "code",
   "execution_count": 15,
   "id": "17d87e1b-4b3d-4de2-9f1b-c415ec3f7203",
   "metadata": {
    "tags": []
   },
   "outputs": [],
   "source": [
    "# Setting the basic regressor\n",
    "\n",
    "#if gpu available \n",
    "#reg = xg.XGBRegressor(random_state=41, booster='gbtree', objective='reg:squarederror', tree_method='gpu_hist')\n",
    "\n",
    "reg = xg.XGBRegressor(random_state=41, booster='gbtree', objective='reg:squarederror')\n",
    "cv = RepeatedKFold(n_splits=10, n_repeats=1, random_state=1)\n",
    "\n",
    "# Setting the search space\n",
    "search_spaces = {'learning_rate': Real(0.01, 1.0, 'uniform'),\n",
    "                 'max_depth': Integer(2, 12),\n",
    "                 'subsample': Real(0.1, 1.0, 'uniform'),\n",
    "                 'colsample_bytree': Real(0.1, 1.0, 'uniform'), # subsample ratio of columns by tree\n",
    "                 'reg_lambda': Real(1e-9, 100., 'uniform'), # L2 regularization\n",
    "                 'reg_alpha': Real(1e-9, 100., 'uniform'), # L1 regularization\n",
    "                 'n_estimators': Integer(50, 5000)\n",
    "   }"
   ]
  },
  {
   "cell_type": "markdown",
   "id": "99f4c2be-3d44-46d2-a838-28c5dfddc2d7",
   "metadata": {},
   "source": [
    "### Bayesian optimiser"
   ]
  },
  {
   "cell_type": "code",
   "execution_count": 16,
   "id": "bee3ce4f-8217-4ee5-8e31-098d23767c01",
   "metadata": {
    "tags": []
   },
   "outputs": [],
   "source": [
    "#fix deprecated stuff*\n",
    "np.int = np.int64"
   ]
  },
  {
   "cell_type": "code",
   "execution_count": null,
   "id": "6677e301-a8a6-4ebc-9dde-f619eaff8226",
   "metadata": {
    "tags": []
   },
   "outputs": [],
   "source": [
    "# Wrapping everything up into the Bayesian optimizer\n",
    "opt = BayesSearchCV(estimator=reg,                                    \n",
    "                    search_spaces=search_spaces,                      \n",
    "                    scoring=scoring,                                  \n",
    "                    cv=cv,                                           \n",
    "                    n_iter=120,                                       # max number of trials\n",
    "                    n_points=1,                                       # number of hyperparameter sets evaluated at the same time\n",
    "                    n_jobs=1,                                         # number of jobs\n",
    "                    iid=False,                                        # if not iid it optimizes on the cv score\n",
    "                    return_train_score=False,                         \n",
    "                    refit=False,                                      \n",
    "                    optimizer_kwargs={'base_estimator': 'GP'},        # optmizer parameters: we use Gaussian Process (GP)\n",
    "                    random_state=41)                                   # random state for replicability\n",
    "\n",
    "# Running the optimizer\n",
    "overdone_control = DeltaYStopper(delta=0.0001)                    # We stop if the gain of the optimization becomes too small\n",
    "time_limit_control = DeadlineStopper(total_time=60*60*4)          # We impose a time limit (7 hours)\n",
    "\n",
    "best_params = report_perf(opt,x_concat, y_concat, 'XGBoost_regression', \n",
    "                          callbacks=[overdone_control, time_limit_control])"
   ]
  },
  {
   "cell_type": "code",
   "execution_count": null,
   "id": "d755f3ba-a450-4288-9e25-f20bca245430",
   "metadata": {
    "tags": []
   },
   "outputs": [],
   "source": [
    "# Transferring the best parameters to our basic regressor\n",
    "reg =xg.XGBRegressor(random_state=0, booster='gbtree', objective='reg:squarederror', **best_params)"
   ]
  },
  {
   "cell_type": "code",
   "execution_count": null,
   "id": "e576ca9d-9629-4a73-8e06-beaa6e7fcdca",
   "metadata": {
    "tags": []
   },
   "outputs": [],
   "source": [
    "reg.fit(X_train, y_train)"
   ]
  },
  {
   "cell_type": "code",
   "execution_count": null,
   "id": "76641b05-9095-480e-9349-0940fa4c914a",
   "metadata": {
    "tags": []
   },
   "outputs": [],
   "source": [
    "# Predict the model\n",
    "pred = reg.predict(X_test)"
   ]
  },
  {
   "cell_type": "code",
   "execution_count": null,
   "id": "c3a06a83-c64d-4f2d-a994-1cf735401dfa",
   "metadata": {
    "tags": []
   },
   "outputs": [],
   "source": [
    "# Calculate R2 score\n",
    "r2 = R2(y_test, pred)\n",
    "\n",
    "rmse = np.sqrt(MSE(y_test, pred))\n",
    "print(\"RMSE : % f\" %(rmse))\n",
    "\n",
    "# Create scatter plot\n",
    "plt.scatter(y_test, pred)\n",
    "\n",
    "# Plot a red line for perfect accuracy\n",
    "x = np.linspace(min(y_test), max(y_test), 100)\n",
    "plt.plot(x, x, color='r')\n",
    "\n",
    "# Add title and legend\n",
    "plt.title(\"XGB Predicted \" + target +  \" using bayesian pretrained, grid search fine tuned xgb model  (R2 = %0.2f  RMSE  = %0.4f)\" %  (r2, rmse))\n",
    "plt.legend(['Predictions', 'Perfect accuracy'], loc='upper left')\n",
    "plt.xlabel(\"Predicted NEE g C m-2 day-1\")\n",
    "plt.ylabel(\"Observed NEE g C m-2 day-1\")\n",
    "\n",
    "#plt.savefig(\"results/bayesian pretrained, grid search fine tuned xgb model  \" + target + \"with_planting_details.png\" )\n",
    "# Show plot\n",
    "plt.show()"
   ]
  },
  {
   "cell_type": "code",
   "execution_count": null,
   "id": "6c9023e7-47ad-4382-a692-8ed2c43528db",
   "metadata": {
    "tags": []
   },
   "outputs": [
    {
     "data": {
      "image/png": "[encoded data removed]",
      "text/plain": [
       "<Figure size 800x640 with 1 Axes>"
      ]
     },
     "metadata": {},
     "output_type": "display_data"
    }
   ],
   "source": [
    "importances = pd.DataFrame({'GINI': reg.feature_importances_}, index=X_train.columns).sort_values(by='GINI', ascending=True)\n",
    "\n",
    "# Create a horizontal bar chart\n",
    "plt.figure(figsize=(10, 8), dpi=80)\n",
    "plt.barh(importances.index, importances['GINI'])\n",
    "\n",
    "# Add title and axis labels\n",
    "plt.title('Feature Importance - Gini Index, NEE g C m-2 day-1')\n",
    "plt.xlabel('Gini Index')\n",
    "plt.ylabel('Feature')\n",
    "\n",
    "plt.savefig('results/HyperParamFeatureImportanceGiniIndex' + target + \"with_planting_details.png\")\n",
    "# Show the plot\n",
    "plt.show()"
   ]
  },
  {
   "cell_type": "code",
   "execution_count": 21,
   "id": "277d9cb3-f9b7-4185-a275-b58fc987d836",
   "metadata": {
    "tags": []
   },
   "outputs": [],
   "source": [
    "import pickle\n",
    "file_name = \"models/observed_data.pkl\"\n",
    "\n",
    "# save\n",
    "pickle.dump(reg, open(file_name, \"wb\"))\n",
    "reg.save_model('models/simulated_with_daily_nee.json')"
   ]
  },
  {
   "cell_type": "code",
   "execution_count": 8,
   "id": "f5b68e9e-049a-4831-9fe7-ade8be694ac1",
   "metadata": {
    "tags": []
   },
   "outputs": [],
   "source": [
    "hyper_params = ['colsample_bytree','learning_rate','max_depth','reg_alpha','reg_lambda','subsample']"
   ]
  },
  {
   "cell_type": "code",
   "execution_count": null,
   "id": "5de30a0f-6ae2-4776-a775-baca4fc447cc",
   "metadata": {},
   "outputs": [],
   "source": [
    "simulated_xg = xg.XGBRegressor()\n",
    "simulated_xg.load_model(\"models/xgb_reg.json\")"
   ]
  },
  {
   "cell_type": "code",
   "execution_count": null,
   "id": "4120a437-b880-410c-89ff-77622c58c707",
   "metadata": {
    "tags": []
   },
   "outputs": [],
   "source": [
    "X_train_sim, X_test_sim, y_train_sim, y_test_sim = train_test_split(\n",
    "   x, y, test_size=0.33, random_state=41)"
   ]
  },
  {
   "cell_type": "code",
   "execution_count": 19,
   "id": "9128413f-0e55-4b1d-ab2c-3579f17dd287",
   "metadata": {
    "tags": []
   },
   "outputs": [],
   "source": [
    "X_train_obs, X_test_obs, y_train_obs, y_test_obs = train_test_split(\n",
    "   x_observed, y_observed, test_size=0.33, random_state=41)"
   ]
  },
  {
   "cell_type": "code",
   "execution_count": 20,
   "id": "e6ac2221-79ad-47d2-841a-b190d21105a3",
   "metadata": {
    "tags": []
   },
   "outputs": [
    {
     "data": {
      "text/html": [
       "<div>\n",
       "<style scoped>\n",
       "    .dataframe tbody tr th:only-of-type {\n",
       "        vertical-align: middle;\n",
       "    }\n",
       "\n",
       "    .dataframe tbody tr th {\n",
       "        vertical-align: top;\n",
       "    }\n",
       "\n",
       "    .dataframe thead th {\n",
       "        text-align: right;\n",
       "    }\n",
       "</style>\n",
       "<table border=\"1\" class=\"dataframe\">\n",
       "  <thead>\n",
       "    <tr style=\"text-align: right;\">\n",
       "      <th></th>\n",
       "      <th>TMAX_AIR</th>\n",
       "      <th>TMAX_SOIL</th>\n",
       "      <th>TMIN_AIR</th>\n",
       "      <th>D_W_PRECN</th>\n",
       "      <th>WIND</th>\n",
       "      <th>HMAX_AIR</th>\n",
       "      <th>HMIN_AIR</th>\n",
       "      <th>TMIN_SOIL</th>\n",
       "      <th>RADN</th>\n",
       "      <th>initial planting density (m-2)1</th>\n",
       "      <th>DOY</th>\n",
       "    </tr>\n",
       "  </thead>\n",
       "  <tbody>\n",
       "    <tr>\n",
       "      <th>1313</th>\n",
       "      <td>0.016805</td>\n",
       "      <td>0.000537</td>\n",
       "      <td>0.017947</td>\n",
       "      <td>0.042794</td>\n",
       "      <td>0.007042</td>\n",
       "      <td>0.016914</td>\n",
       "      <td>0.018908</td>\n",
       "      <td>0.000502</td>\n",
       "      <td>0.014573</td>\n",
       "      <td>0.012417</td>\n",
       "      <td>0.011016</td>\n",
       "    </tr>\n",
       "    <tr>\n",
       "      <th>1883</th>\n",
       "      <td>0.000540</td>\n",
       "      <td>0.000090</td>\n",
       "      <td>-0.014976</td>\n",
       "      <td>0.000000</td>\n",
       "      <td>0.009074</td>\n",
       "      <td>0.004553</td>\n",
       "      <td>0.001832</td>\n",
       "      <td>0.000069</td>\n",
       "      <td>0.010760</td>\n",
       "      <td>0.009389</td>\n",
       "      <td>0.002913</td>\n",
       "    </tr>\n",
       "    <tr>\n",
       "      <th>1057</th>\n",
       "      <td>0.007622</td>\n",
       "      <td>-0.018448</td>\n",
       "      <td>0.008098</td>\n",
       "      <td>0.000162</td>\n",
       "      <td>0.007092</td>\n",
       "      <td>0.009505</td>\n",
       "      <td>0.010939</td>\n",
       "      <td>0.018514</td>\n",
       "      <td>0.004663</td>\n",
       "      <td>0.009995</td>\n",
       "      <td>0.016536</td>\n",
       "    </tr>\n",
       "    <tr>\n",
       "      <th>730</th>\n",
       "      <td>0.003199</td>\n",
       "      <td>0.000118</td>\n",
       "      <td>-0.005845</td>\n",
       "      <td>0.000000</td>\n",
       "      <td>0.007870</td>\n",
       "      <td>0.005571</td>\n",
       "      <td>0.003943</td>\n",
       "      <td>0.000083</td>\n",
       "      <td>0.004677</td>\n",
       "      <td>0.009389</td>\n",
       "      <td>0.018512</td>\n",
       "    </tr>\n",
       "    <tr>\n",
       "      <th>1331</th>\n",
       "      <td>0.018660</td>\n",
       "      <td>0.000529</td>\n",
       "      <td>0.018991</td>\n",
       "      <td>0.000000</td>\n",
       "      <td>0.006589</td>\n",
       "      <td>0.019404</td>\n",
       "      <td>0.020280</td>\n",
       "      <td>0.000495</td>\n",
       "      <td>0.013208</td>\n",
       "      <td>0.012417</td>\n",
       "      <td>0.011928</td>\n",
       "    </tr>\n",
       "    <tr>\n",
       "      <th>...</th>\n",
       "      <td>...</td>\n",
       "      <td>...</td>\n",
       "      <td>...</td>\n",
       "      <td>...</td>\n",
       "      <td>...</td>\n",
       "      <td>...</td>\n",
       "      <td>...</td>\n",
       "      <td>...</td>\n",
       "      <td>...</td>\n",
       "      <td>...</td>\n",
       "      <td>...</td>\n",
       "    </tr>\n",
       "    <tr>\n",
       "      <th>2669</th>\n",
       "      <td>0.011405</td>\n",
       "      <td>-0.018386</td>\n",
       "      <td>0.004468</td>\n",
       "      <td>0.000000</td>\n",
       "      <td>0.004607</td>\n",
       "      <td>0.007021</td>\n",
       "      <td>0.008091</td>\n",
       "      <td>0.018478</td>\n",
       "      <td>0.015015</td>\n",
       "      <td>0.009995</td>\n",
       "      <td>0.005699</td>\n",
       "    </tr>\n",
       "    <tr>\n",
       "      <th>2278</th>\n",
       "      <td>0.005118</td>\n",
       "      <td>0.000246</td>\n",
       "      <td>-0.001899</td>\n",
       "      <td>0.000162</td>\n",
       "      <td>0.025748</td>\n",
       "      <td>0.006073</td>\n",
       "      <td>0.005398</td>\n",
       "      <td>0.000120</td>\n",
       "      <td>0.011044</td>\n",
       "      <td>0.012417</td>\n",
       "      <td>0.004382</td>\n",
       "    </tr>\n",
       "    <tr>\n",
       "      <th>1144</th>\n",
       "      <td>-0.006643</td>\n",
       "      <td>0.000077</td>\n",
       "      <td>-0.021008</td>\n",
       "      <td>0.000000</td>\n",
       "      <td>0.004885</td>\n",
       "      <td>0.001732</td>\n",
       "      <td>0.001069</td>\n",
       "      <td>0.000056</td>\n",
       "      <td>0.010312</td>\n",
       "      <td>0.012417</td>\n",
       "      <td>0.002457</td>\n",
       "    </tr>\n",
       "    <tr>\n",
       "      <th>931</th>\n",
       "      <td>0.019761</td>\n",
       "      <td>0.000758</td>\n",
       "      <td>0.022749</td>\n",
       "      <td>0.000000</td>\n",
       "      <td>0.009606</td>\n",
       "      <td>0.019323</td>\n",
       "      <td>0.018608</td>\n",
       "      <td>0.000625</td>\n",
       "      <td>0.015596</td>\n",
       "      <td>0.009389</td>\n",
       "      <td>0.010155</td>\n",
       "    </tr>\n",
       "    <tr>\n",
       "      <th>1984</th>\n",
       "      <td>0.018103</td>\n",
       "      <td>0.000647</td>\n",
       "      <td>0.018150</td>\n",
       "      <td>0.000000</td>\n",
       "      <td>0.017449</td>\n",
       "      <td>0.016751</td>\n",
       "      <td>0.016790</td>\n",
       "      <td>0.000537</td>\n",
       "      <td>0.017731</td>\n",
       "      <td>0.009389</td>\n",
       "      <td>0.008028</td>\n",
       "    </tr>\n",
       "  </tbody>\n",
       "</table>\n",
       "<p>5873 rows × 11 columns</p>\n",
       "</div>"
      ],
      "text/plain": [
       "      TMAX_AIR  TMAX_SOIL  TMIN_AIR  D_W_PRECN      WIND  HMAX_AIR  HMIN_AIR  \\\n",
       "1313  0.016805   0.000537  0.017947   0.042794  0.007042  0.016914  0.018908   \n",
       "1883  0.000540   0.000090 -0.014976   0.000000  0.009074  0.004553  0.001832   \n",
       "1057  0.007622  -0.018448  0.008098   0.000162  0.007092  0.009505  0.010939   \n",
       "730   0.003199   0.000118 -0.005845   0.000000  0.007870  0.005571  0.003943   \n",
       "1331  0.018660   0.000529  0.018991   0.000000  0.006589  0.019404  0.020280   \n",
       "...        ...        ...       ...        ...       ...       ...       ...   \n",
       "2669  0.011405  -0.018386  0.004468   0.000000  0.004607  0.007021  0.008091   \n",
       "2278  0.005118   0.000246 -0.001899   0.000162  0.025748  0.006073  0.005398   \n",
       "1144 -0.006643   0.000077 -0.021008   0.000000  0.004885  0.001732  0.001069   \n",
       "931   0.019761   0.000758  0.022749   0.000000  0.009606  0.019323  0.018608   \n",
       "1984  0.018103   0.000647  0.018150   0.000000  0.017449  0.016751  0.016790   \n",
       "\n",
       "      TMIN_SOIL      RADN  initial planting density (m-2)1       DOY  \n",
       "1313   0.000502  0.014573                         0.012417  0.011016  \n",
       "1883   0.000069  0.010760                         0.009389  0.002913  \n",
       "1057   0.018514  0.004663                         0.009995  0.016536  \n",
       "730    0.000083  0.004677                         0.009389  0.018512  \n",
       "1331   0.000495  0.013208                         0.012417  0.011928  \n",
       "...         ...       ...                              ...       ...  \n",
       "2669   0.018478  0.015015                         0.009995  0.005699  \n",
       "2278   0.000120  0.011044                         0.012417  0.004382  \n",
       "1144   0.000056  0.010312                         0.012417  0.002457  \n",
       "931    0.000625  0.015596                         0.009389  0.010155  \n",
       "1984   0.000537  0.017731                         0.009389  0.008028  \n",
       "\n",
       "[5873 rows x 11 columns]"
      ]
     },
     "execution_count": 20,
     "metadata": {},
     "output_type": "execute_result"
    }
   ],
   "source": [
    "X_train_sim"
   ]
  },
  {
   "cell_type": "code",
   "execution_count": 24,
   "id": "23edb72f-9fd8-4217-9c44-d2bb2c735033",
   "metadata": {
    "tags": []
   },
   "outputs": [],
   "source": [
    "X_train = pd.concat([X_train_sim, X_train_obs])\n",
    "X_test = pd.concat([X_test_sim, X_test_obs])\n",
    "Y_train = pd.concat([y_train_sim, y_train_obs])\n",
    "Y_test = pd.concat([y_test_sim, y_test_obs])"
   ]
  },
  {
   "cell_type": "code",
   "execution_count": 27,
   "id": "eb5ddeb2-afe6-4023-bffa-dad4d781b300",
   "metadata": {
    "tags": []
   },
   "outputs": [],
   "source": [
    "reg = xg.XGBRegressor()\n",
    "reg.load_model(\"models/bayesian_pretrain_gridsearch_fine_tune_xgb.json\")"
   ]
  },
  {
   "cell_type": "code",
   "execution_count": 11,
   "id": "c996a6a1-6827-4342-ba26-6830418ae571",
   "metadata": {
    "tags": []
   },
   "outputs": [],
   "source": [
    "cross_val_params = {}\n",
    "\n",
    "for param in hyper_params:\n",
    "    sim_par = simulated_xg.get_xgb_params()[param]\n",
    "    obs_par = observed_xg.get_xgb_params()[param]\n",
    "    if (sim_par == obs_par):\n",
    "        cross_val_params[param] = [sim_par]\n",
    "    else:\n",
    "        cross_val_params[param] = [sim_par,obs_par]\n",
    "        \n",
    "sim_n = simulated_xg.get_params(deep=True)['n_estimators']\n",
    "obs_n = observed_xg.get_params(deep=True)['n_estimators']\n",
    "\n",
    "if (sim_n==obs_n):\n",
    "    cross_val_params['n_estimators'] = [sim_n]\n",
    "else:\n",
    "    cross_val_params['n_estimators'] = [sim_n, obs_par]"
   ]
  },
  {
   "cell_type": "code",
   "execution_count": 17,
   "id": "a4e9ff13-1599-465b-8c1d-e773a478f430",
   "metadata": {
    "tags": []
   },
   "outputs": [
    {
     "name": "stdout",
     "output_type": "stream",
     "text": [
      "model took 1093.59 seconds,  candidates checked: 16, best CV score: -0.004 ± 0.004\n",
      "Best parameters:\n",
      "{'colsample_bytree': 1.0,\n",
      " 'learning_rate': 0.01,\n",
      " 'max_depth': 12,\n",
      " 'n_estimators': 5000,\n",
      " 'reg_alpha': 1e-09,\n",
      " 'reg_lambda': 100.0,\n",
      " 'subsample': 0.7282316492848115}\n",
      "\n"
     ]
    }
   ],
   "source": [
    "reg = xg.XGBRegressor(random_state=41, booster='gbtree', objective='reg:squarederror')\n",
    "\n",
    "grid_search = GridSearchCV(estimator=reg, \n",
    "                           param_grid=cross_val_params, \n",
    "                           scoring=scoring, \n",
    "                           refit=False, \n",
    "                           n_jobs=-1, \n",
    "                           cv=cv,  \n",
    "                           verbose=0)\n",
    "\n",
    "best_params = report_perf(grid_search, x_merged, y_merged)"
   ]
  },
  {
   "cell_type": "code",
   "execution_count": 18,
   "id": "1afeada7-3778-4194-bde2-1293b2049d79",
   "metadata": {
    "tags": []
   },
   "outputs": [],
   "source": [
    "# Transferring the best parameters to our basic regressor\n",
    "reg =xg.XGBRegressor(random_state=0, booster='gbtree', objective='reg:squarederror', **best_params)"
   ]
  },
  {
   "cell_type": "code",
   "execution_count": null,
   "id": "2b58bc96-76a0-4ad0-8ee9-cffb0b96b90e",
   "metadata": {},
   "outputs": [],
   "source": [
    "reg = xg.XGBRegressor()\n",
    "reg.load_model(\"models/observed_data.json\")"
   ]
  },
  {
   "cell_type": "code",
   "execution_count": 28,
   "id": "f097e88b-64b9-4f18-8cfa-fe4db23ebe15",
   "metadata": {
    "tags": []
   },
   "outputs": [
    {
     "data": {
      "text/html": [
       "<style>#sk-container-id-1 {color: black;background-color: white;}#sk-container-id-1 pre{padding: 0;}#sk-container-id-1 div.sk-toggleable {background-color: white;}#sk-container-id-1 label.sk-toggleable__label {cursor: pointer;display: block;width: 100%;margin-bottom: 0;padding: 0.3em;box-sizing: border-box;text-align: center;}#sk-container-id-1 label.sk-toggleable__label-arrow:before {content: \"▸\";float: left;margin-right: 0.25em;color: #696969;}#sk-container-id-1 label.sk-toggleable__label-arrow:hover:before {color: black;}#sk-container-id-1 div.sk-estimator:hover label.sk-toggleable__label-arrow:before {color: black;}#sk-container-id-1 div.sk-toggleable__content {max-height: 0;max-width: 0;overflow: hidden;text-align: left;background-color: #f0f8ff;}#sk-container-id-1 div.sk-toggleable__content pre {margin: 0.2em;color: black;border-radius: 0.25em;background-color: #f0f8ff;}#sk-container-id-1 input.sk-toggleable__control:checked~div.sk-toggleable__content {max-height: 200px;max-width: 100%;overflow: auto;}#sk-container-id-1 input.sk-toggleable__control:checked~label.sk-toggleable__label-arrow:before {content: \"▾\";}#sk-container-id-1 div.sk-estimator input.sk-toggleable__control:checked~label.sk-toggleable__label {background-color: #d4ebff;}#sk-container-id-1 div.sk-label input.sk-toggleable__control:checked~label.sk-toggleable__label {background-color: #d4ebff;}#sk-container-id-1 input.sk-hidden--visually {border: 0;clip: rect(1px 1px 1px 1px);clip: rect(1px, 1px, 1px, 1px);height: 1px;margin: -1px;overflow: hidden;padding: 0;position: absolute;width: 1px;}#sk-container-id-1 div.sk-estimator {font-family: monospace;background-color: #f0f8ff;border: 1px dotted black;border-radius: 0.25em;box-sizing: border-box;margin-bottom: 0.5em;}#sk-container-id-1 div.sk-estimator:hover {background-color: #d4ebff;}#sk-container-id-1 div.sk-parallel-item::after {content: \"\";width: 100%;border-bottom: 1px solid gray;flex-grow: 1;}#sk-container-id-1 div.sk-label:hover label.sk-toggleable__label {background-color: #d4ebff;}#sk-container-id-1 div.sk-serial::before {content: \"\";position: absolute;border-left: 1px solid gray;box-sizing: border-box;top: 0;bottom: 0;left: 50%;z-index: 0;}#sk-container-id-1 div.sk-serial {display: flex;flex-direction: column;align-items: center;background-color: white;padding-right: 0.2em;padding-left: 0.2em;position: relative;}#sk-container-id-1 div.sk-item {position: relative;z-index: 1;}#sk-container-id-1 div.sk-parallel {display: flex;align-items: stretch;justify-content: center;background-color: white;position: relative;}#sk-container-id-1 div.sk-item::before, #sk-container-id-1 div.sk-parallel-item::before {content: \"\";position: absolute;border-left: 1px solid gray;box-sizing: border-box;top: 0;bottom: 0;left: 50%;z-index: -1;}#sk-container-id-1 div.sk-parallel-item {display: flex;flex-direction: column;z-index: 1;position: relative;background-color: white;}#sk-container-id-1 div.sk-parallel-item:first-child::after {align-self: flex-end;width: 50%;}#sk-container-id-1 div.sk-parallel-item:last-child::after {align-self: flex-start;width: 50%;}#sk-container-id-1 div.sk-parallel-item:only-child::after {width: 0;}#sk-container-id-1 div.sk-dashed-wrapped {border: 1px dashed gray;margin: 0 0.4em 0.5em 0.4em;box-sizing: border-box;padding-bottom: 0.4em;background-color: white;}#sk-container-id-1 div.sk-label label {font-family: monospace;font-weight: bold;display: inline-block;line-height: 1.2em;}#sk-container-id-1 div.sk-label-container {text-align: center;}#sk-container-id-1 div.sk-container {/* jupyter's `normalize.less` sets `[hidden] { display: none; }` but bootstrap.min.css set `[hidden] { display: none !important; }` so we also need the `!important` here to be able to override the default hidden behavior on the sphinx rendered scikit-learn.org. See: https://github.com/scikit-learn/scikit-learn/issues/21755 */display: inline-block !important;position: relative;}#sk-container-id-1 div.sk-text-repr-fallback {display: none;}</style><div id=\"sk-container-id-1\" class=\"sk-top-container\"><div class=\"sk-text-repr-fallback\"><pre>XGBRegressor(base_score=None, booster=&#x27;gbtree&#x27;, callbacks=None,\n",
       "             colsample_bylevel=None, colsample_bynode=None,\n",
       "             colsample_bytree=1.0, early_stopping_rounds=None,\n",
       "             enable_categorical=False, eval_metric=None,\n",
       "             feature_types=[&#x27;float&#x27;, &#x27;float&#x27;, &#x27;float&#x27;, &#x27;float&#x27;, &#x27;float&#x27;,\n",
       "                            &#x27;float&#x27;, &#x27;float&#x27;, &#x27;float&#x27;, &#x27;float&#x27;, &#x27;float&#x27;,\n",
       "                            &#x27;float&#x27;],\n",
       "             gamma=None, gpu_id=None, grow_policy=None, importance_type=None,\n",
       "             interaction_constraints=None, learning_rate=0.01, max_bin=None,\n",
       "             max_cat_threshold=None, max_cat_to_onehot=None,\n",
       "             max_delta_step=None, max_depth=12, max_leaves=None,\n",
       "             min_child_weight=None, missing=nan, monotone_constraints=None,\n",
       "             n_estimators=5000, n_jobs=None, num_parallel_tree=None,\n",
       "             predictor=None, random_state=0, ...)</pre><b>In a Jupyter environment, please rerun this cell to show the HTML representation or trust the notebook. <br />On GitHub, the HTML representation is unable to render, please try loading this page with nbviewer.org.</b></div><div class=\"sk-container\" hidden><div class=\"sk-item\"><div class=\"sk-estimator sk-toggleable\"><input class=\"sk-toggleable__control sk-hidden--visually\" id=\"sk-estimator-id-1\" type=\"checkbox\" checked><label for=\"sk-estimator-id-1\" class=\"sk-toggleable__label sk-toggleable__label-arrow\">XGBRegressor</label><div class=\"sk-toggleable__content\"><pre>XGBRegressor(base_score=None, booster=&#x27;gbtree&#x27;, callbacks=None,\n",
       "             colsample_bylevel=None, colsample_bynode=None,\n",
       "             colsample_bytree=1.0, early_stopping_rounds=None,\n",
       "             enable_categorical=False, eval_metric=None,\n",
       "             feature_types=[&#x27;float&#x27;, &#x27;float&#x27;, &#x27;float&#x27;, &#x27;float&#x27;, &#x27;float&#x27;,\n",
       "                            &#x27;float&#x27;, &#x27;float&#x27;, &#x27;float&#x27;, &#x27;float&#x27;, &#x27;float&#x27;,\n",
       "                            &#x27;float&#x27;],\n",
       "             gamma=None, gpu_id=None, grow_policy=None, importance_type=None,\n",
       "             interaction_constraints=None, learning_rate=0.01, max_bin=None,\n",
       "             max_cat_threshold=None, max_cat_to_onehot=None,\n",
       "             max_delta_step=None, max_depth=12, max_leaves=None,\n",
       "             min_child_weight=None, missing=nan, monotone_constraints=None,\n",
       "             n_estimators=5000, n_jobs=None, num_parallel_tree=None,\n",
       "             predictor=None, random_state=0, ...)</pre></div></div></div></div></div>"
      ],
      "text/plain": [
       "XGBRegressor(base_score=None, booster='gbtree', callbacks=None,\n",
       "             colsample_bylevel=None, colsample_bynode=None,\n",
       "             colsample_bytree=1.0, early_stopping_rounds=None,\n",
       "             enable_categorical=False, eval_metric=None,\n",
       "             feature_types=['float', 'float', 'float', 'float', 'float',\n",
       "                            'float', 'float', 'float', 'float', 'float',\n",
       "                            'float'],\n",
       "             gamma=None, gpu_id=None, grow_policy=None, importance_type=None,\n",
       "             interaction_constraints=None, learning_rate=0.01, max_bin=None,\n",
       "             max_cat_threshold=None, max_cat_to_onehot=None,\n",
       "             max_delta_step=None, max_depth=12, max_leaves=None,\n",
       "             min_child_weight=None, missing=nan, monotone_constraints=None,\n",
       "             n_estimators=5000, n_jobs=None, num_parallel_tree=None,\n",
       "             predictor=None, random_state=0, ...)"
      ]
     },
     "execution_count": 28,
     "metadata": {},
     "output_type": "execute_result"
    }
   ],
   "source": [
    "reg.fit(X_train, Y_train)"
   ]
  },
  {
   "cell_type": "code",
   "execution_count": 29,
   "id": "cd2166ce-6bca-446d-97d5-cb6dad123ad2",
   "metadata": {
    "tags": []
   },
   "outputs": [],
   "source": [
    "# Predict the model\n",
    "pred = reg.predict(X_test)"
   ]
  },
  {
   "cell_type": "code",
   "execution_count": 33,
   "id": "c6c0f8a7-3524-483f-b9f9-f6de7b33269a",
   "metadata": {
    "tags": []
   },
   "outputs": [
    {
     "name": "stdout",
     "output_type": "stream",
     "text": [
      "RMSE :  0.002163\n"
     ]
    },
    {
     "data": {
      "image/png": "[encoded data removed]",
      "text/plain": [
       "<Figure size 640x480 with 1 Axes>"
      ]
     },
     "metadata": {},
     "output_type": "display_data"
    }
   ],
   "source": [
    "# Calculate R2 score\n",
    "r2 = R2(Y_test, pred)\n",
    "\n",
    "rmse = np.sqrt(MSE(Y_test, pred))\n",
    "print(\"RMSE : % f\" %(rmse))\n",
    "\n",
    "# Create scatter plot\n",
    "plt.scatter(Y_test, pred)\n",
    "\n",
    "# Plot a red line for perfect accuracy\n",
    "x = np.linspace(min(Y_test), max(Y_test), 100)\n",
    "plt.plot(x, x, color='r')\n",
    "\n",
    "# Add title and legend\n",
    "plt.title(\"XGB Predicted \" + target +  \" using bayesian pretrained, grid search fine tuned xgb model  (R2 = %0.2f  RMSE  = %0.4f)\" %  (r2, rmse))\n",
    "plt.legend(['Predictions', 'Perfect accuracy'], loc='upper left')\n",
    "plt.xlabel(\"Predicted NEE g C m-2 day-1\")\n",
    "plt.ylabel(\"Observed NEE g C m-2 day-1\")\n",
    "\n",
    "plt.savefig(\"results/bayesian pretrained, grid search fine tuned xgb model  \" + target + \"with_planting_details.png\" )\n",
    "# Show plot\n",
    "plt.show()"
   ]
  },
  {
   "cell_type": "code",
   "execution_count": 34,
   "id": "0b6a1823-2dbc-4bf1-b23f-386d0fa9c8f4",
   "metadata": {
    "tags": []
   },
   "outputs": [
    {
     "data": {
      "image/png": "[encoded data removed]",
      "text/plain": [
       "<Figure size 800x640 with 1 Axes>"
      ]
     },
     "metadata": {},
     "output_type": "display_data"
    }
   ],
   "source": [
    "importances = pd.DataFrame({'GINI': reg.feature_importances_}, index=X_train.columns).sort_values(by='GINI', ascending=True)\n",
    "\n",
    "# Create a horizontal bar chart\n",
    "plt.figure(figsize=(10, 8), dpi=80)\n",
    "plt.barh(importances.index, importances['GINI'])\n",
    "\n",
    "# Add title and axis labels\n",
    "plt.title('Feature Importance - Gini Index, target: NEE')\n",
    "plt.xlabel('Gini Index')\n",
    "plt.ylabel('Feature')\n",
    "\n",
    "plt.savefig('results/featureImpBayesianpretrainedgridsearchfinetunedxgbmodel' + target + \"with_planting_details.png\")\n",
    "# Show the plot\n",
    "plt.show()"
   ]
  },
  {
   "cell_type": "code",
   "execution_count": 34,
   "id": "13c94c31-b892-4846-96ba-9bd041fa60c7",
   "metadata": {
    "tags": []
   },
   "outputs": [],
   "source": [
    "import pickle\n",
    "file_name = \"models/bayesian_pretrain_gridsearch_fine_tune_xgb.pkl\"\n",
    "\n",
    "# save\n",
    "pickle.dump(reg, open(file_name, \"wb\"))\n",
    "reg.save_model('models/bayesian_pretrain_gridsearch_fine_tune_xgb.json')"
   ]
  }
 ],
 "metadata": {
  "kernelspec": {
   "display_name": "Python 3 (ipykernel)",
   "language": "python",
   "name": "python3"
  },
  "language_info": {
   "codemirror_mode": {
    "name": "ipython",
    "version": 3
   },
   "file_extension": ".py",
   "mimetype": "text/x-python",
   "name": "python",
   "nbconvert_exporter": "python",
   "pygments_lexer": "ipython3",
   "version": "3.9.16"
  }
 },
 "nbformat": 4,
 "nbformat_minor": 5
}
